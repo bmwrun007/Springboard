{
 "cells": [
  {
   "cell_type": "markdown",
   "metadata": {
    "deletable": true,
    "editable": true
   },
   "source": [
    "\n",
    "# What is the True Normal Human Body Temperature? \n",
    "\n",
    "#### Background\n",
    "\n",
    "The mean normal body temperature was held to be 37$^{\\circ}$C or 98.6$^{\\circ}$F for more than 120 years since it was first conceptualized and reported by Carl Wunderlich in a famous 1868 book. But, is this value statistically correct?"
   ]
  },
  {
   "cell_type": "markdown",
   "metadata": {
    "deletable": true,
    "editable": true
   },
   "source": [
    "<p>In this exercise, you will analyze a dataset of human body temperatures and employ the concepts of hypothesis testing, confidence intervals, and statistical significance.</p>\n",
    "\n",
    "<p>Answer the following questions <b>in this notebook below and submit to your Github account</b>.</p> \n",
    "\n",
    "<ol>\n",
    "<li>  Is the distribution of body temperatures normal? \n",
    "    <ul>\n",
    "    <li> Although this is not a requirement for CLT to hold (read CLT carefully), it gives us some peace of mind that the population may also be normally distributed if we assume that this sample is representative of the population.\n",
    "    </ul>\n",
    "<li>  Is the sample size large? Are the observations independent?\n",
    "    <ul>\n",
    "    <li> Remember that this is a condition for the CLT, and hence the statistical tests we are using, to apply.\n",
    "    </ul>\n",
    "<li>  Is the true population mean really 98.6 degrees F?\n",
    "    <ul>\n",
    "    <li> Would you use a one-sample or two-sample test? Why?\n",
    "    <li> In this situation, is it appropriate to use the $t$ or $z$ statistic? \n",
    "    <li> Now try using the other test. How is the result be different? Why?\n",
    "    </ul>\n",
    "<li>  At what temperature should we consider someone's temperature to be \"abnormal\"?\n",
    "    <ul>\n",
    "    <li> Start by computing the margin of error and confidence interval.\n",
    "    </ul>\n",
    "<li>  Is there a significant difference between males and females in normal temperature?\n",
    "    <ul>\n",
    "    <li> What test did you use and why?\n",
    "    <li> Write a story with your conclusion in the context of the original problem.\n",
    "    </ul>\n",
    "</ol>"
   ]
  },
  {
   "cell_type": "code",
   "execution_count": 1,
   "metadata": {
    "collapsed": true,
    "deletable": true,
    "editable": true
   },
   "outputs": [],
   "source": [
    "import pandas as pd\n",
    "import scipy.stats as sp\n",
    "import matplotlib.pyplot as plt\n",
    "import math\n",
    "\n",
    "df = pd.read_csv('data/human_body_temperature.csv')"
   ]
  },
  {
   "cell_type": "code",
   "execution_count": 2,
   "metadata": {
    "collapsed": false,
    "deletable": true,
    "editable": true
   },
   "outputs": [
    {
     "data": {
      "text/html": [
       "<div>\n",
       "<table border=\"1\" class=\"dataframe\">\n",
       "  <thead>\n",
       "    <tr style=\"text-align: right;\">\n",
       "      <th></th>\n",
       "      <th>temperature</th>\n",
       "      <th>gender</th>\n",
       "      <th>heart_rate</th>\n",
       "    </tr>\n",
       "  </thead>\n",
       "  <tbody>\n",
       "    <tr>\n",
       "      <th>0</th>\n",
       "      <td>99.3</td>\n",
       "      <td>F</td>\n",
       "      <td>68.0</td>\n",
       "    </tr>\n",
       "    <tr>\n",
       "      <th>1</th>\n",
       "      <td>98.4</td>\n",
       "      <td>F</td>\n",
       "      <td>81.0</td>\n",
       "    </tr>\n",
       "    <tr>\n",
       "      <th>2</th>\n",
       "      <td>97.8</td>\n",
       "      <td>M</td>\n",
       "      <td>73.0</td>\n",
       "    </tr>\n",
       "    <tr>\n",
       "      <th>3</th>\n",
       "      <td>99.2</td>\n",
       "      <td>F</td>\n",
       "      <td>66.0</td>\n",
       "    </tr>\n",
       "    <tr>\n",
       "      <th>4</th>\n",
       "      <td>98.0</td>\n",
       "      <td>F</td>\n",
       "      <td>73.0</td>\n",
       "    </tr>\n",
       "  </tbody>\n",
       "</table>\n",
       "</div>"
      ],
      "text/plain": [
       "   temperature gender  heart_rate\n",
       "0         99.3      F        68.0\n",
       "1         98.4      F        81.0\n",
       "2         97.8      M        73.0\n",
       "3         99.2      F        66.0\n",
       "4         98.0      F        73.0"
      ]
     },
     "execution_count": 2,
     "metadata": {},
     "output_type": "execute_result"
    }
   ],
   "source": [
    "df.head()"
   ]
  },
  {
   "cell_type": "markdown",
   "metadata": {
    "collapsed": false,
    "deletable": true,
    "editable": true
   },
   "source": [
    "##### Question 1: Is the distribution of body temperatures normal?\n",
    "**Answer 1:** There are various statistical tests in existance that can tell, with some degree of certainty, whether a sample of data points was gathered from a probability distribution that is normally distributed. These are generally known as Normality tests [Wikipedia: Normality tests](https://en.wikipedia.org/wiki/Normality_test). I decided to use the Shapiro-Wilk test to analyze the provided data. The null hypothesis for the test is that the data points are being sampled from a normal distribution. The test returns a Shapiro-Wilk statistic, and a $p$-value. The $p$-value signifies the chance that the sample points could have been gathered from a normal distribution. Thus, if a $p$-value is small (let's call the significance level 5%), then we would reject the null hypothesis and say that the samples were not derived from a normal distribution."
   ]
  },
  {
   "cell_type": "code",
   "execution_count": 3,
   "metadata": {
    "collapsed": false,
    "deletable": true,
    "editable": true
   },
   "outputs": [
    {
     "data": {
      "text/plain": [
       "(0.9865769743919373, 0.2331680953502655)"
      ]
     },
     "execution_count": 3,
     "metadata": {},
     "output_type": "execute_result"
    }
   ],
   "source": [
    "(W, pvalue) = sp.shapiro(df['temperature']); (W, pvalue)"
   ]
  },
  {
   "cell_type": "markdown",
   "metadata": {
    "deletable": true,
    "editable": true
   },
   "source": [
    "In this case, the $p$-value is greater than the level needed for rejection, so we unable to reject the null hypothesis. That is to say, we are unable to say that these points are not being sampled from a normal distribution. For good measure, we can also use another normality test based on D'Agostino and Pearson's test [Scipy Normaltest function](https://docs.scipy.org/doc/scipy/reference/generated/scipy.stats.normaltest.html#r549). It again uses a null hypothesis that the data points are being sampled from a normal distribution."
   ]
  },
  {
   "cell_type": "code",
   "execution_count": 4,
   "metadata": {
    "collapsed": false,
    "deletable": true,
    "editable": true
   },
   "outputs": [
    {
     "data": {
      "text/plain": [
       "(2.7038014333192031, 0.2587479863488254)"
      ]
     },
     "execution_count": 4,
     "metadata": {},
     "output_type": "execute_result"
    }
   ],
   "source": [
    "(X, pvalue2) = sp.normaltest(df['temperature']); (X, pvalue2)"
   ]
  },
  {
   "cell_type": "markdown",
   "metadata": {
    "deletable": true,
    "editable": true
   },
   "source": [
    "Again, the $p$-value is large enough that we are unable to reject the null hypothesis. It is possible, if not likely, that this distribution came from a normal distribution. We can also plot the distribution of our data to get a general feel of what it looks like.\n",
    "\n"
   ]
  },
  {
   "cell_type": "code",
   "execution_count": 5,
   "metadata": {
    "collapsed": false,
    "deletable": true,
    "editable": true,
    "scrolled": true
   },
   "outputs": [
    {
     "data": {
      "image/png": "[encoded data removed]",
      "text/plain": [
       "<matplotlib.figure.Figure at 0xb325710>"
      ]
     },
     "metadata": {},
     "output_type": "display_data"
    }
   ],
   "source": [
    "plt.hist(df['temperature'], normed=True, bins=15)\n",
    "plt.show()"
   ]
  },
  {
   "cell_type": "markdown",
   "metadata": {
    "deletable": true,
    "editable": true
   },
   "source": [
    "As expected, it has the general shape of a normally distributed curve. It is not particularly smooth, but this can be attributed to not having a plethora of data points. \n",
    "\n",
    "##### Question 2: Is the sample size large? Are the observations independent?\n",
    "\n",
    "**Answer 2:** The sample is 'large' in the sense that it is large enough to use a $z$-test, meaning we are able to assume that the sampling distribution of the sampling mean are approximately normally distributed. The 'rule of thumb' is that this assumption can be made with a sample size larger than 30."
   ]
  },
  {
   "cell_type": "markdown",
   "metadata": {
    "deletable": true,
    "editable": true
   },
   "source": [
    "#####  Question 3a.) Is the true population mean really 98.6 degrees F? 3b.) Would you use a one-sample or two-sample test? Why? 3c.) In this situation, is it appropriate to use the  $t$ or  $z$  statistic? 3d.) Now try using the other test. How is the result be different? Why?"
   ]
  },
  {
   "cell_type": "markdown",
   "metadata": {
    "deletable": true,
    "editable": true
   },
   "source": [
    "**Answer 3a.):** First, let's see what the mean of the sample is."
   ]
  },
  {
   "cell_type": "code",
   "execution_count": 6,
   "metadata": {
    "collapsed": false,
    "deletable": true,
    "editable": true
   },
   "outputs": [
    {
     "data": {
      "text/plain": [
       "98.24923076923078"
      ]
     },
     "execution_count": 6,
     "metadata": {},
     "output_type": "execute_result"
    }
   ],
   "source": [
    "df['temperature'].mean()"
   ]
  },
  {
   "cell_type": "markdown",
   "metadata": {
    "deletable": true,
    "editable": true
   },
   "source": [
    "This is certainly not 98.6, but it's possible that the mean of the underlying distribution could actually be 98.6, and that by chance we made a sample that had a mean of 98.25 instead. We can create a statistical test (specifically a $z$-test) to test for this. Let's say that the null hypothesis is that the mean of the sampling distribution is indeed 98.6, and that the alternate hypothesis is that it is not 98.6. Let's also define a threshold for rejection of the null hypothesis at 5%, meaning that if, given the null hypothesis, there was a 5% chance or less that we could have sampled data in the manner that we did, then we will reject the null hypothesis and declare that the mean of the sampling distribution is unlikely to be 98.6. We will create a $z$-statistic using the mean from our null hypothesis, the observed mean from our sample, and the observed standard deviation from our sample. We also want to create a two-tailed test, because we specifically care whether or not the average temperature is 98.6, not whether it is higher or lower than 98.6"
   ]
  },
  {
   "cell_type": "markdown",
   "metadata": {
    "deletable": true,
    "editable": true
   },
   "source": [
    "$z$ = (Mean of sample - Mean of sampling distribution) / (Standard deviation of sample / Square Root of Sample Count)\n",
    "\n",
    "$$ Z = \\frac{\\bar{X} - \\mu}{\\sigma / \\sqrt{n}}$$"
   ]
  },
  {
   "cell_type": "code",
   "execution_count": 7,
   "metadata": {
    "collapsed": false
   },
   "outputs": [
    {
     "data": {
      "text/plain": [
       "0.7331831580389454"
      ]
     },
     "execution_count": 7,
     "metadata": {},
     "output_type": "execute_result"
    }
   ],
   "source": [
    "df['temperature'].std()"
   ]
  },
  {
   "cell_type": "code",
   "execution_count": 8,
   "metadata": {
    "collapsed": false,
    "deletable": true,
    "editable": true
   },
   "outputs": [
    {
     "data": {
      "text/plain": [
       "-5.454823292364079"
      ]
     },
     "execution_count": 8,
     "metadata": {},
     "output_type": "execute_result"
    }
   ],
   "source": [
    "Z = (df['temperature'].mean() - 98.6) / (df['temperature'].std() / math.sqrt(130)); Z"
   ]
  },
  {
   "cell_type": "markdown",
   "metadata": {
    "deletable": true,
    "editable": true
   },
   "source": [
    "If we look this $z$-value up on a $z$-table, it's literally off the charts. It's highly unlikely that our sample distribution of points could have come from a normal distribution where the mean is 98.6 and the underlying sample has the standard deviation that it does. We can go further and calculate a confidence interval from our sample.\n",
    "\n",
    "$$Confidence Interval \\Rightarrow$$\n",
    "$$\\bar{X} \\pm z_c \\frac{\\sigma}{\\sqrt{n}}$$\n",
    "$$98.25 \\pm 1.96 \\frac{.7332}{\\sqrt{130}}$$"
   ]
  },
  {
   "cell_type": "code",
   "execution_count": 9,
   "metadata": {
    "collapsed": false
   },
   "outputs": [
    {
     "data": {
      "text/plain": [
       "98.12319411222852"
      ]
     },
     "execution_count": 9,
     "metadata": {},
     "output_type": "execute_result"
    }
   ],
   "source": [
    "df['temperature'].mean() - 1.96 * (df['temperature'].std() / math.sqrt(130))"
   ]
  },
  {
   "cell_type": "code",
   "execution_count": 10,
   "metadata": {
    "collapsed": false
   },
   "outputs": [
    {
     "data": {
      "text/plain": [
       "98.37526742623304"
      ]
     },
     "execution_count": 10,
     "metadata": {},
     "output_type": "execute_result"
    }
   ],
   "source": [
    "df['temperature'].mean() + 1.96 * (df['temperature'].std() / math.sqrt(130))"
   ]
  },
  {
   "cell_type": "markdown",
   "metadata": {
    "deletable": true,
    "editable": true
   },
   "source": [
    "At this $z$-score, we have confidence that there's a 95% chance that the actual mean of the distribution underlying the sample is between 98.12 and 98.38.\n",
    "\n",
    "$$Confidence Interval \\Rightarrow$$\n",
    "$$\\bar{X} \\pm z_c \\frac{\\sigma}{\\sqrt{n}}$$\n",
    "$$98.25 \\pm 3.32 \\frac{.7332}{\\sqrt{130}}$$"
   ]
  },
  {
   "cell_type": "code",
   "execution_count": 11,
   "metadata": {
    "collapsed": false
   },
   "outputs": [
    {
     "data": {
      "text/plain": [
       "98.03574010532898"
      ]
     },
     "execution_count": 11,
     "metadata": {},
     "output_type": "execute_result"
    }
   ],
   "source": [
    "df['temperature'].mean() - 3.32 * (df['temperature'].std() / math.sqrt(130))"
   ]
  },
  {
   "cell_type": "code",
   "execution_count": 12,
   "metadata": {
    "collapsed": false
   },
   "outputs": [
    {
     "data": {
      "text/plain": [
       "98.46272143313257"
      ]
     },
     "execution_count": 12,
     "metadata": {},
     "output_type": "execute_result"
    }
   ],
   "source": [
    "df['temperature'].mean() + 3.32 * (df['temperature'].std() / math.sqrt(130))"
   ]
  },
  {
   "cell_type": "markdown",
   "metadata": {
    "deletable": true,
    "editable": true
   },
   "source": [
    "Even calculating a 99.9% confidence interval gives us a range of 98.03 to 98.46. Therefore, it's very unlikely that the mean of the underlying distribution is actually 98.6.\n",
    "\n",
    "**Answer 3b:** A one-sample test is appropriate here, because we are trying to determine make inferences about the underlying distribution (via a $z$-test) from a single sample. If we were trying to compare two samples and prove hypotheses surrounding statistics based on the samples (say, if the mean body temperature of men is the same as women), then we would use two-sample tests.\n",
    "\n",
    "**Answer 3c:** As discussed above, in this situation it's appropriate to use a $z$-statistic. When creating the $z$-statistic, we make the  assumption that the standard deviation of the sampling distribution of the sample mean is equal to the standard deviation of our population divided by the square root of our sample size. We then make the assumption, as a result of the Central Limit Theorem, that the standard deviation of our population is equal to the standard deviation of our sample. The final result is a $z$-statistic that we can assume is normally distributed. However, when the sample size is less than 30, then the statistic will not be normally distributed, and will instead take on a distribution known as the $t$-distribution. At this point, the $t$-statistic will be more appropriate to use.\n",
    "\n",
    "**Answer 3d:** The statistic is calculated in the same way, it's just interpreted in a slightly different way by looking at a $t$-table instead of a $z$-table and by incorporating degrees of freedom into the calculation (in this case, 129, which is the sample size minus 1). For all practical purposes, the result is the same as the $z$-test... That is to say, the chances of getting getting a sample like was gathered when the mean of the sampling distribution is 98.6 is extremely unlikely.\n",
    "\n",
    "###### Question 4: At what temperature should we consider someone's temperature to be \"abnormal\"? Start by computing the margin of error and confidence interval.\n",
    "\n",
    "**Answer 4:** We already calculated a 95% and 99.9% confidence interval in the answer to 3a. The margin of error is simply the distance between the edge of the confidence interval and the sample mean. In the case of the 95% confidence interval, it's:\n",
    "\n",
    "Appropriate $z$ value * sample standard deviation / Square root of the sample\n",
    "\n",
    "$$ z\\cdot\\frac{\\sigma}{\\sqrt{n}}$$"
   ]
  },
  {
   "cell_type": "code",
   "execution_count": 13,
   "metadata": {
    "collapsed": false,
    "deletable": true,
    "editable": true
   },
   "outputs": [
    {
     "data": {
      "text/plain": [
       "0.12603665700226638"
      ]
     },
     "execution_count": 13,
     "metadata": {},
     "output_type": "execute_result"
    }
   ],
   "source": [
    "1.96 * (df['temperature'].std() / math.sqrt(130))"
   ]
  },
  {
   "cell_type": "markdown",
   "metadata": {
    "deletable": true,
    "editable": true
   },
   "source": [
    "For the 99.9% confidence interval, it is the same equation with an updated $z$-score:"
   ]
  },
  {
   "cell_type": "code",
   "execution_count": 14,
   "metadata": {
    "collapsed": false,
    "deletable": true,
    "editable": true
   },
   "outputs": [
    {
     "data": {
      "text/plain": [
       "0.21349066390179813"
      ]
     },
     "execution_count": 14,
     "metadata": {},
     "output_type": "execute_result"
    }
   ],
   "source": [
    "3.32 * (df['temperature'].std() / math.sqrt(130))"
   ]
  },
  {
   "cell_type": "markdown",
   "metadata": {
    "deletable": true,
    "editable": true
   },
   "source": [
    "The high end of the 99.9% confidence interval is 98.46 degrees. It's safe to say that any temperature above that could be considered abnormal.\n"
   ]
  },
  {
   "cell_type": "markdown",
   "metadata": {
    "deletable": true,
    "editable": true
   },
   "source": [
    "###### Question 5: Is there a significant difference between males and females in normal temperature? What test did you use and why? Write a story with your conclusion in the context of the original problem.\n",
    "\n",
    "**Answer 5:** First, let's calculate the mean of male and female temperatures within the sample."
   ]
  },
  {
   "cell_type": "code",
   "execution_count": 15,
   "metadata": {
    "collapsed": false,
    "deletable": true,
    "editable": true
   },
   "outputs": [
    {
     "data": {
      "text/plain": [
       "98.39384615384613"
      ]
     },
     "execution_count": 15,
     "metadata": {},
     "output_type": "execute_result"
    }
   ],
   "source": [
    "# Female average temperature\n",
    "df[df['gender']=='F']['temperature'].mean()"
   ]
  },
  {
   "cell_type": "code",
   "execution_count": 16,
   "metadata": {
    "collapsed": false,
    "deletable": true,
    "editable": true
   },
   "outputs": [
    {
     "data": {
      "text/plain": [
       "98.1046153846154"
      ]
     },
     "execution_count": 16,
     "metadata": {},
     "output_type": "execute_result"
    }
   ],
   "source": [
    "# Male average temperature\n",
    "df[df['gender']=='M']['temperature'].mean()"
   ]
  },
  {
   "cell_type": "markdown",
   "metadata": {
    "deletable": true,
    "editable": true
   },
   "source": [
    "At a glance, there does appear to be somewhat of a difference. However, let's use a hypothesis test to verify that this is indeed the case. Let's say that the null hypothesis is that male and female average temperatures are equal, or in other words, the mean of the sampling distribution of male temperatures minus the mean of the sampling distribution of female temperatures equals zero. The alternative hypothesis is that there is a difference. Also, let's calculate this hypothesis at a significance level of 5%. First, the mean of the difference of the male temperature distribution and female temperature distribution ($\\mu_{\\bar{X_1}-\\bar{X_2}}$) is simply equal to the mean of the male sampling distribution ($\\mu_{\\bar{X_1}}$) minus the mean of the female sampling distribution ($\\mu_{\\bar{X_2}}$). This in turn is equal to the mean of the sampling distribution of men ($\\mu_{1}$) minus the mean of the sampling distribution of women ($\\mu_{2}$).\n",
    "\n",
    "$$\\mu_{\\bar{X_1}-\\bar{X_2}} = \\mu_{\\bar{X_1}} - \\mu_{\\bar{X_2}} = \\mu_{1} - \\mu_{2}$$"
   ]
  },
  {
   "cell_type": "code",
   "execution_count": 17,
   "metadata": {
    "collapsed": false,
    "deletable": true,
    "editable": true
   },
   "outputs": [
    {
     "data": {
      "text/plain": [
       "-0.289230769230727"
      ]
     },
     "execution_count": 17,
     "metadata": {},
     "output_type": "execute_result"
    }
   ],
   "source": [
    "mean = df[df['gender']=='M']['temperature'].mean() - df[df['gender']=='F']['temperature'].mean(); mean"
   ]
  },
  {
   "cell_type": "markdown",
   "metadata": {
    "deletable": true,
    "editable": true
   },
   "source": [
    "Next, the standard deviation of the differences of the sample distributions of the sample means can be estimated with the the following formula:\n",
    "$$\\sigma_{\\bar{X_1}-\\bar{X_2}} = \\sqrt{\\sigma_{\\bar{X_1}}^2 - \\sigma_{\\bar{X_2}}^2} = \\sqrt{\\frac{\\sigma_{1}^2}{n_{1}} + \\frac{\\sigma_{2}^2}{n_{2}}}$$"
   ]
  },
  {
   "cell_type": "code",
   "execution_count": 18,
   "metadata": {
    "collapsed": false,
    "deletable": true,
    "editable": true
   },
   "outputs": [
    {
     "data": {
      "text/plain": [
       "0.12655395041982642"
      ]
     },
     "execution_count": 18,
     "metadata": {},
     "output_type": "execute_result"
    }
   ],
   "source": [
    "stddev = math.sqrt((df[df['gender']=='M']['temperature'].std() * df[df['gender']=='M']['temperature'].std())/len(df[df['gender']=='M']) + (df[df['gender']=='F']['temperature'].std() * df[df['gender']=='F']['temperature'].std())/len(df[df['gender']=='F'])); stddev"
   ]
  },
  {
   "cell_type": "markdown",
   "metadata": {
    "deletable": true,
    "editable": true
   },
   "source": [
    "We can then see what $z$-score is yielded when we use the standard $z$-score calculation:"
   ]
  },
  {
   "cell_type": "code",
   "execution_count": 19,
   "metadata": {
    "collapsed": false,
    "deletable": true,
    "editable": true
   },
   "outputs": [
    {
     "data": {
      "text/plain": [
       "2.285434538165274"
      ]
     },
     "execution_count": 19,
     "metadata": {},
     "output_type": "execute_result"
    }
   ],
   "source": [
    "Zdiff = (0 - mean) / stddev; Zdiff"
   ]
  },
  {
   "cell_type": "markdown",
   "metadata": {
    "deletable": true,
    "editable": true
   },
   "source": [
    "If we look at a $z$-table, we will see that the $z$-score for a two-tailed, 95% confidence interval is 1.96. The $z$-score that we calculated is higher than that, so at the 5% significance level, we can reject the null hypothesis and conclude that there is indeed a difference between male and female average temperatures.\n",
    "\n",
    "After examination of the data, it is clear that it is very unlikely that the mean normal body temperature is actually 98.6 degrees. At this precision level, the real normal body temperature is almost certainly lower. Furthermore, there seems to be a significant difference between the body temperature level of men and women, so at the precision of 98.6 degrees, it may not even make sense to say that there is an average body temperature of people, but instead of men and women seperately."
   ]
  },
  {
   "cell_type": "code",
   "execution_count": null,
   "metadata": {
    "collapsed": true
   },
   "outputs": [],
   "source": []
  }
 ],
 "metadata": {
  "kernelspec": {
   "display_name": "Python [conda env:py27]",
   "language": "python",
   "name": "conda-env-py27-py"
  },
  "language_info": {
   "codemirror_mode": {
    "name": "ipython",
    "version": 2
   },
   "file_extension": ".py",
   "mimetype": "text/x-python",
   "name": "python",
   "nbconvert_exporter": "python",
   "pygments_lexer": "ipython2",
   "version": "2.7.13"
  }
 },
 "nbformat": 4,
 "nbformat_minor": 0
}
