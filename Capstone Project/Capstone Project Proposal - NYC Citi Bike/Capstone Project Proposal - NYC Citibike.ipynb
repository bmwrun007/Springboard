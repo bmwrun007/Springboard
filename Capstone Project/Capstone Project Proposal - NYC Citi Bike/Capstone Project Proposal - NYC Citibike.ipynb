{
 "cells": [
  {
   "cell_type": "markdown",
   "metadata": {
    "collapsed": true
   },
   "source": [
    "## Springboard Data Science Intensive Course\n",
    "## Capstone Project Proposal\n",
    "---\n",
    "#### Bryan Achtyl, May 2017\n",
    "\n",
    "##### Introduction\n",
    "Since its inception in May 2013, Citi Bike, the bike share program based in New York City, has been a program with mixed results. Today, it is the largest bike share program in the United States, with over 10,000 bikes accessible in 603 stations located in Manhattan, Brooklyn, Queens, and Jersey City. Bikes can be picked up and dropped off at any of the stations. While each station has a limited number of bikes available at any one time, as well as a limited number of docks to drop off a bike, the bike system supports a mobile app that tells users in real time how many bikes are available and how many docks are available, such that they can make appropriate plans. An API has also been made available to the public for developers to be able to query this information themselves. Historical data has also been made available to download in bulk.<br />\n",
    "\n",
    "##### Statement of Problem\n",
    "In the past, Citi Bike has struggled significantly with stresses that can be placed on a bike share system. Supply and demand for bikes at given stations can change drastically given time of day, time of year, weather conditions, and other conditions such as subway availability and popular events. This can cause bikes to be unavailable in places where they are being demanded and for excesses to exist in places where they are not needed, or perhaps worse, in places where is demand for docks. This caused riders to become frustrated with the system, with annual memberships dropping significantly in 2014 and 2015. It is of great interest to the company that operates the program, as well as the city and its public transit system, to nourish the system and keep it alive and well. Significant financial investment was made in the system, and the owners of Citi Bike also reached out to professionals to find ways to optimize the system. Ridership has since improved, but how significant were the results? Is there further room for optimization? Are there other problems with the system that might not be so obvious? Given the data that is available, we can attempt to answer these questions.<br />\n",
    "\n",
    "##### Summary of Work\n",
    "During this project, I will first be doing an exploratory data analysis of the system. This will include making a visualization of ridership data during various times of the day and year, as well as rebalancing activities. From there, I would like to create a predictive model of usage of the system, given weather and time of year. This will likely bring to light situations where bike stations are being either over or under-utilized. We can compare models from earlier in the life of the system to later to try and quantify any efficiencies that were created from investment and optimization. With these results, I would like to attempt to make further optimizations to the system via suggested rebalancing and possibly additional docking stations, and create a model that would predict user behavior given the suggestions.<br />\n",
    "\n",
    "Several other papers and blog entries have already been published regarding this dataset, and they each had sections detailing what next steps to their analyses might be. It may be interesting to dive into some of those items. A few of these papers are listed below:<br/>\n",
    "[Article/Paper A](https://www.academia.edu/22471385/Rebalancing_Citi_Bike_Mapping_bike_share_redistribution_in_New_York_City)<br/>\n",
    "[Article/Paper B](http://blog.nycdatascience.com/student-works/bikes-go-analysis-nyc-citi-bike-station-capacity/)<br/>\n",
    "[Article/Paper C](http://toddwschneider.com/posts/a-tale-of-twenty-two-million-citi-bikes-analyzing-the-nyc-bike-share-system/)<br/>\n",
    "\n",
    "I also won’t rule out that the above analyses may bring to light other interesting problems and/or inefficiencies within the system that might warrant additional investigation in their own right.<br />\n",
    "\n",
    "Lastly, assuming it makes sense to do so, I would like to use Spark to conduct the analysis.<br />\n",
    "\n",
    "##### Conclusion\n",
    "As urban areas continue to find ways to reduce car traffic and improve public transportation, for both fiscal and environmental reasons, bike sharing programs will continue to be an important alternative for efficient, eco-friendly transportation. Keeping these systems operating efficiently and expanding will have positive effects on our urban transportation systems and our environment in general.<br />\n",
    "\n",
    "For me personally, I see working on this specific project as an excellent way to gain exposure to many different facets of data science, specifically utilizing machine learning algorithms to gain insight to a problem and in general seeing an entire data science project which utilizes machine learning put together from end to end. While not strictly in the realm of data science, I am also excited to be able work with the implementation of the project in tools aimed toward Big Data, such as AWS and Spark, as these will be practical skills in the future.<br />\n"
   ]
  }
 ],
 "metadata": {
  "kernelspec": {
   "display_name": "Python [conda env:py27]",
   "language": "python",
   "name": "conda-env-py27-py"
  },
  "language_info": {
   "codemirror_mode": {
    "name": "ipython",
    "version": 2
   },
   "file_extension": ".py",
   "mimetype": "text/x-python",
   "name": "python",
   "nbconvert_exporter": "python",
   "pygments_lexer": "ipython2",
   "version": "2.7.13"
  }
 },
 "nbformat": 4,
 "nbformat_minor": 2
}
