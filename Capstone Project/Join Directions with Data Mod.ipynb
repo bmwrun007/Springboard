{
 "cells": [
  {
   "cell_type": "code",
   "execution_count": 1,
   "metadata": {
    "collapsed": true
   },
   "outputs": [],
   "source": [
    "import polyline"
   ]
  },
  {
   "cell_type": "code",
   "execution_count": 2,
   "metadata": {
    "collapsed": true
   },
   "outputs": [],
   "source": [
    "import googlemaps\n",
    "import json\n",
    "\n",
    "import pandas as pd\n",
    "import numpy as np\n",
    "from os import listdir\n",
    "from os.path import isfile, join\n",
    "\n",
    "import matplotlib.pyplot as plt\n",
    "import seaborn as sns\n",
    "import math\n",
    "\n",
    "import folium\n",
    "\n",
    "import subprocess\n",
    "\n",
    "sns.set_style(\"darkgrid\")"
   ]
  },
  {
   "cell_type": "code",
   "execution_count": null,
   "metadata": {
    "collapsed": false
   },
   "outputs": [],
   "source": [
    "####################################\n",
    "# GET DIRECTIONS EN MASS START #####\n",
    "####################################\n",
    "gclient = googlemaps.Client('YOUR API_KEY')"
   ]
  },
  {
   "cell_type": "code",
   "execution_count": 3,
   "metadata": {
    "collapsed": false
   },
   "outputs": [],
   "source": [
    "#find and pickle directions between all stations\n",
    "\n",
    "#prepare data for loading\n",
    "mypath = \"C:\\Users\\Bryan\\Documents\\GitHub\\Springboard\\Capstone Project\\Data\\\\\"\n",
    "dataFiles = [f for f in listdir(mypath) if isfile(join(mypath,f))]\n",
    "dataFrames = []\n",
    "\n",
    "inputDtypeDict = {'Trip Duration': np.int64,\n",
    "                  #'starttime': np.datetime64,\n",
    "                  #'stoptime': np.datetime64,\n",
    "                  'Start Station ID': np.int64,\n",
    "                  'Start Station Name': np.string_,\n",
    "                  'Start Station Latitude': np.float64,\n",
    "                  'Start Station Longitude': np.float64,\n",
    "                  'End Station ID': np.int64,\n",
    "                  'End Station Name': np.string_,\n",
    "                  'End Station Latitude': np.float64,\n",
    "                  'End Station Longitude': np.float64,\n",
    "                  'Bike ID': np.int64,\n",
    "                  'User Type': np.string_,\n",
    "                  'Birth Year': np.string_,\n",
    "                  'Gender': np.int64,\n",
    "                  'Start Next Station Id': np.int64\n",
    "                  }"
   ]
  },
  {
   "cell_type": "code",
   "execution_count": 4,
   "metadata": {
    "collapsed": false
   },
   "outputs": [
    {
     "name": "stdout",
     "output_type": "stream",
     "text": [
      "['2013-07 - Citi Bike trip data.csv', '2013-08 - Citi Bike trip data.csv', '2013-09 - Citi Bike trip data.csv', '2013-10 - Citi Bike trip data.csv', '2013-11 - Citi Bike trip data.csv', '2013-12 - Citi Bike trip data.csv', '2014-01 - Citi Bike trip data.csv', '2014-02 - Citi Bike trip data.csv', '2014-04 - Citi Bike trip data.csv', '2014-05 - Citi Bike trip data.csv', '2014-06 - Citi Bike trip data.csv', '2014-07 - Citi Bike trip data.csv', '2014-08 - Citi Bike trip data.csv', '201409-citibike-tripdata.csv', '201410-citibike-tripdata.csv', '201411-citibike-tripdata.csv', '201412-citibike-tripdata.csv', '201501-citibike-tripdata.csv', '201502-citibike-tripdata.csv', '201503-citibike-tripdata.csv', '201504-citibike-tripdata.csv', '201505-citibike-tripdata.csv', '201506-citibike-tripdata.csv', '201507-citibike-tripdata.csv', '201508-citibike-tripdata.csv', '201509-citibike-tripdata.csv', '201510-citibike-tripdata.csv', '201511-citibike-tripdata.csv', '201512-citibike-tripdata.csv', '201601-citibike-tripdata.csv', '201602-citibike-tripdata.csv', '201603-citibike-tripdata.csv', '201604-citibike-tripdata.csv', '201605-citibike-tripdata.csv', '201606-citibike-tripdata.csv', '201607-citibike-tripdata.csv', '201608-citibike-tripdata.csv', '201609-citibike-tripdata.csv', '201610-citibike-tripdata.csv', '201611-citibike-tripdata.csv', '201612-citibike-tripdata.csv', '201701-citibike-tripdata.csv', '201702-citibike-tripdata.csv', '201703-citibike-tripdata.csv']\n"
     ]
    }
   ],
   "source": [
    "print dataFiles"
   ]
  },
  {
   "cell_type": "code",
   "execution_count": 5,
   "metadata": {
    "collapsed": false
   },
   "outputs": [
    {
     "name": "stdout",
     "output_type": "stream",
     "text": [
      "File 2013-07 - Citi Bike trip data.csv has 843416 records\n",
      "File 2013-08 - Citi Bike trip data.csv has 1001958 records\n",
      "File 2013-09 - Citi Bike trip data.csv has 1034359 records\n",
      "File 2013-10 - Citi Bike trip data.csv has 1037712 records\n",
      "File 2013-11 - Citi Bike trip data.csv has 675774 records\n",
      "File 2013-12 - Citi Bike trip data.csv has 443966 records\n",
      "File 2014-01 - Citi Bike trip data.csv has 300400 records\n",
      "File 2014-02 - Citi Bike trip data.csv has 224736 records\n",
      "File 2014-04 - Citi Bike trip data.csv has 670780 records\n",
      "File 2014-05 - Citi Bike trip data.csv has 866117 records\n",
      "File 2014-06 - Citi Bike trip data.csv has 936880 records\n",
      "File 2014-07 - Citi Bike trip data.csv has 968842 records\n",
      "File 2014-08 - Citi Bike trip data.csv has 963489 records\n",
      "File 201409-citibike-tripdata.csv has 953887 records\n",
      "File 201410-citibike-tripdata.csv has 828711 records\n",
      "File 201411-citibike-tripdata.csv has 529188 records\n",
      "File 201412-citibike-tripdata.csv has 399069 records\n",
      "File 201501-citibike-tripdata.csv has 285552 records\n",
      "File 201502-citibike-tripdata.csv has 196930 records\n",
      "File 201503-citibike-tripdata.csv has 341826 records\n",
      "File 201504-citibike-tripdata.csv has 652390 records\n",
      "File 201505-citibike-tripdata.csv has 961986 records\n",
      "File 201506-citibike-tripdata.csv has 941219 records\n",
      "File 201507-citibike-tripdata.csv has 1085676 records\n",
      "File 201508-citibike-tripdata.csv has 1179044 records\n",
      "File 201509-citibike-tripdata.csv has 1289699 records\n",
      "File 201510-citibike-tripdata.csv has 1212277 records\n",
      "File 201511-citibike-tripdata.csv has 987245 records\n",
      "File 201512-citibike-tripdata.csv has 804125 records\n",
      "File 201601-citibike-tripdata.csv has 509478 records\n",
      "File 201602-citibike-tripdata.csv has 560874 records\n",
      "File 201603-citibike-tripdata.csv has 919921 records\n",
      "File 201604-citibike-tripdata.csv has 1013149 records\n",
      "File 201605-citibike-tripdata.csv has 1212280 records\n",
      "File 201606-citibike-tripdata.csv has 1460318 records\n",
      "File 201607-citibike-tripdata.csv has 1380110 records\n",
      "File 201608-citibike-tripdata.csv has 1557663 records\n",
      "File 201609-citibike-tripdata.csv has 1648856 records\n",
      "File 201610-citibike-tripdata.csv has 1573872 records\n",
      "File 201611-citibike-tripdata.csv has 1196942 records\n",
      "File 201612-citibike-tripdata.csv has 812192 records\n",
      "File 201701-citibike-tripdata.csv has 726676 records\n",
      "File 201702-citibike-tripdata.csv has 791647 records\n",
      "File 201703-citibike-tripdata.csv has 727665 records\n"
     ]
    }
   ],
   "source": [
    "#load data into n dataframes\n",
    "for f in dataFiles:\n",
    "    data_df = pd.read_csv(mypath + f, dtype=inputDtypeDict, parse_dates=['Start Time', 'Stop Time'], infer_datetime_format=True)\n",
    "    print \"File \" + f + \" has \" + str(len(data_df)) + \" records\"\n",
    "    dataFrames.append(data_df)"
   ]
  },
  {
   "cell_type": "code",
   "execution_count": 6,
   "metadata": {
    "collapsed": false
   },
   "outputs": [
    {
     "name": "stdout",
     "output_type": "stream",
     "text": [
      "Final file has 38708896 records\n"
     ]
    }
   ],
   "source": [
    "#join all dataframes into single dataframe\n",
    "allTrips_df = pd.concat(dataFrames)\n",
    "print \"Final file has \" + str(len(allTrips_df)) + \" records\""
   ]
  },
  {
   "cell_type": "code",
   "execution_count": 7,
   "metadata": {
    "collapsed": true
   },
   "outputs": [],
   "source": [
    "allTrips_df['Start Date'] = allTrips_df['Start Time'].dt.date\n",
    "allTrips_df['Start Date'] = pd.to_datetime(allTrips_df['Start Date'])"
   ]
  },
  {
   "cell_type": "code",
   "execution_count": null,
   "metadata": {
    "collapsed": false
   },
   "outputs": [],
   "source": [
    "#uniqueRoutes_df = allTrips_df[allTrips_df['Start Date']=='2013-07-01']['Start Station Latitude', 'Start Station Longitude', 'End Station Latitude', 'End Station Longitude'].drop_duplicates()\n",
    "uniqueRoutes_df = allTrips_df[(allTrips_df['Start Date']=='2013-08-09') |\n",
    "                             (allTrips_df['Start Date']=='2013-08-10') |\n",
    "                              (allTrips_df['Start Date']=='2013-11-08') |\n",
    "                              (allTrips_df['Start Date']=='2013-11-09') |\n",
    "                              (allTrips_df['Start Date']=='2014-02-07') |\n",
    "                              (allTrips_df['Start Date']=='2014-02-08') |\n",
    "                              (allTrips_df['Start Date']=='2014-05-09') |\n",
    "                              (allTrips_df['Start Date']=='2014-05-10') |\n",
    "                              (allTrips_df['Start Date']=='2014-08-08') |\n",
    "                              (allTrips_df['Start Date']=='2014-08-09') |\n",
    "                              (allTrips_df['Start Date']=='2014-11-07') |\n",
    "                              (allTrips_df['Start Date']=='2014-11-08') |\n",
    "                              (allTrips_df['Start Date']=='2015-02-06') |\n",
    "                              (allTrips_df['Start Date']=='2015-02-07') |\n",
    "                              (allTrips_df['Start Date']=='2015-05-08') |\n",
    "                              (allTrips_df['Start Date']=='2015-05-09') |\n",
    "                              (allTrips_df['Start Date']=='2015-08-07') |\n",
    "                              (allTrips_df['Start Date']=='2015-08-08') |\n",
    "                              (allTrips_df['Start Date']=='2015-11-06') |\n",
    "                              (allTrips_df['Start Date']=='2015-11-07') |\n",
    "                              (allTrips_df['Start Date']=='2016-02-05') |\n",
    "                              (allTrips_df['Start Date']=='2016-02-06') |\n",
    "                              (allTrips_df['Start Date']=='2016-05-06') |\n",
    "                              (allTrips_df['Start Date']=='2016-05-07') |\n",
    "                              (allTrips_df['Start Date']=='2016-08-09') |\n",
    "                              (allTrips_df['Start Date']=='2016-08-09') |\n",
    "                              (allTrips_df['Start Date']=='2016-11-04') |\n",
    "                              (allTrips_df['Start Date']=='2016-11-05') |\n",
    "                              (allTrips_df['Start Date']=='2017-02-03') |\n",
    "                              (allTrips_df['Start Date']=='2017-02-04') |\n",
    "                              (allTrips_df['Start Date']=='2017-05-12') |\n",
    "                              (allTrips_df['Start Date']=='2017-05-13')\n",
    "                             ][['Start Station Latitude', 'Start Station Longitude', 'End Station Latitude', 'End Station Longitude']].drop_duplicates().reset_index().drop('index', axis=1)"
   ]
  },
  {
   "cell_type": "code",
   "execution_count": null,
   "metadata": {
    "collapsed": false
   },
   "outputs": [],
   "source": [
    "uniqueRoutes_df.to_pickle('uniqueRoutes.pickle')"
   ]
  },
  {
   "cell_type": "code",
   "execution_count": null,
   "metadata": {
    "collapsed": true
   },
   "outputs": [],
   "source": [
    "directionDataFrames = []"
   ]
  },
  {
   "cell_type": "code",
   "execution_count": null,
   "metadata": {
    "collapsed": false
   },
   "outputs": [],
   "source": [
    "#do first 25,000\n",
    "#for i in range(50000):\n",
    "#for i in range(50000,68565):\n",
    "for i in range(68565, 118470):\n",
    "    startLat = uniqueRoutes_df.loc[i, 'Start Station Latitude']\n",
    "    startLng = uniqueRoutes_df.loc[i, 'Start Station Longitude']\n",
    "    endLat = uniqueRoutes_df.loc[i, 'End Station Latitude']\n",
    "    endLng = uniqueRoutes_df.loc[i, 'End Station Longitude']\n",
    "    start = (startLat, startLng)\n",
    "    end = (endLat, endLng)\n",
    "    direct = gclient.directions(origin=start, destination=end, mode=\"bicycling\")\n",
    "    if len(direct)==0:\n",
    "        print \"I can't do this one (no directions found). Need another solution... \" + str(startLat) + \" \" + str(startLng) + \" \" + str(endLat) + \" \" + str(endLng)\n",
    "    else:\n",
    "        my_points = polyline.decode(direct[0]['overview_polyline']['points'])\n",
    "        if len(my_points) > 100:\n",
    "            print \"I can't do this one. Need another solution...\" + str(startLat) + \" \" + str(startLng) + \" \" + str(endLat) + \" \" + str(endLng)\n",
    "        else:\n",
    "            my_interpolation = gclient.snap_to_roads(my_points, interpolate=True)\n",
    "            my_df_interpolation = pd.DataFrame(my_interpolation)\n",
    "            my_df_interpolation['point latitude'] = my_df_interpolation['location'].apply(lambda x: x.get('latitude'))\n",
    "            my_df_interpolation['point longitude'] = my_df_interpolation['location'].apply(lambda x: x.get('longitude'))\n",
    "            my_df_interpolation['start station latitude'] = startLat\n",
    "            my_df_interpolation['start station longitude'] = startLng\n",
    "            my_df_interpolation['end station latitude'] = endLat\n",
    "            my_df_interpolation['end station longitude'] = endLng\n",
    "            my_df_interpolation.drop(['location', 'originalIndex', 'placeId'], axis=1, inplace=True)\n",
    "            my_df_interpolation['order'] = my_df_interpolation.index\n",
    "            directionDataFrames.append(my_df_interpolation)\n",
    "\n",
    "allTrips_df_extra = pd.concat(directionDataFrames)\n",
    "allTrips_df_extra.to_pickle('additional_trips3.pickle')"
   ]
  },
  {
   "cell_type": "code",
   "execution_count": 8,
   "metadata": {
    "collapsed": false
   },
   "outputs": [],
   "source": [
    "####################################\n",
    "# GET DIRECTIONS EN MASS END #######\n",
    "####################################\n",
    "\n",
    "uniqueDirections_df_part1 = pd.read_pickle('additional_trips1.pickle')\n",
    "uniqueDirections_df_part2 = pd.read_pickle('additional_trips3.pickle')\n",
    "uniqueDirections_df_part3 = pd.read_pickle('additional_trips3.pickle')\n",
    "uniqueDirections_df = pd.concat([uniqueDirections_df_part1, uniqueDirections_df_part2, uniqueDirections_df_part3])\n",
    "uniqueDirections_df.rename(columns={'point latitude': 'Point Latitude',\n",
    "                                    'point longitude': 'Point Longitude',\n",
    "                                    'start station latitude': 'Start Station Latitude',\n",
    "                                    'start station longitude': 'Start Station Longitude',\n",
    "                                    'end station latitude': 'End Station Latitude',\n",
    "                                    'end station longitude': 'End Station Longitude'}, inplace=True)"
   ]
  },
  {
   "cell_type": "code",
   "execution_count": 9,
   "metadata": {
    "collapsed": false
   },
   "outputs": [],
   "source": [
    "#get rid of duplicate points on same trip... if you redump the data you can solve this problem ahead of time\n",
    "uniqueDirections_df = uniqueDirections_df.groupby(['Point Latitude', \n",
    "                             'Point Longitude', \n",
    "                             'Start Station Latitude', \n",
    "                             'Start Station Longitude', \n",
    "                             'End Station Latitude', \n",
    "                             'End Station Longitude'])['order'].min().to_frame().reset_index().\\\n",
    "                                sort_values(['Start Station Latitude',\n",
    "                               'Start Station Longitude',\n",
    "                               'End Station Latitude',\n",
    "                               'End Station Longitude',\n",
    "                               'order']).reset_index().drop('index', axis=1)"
   ]
  },
  {
   "cell_type": "code",
   "execution_count": 10,
   "metadata": {
    "collapsed": false
   },
   "outputs": [
    {
     "data": {
      "text/html": [
       "<div>\n",
       "<table border=\"1\" class=\"dataframe\">\n",
       "  <thead>\n",
       "    <tr style=\"text-align: right;\">\n",
       "      <th></th>\n",
       "      <th>Point Latitude</th>\n",
       "      <th>Point Longitude</th>\n",
       "      <th>Start Station Latitude</th>\n",
       "      <th>Start Station Longitude</th>\n",
       "      <th>End Station Latitude</th>\n",
       "      <th>End Station Longitude</th>\n",
       "      <th>order</th>\n",
       "    </tr>\n",
       "  </thead>\n",
       "  <tbody>\n",
       "    <tr>\n",
       "      <th>0</th>\n",
       "      <td>40.646301</td>\n",
       "      <td>-74.016839</td>\n",
       "      <td>40.646538</td>\n",
       "      <td>-74.016588</td>\n",
       "      <td>40.646538</td>\n",
       "      <td>-74.016588</td>\n",
       "      <td>0</td>\n",
       "    </tr>\n",
       "    <tr>\n",
       "      <th>1</th>\n",
       "      <td>40.646811</td>\n",
       "      <td>-74.016169</td>\n",
       "      <td>40.646678</td>\n",
       "      <td>-74.016303</td>\n",
       "      <td>40.646678</td>\n",
       "      <td>-74.016303</td>\n",
       "      <td>0</td>\n",
       "    </tr>\n",
       "    <tr>\n",
       "      <th>2</th>\n",
       "      <td>40.646920</td>\n",
       "      <td>-74.016350</td>\n",
       "      <td>40.646768</td>\n",
       "      <td>-74.016510</td>\n",
       "      <td>40.646768</td>\n",
       "      <td>-74.016510</td>\n",
       "      <td>0</td>\n",
       "    </tr>\n",
       "    <tr>\n",
       "      <th>3</th>\n",
       "      <td>40.646920</td>\n",
       "      <td>-74.016350</td>\n",
       "      <td>40.646768</td>\n",
       "      <td>-74.016510</td>\n",
       "      <td>40.668546</td>\n",
       "      <td>-73.993333</td>\n",
       "      <td>0</td>\n",
       "    </tr>\n",
       "    <tr>\n",
       "      <th>4</th>\n",
       "      <td>40.643988</td>\n",
       "      <td>-74.011482</td>\n",
       "      <td>40.646768</td>\n",
       "      <td>-74.016510</td>\n",
       "      <td>40.668546</td>\n",
       "      <td>-73.993333</td>\n",
       "      <td>1</td>\n",
       "    </tr>\n",
       "  </tbody>\n",
       "</table>\n",
       "</div>"
      ],
      "text/plain": [
       "   Point Latitude  Point Longitude  Start Station Latitude  \\\n",
       "0       40.646301       -74.016839               40.646538   \n",
       "1       40.646811       -74.016169               40.646678   \n",
       "2       40.646920       -74.016350               40.646768   \n",
       "3       40.646920       -74.016350               40.646768   \n",
       "4       40.643988       -74.011482               40.646768   \n",
       "\n",
       "   Start Station Longitude  End Station Latitude  End Station Longitude  order  \n",
       "0               -74.016588             40.646538             -74.016588      0  \n",
       "1               -74.016303             40.646678             -74.016303      0  \n",
       "2               -74.016510             40.646768             -74.016510      0  \n",
       "3               -74.016510             40.668546             -73.993333      0  \n",
       "4               -74.016510             40.668546             -73.993333      1  "
      ]
     },
     "execution_count": 10,
     "metadata": {},
     "output_type": "execute_result"
    }
   ],
   "source": [
    "uniqueDirections_df.head()"
   ]
  },
  {
   "cell_type": "code",
   "execution_count": 11,
   "metadata": {
    "collapsed": true
   },
   "outputs": [],
   "source": [
    "def haversine_np(lon1, lat1, lon2, lat2):\n",
    "    \"\"\"\n",
    "    Calculate the great circle distance between two points\n",
    "    on the earth (specified in decimal degrees)\n",
    "\n",
    "    All args must be of equal length.    \n",
    "\n",
    "    \"\"\"\n",
    "    lon1, lat1, lon2, lat2 = map(np.radians, [lon1, lat1, lon2, lat2])\n",
    "\n",
    "    dlon = lon2 - lon1\n",
    "    dlat = lat2 - lat1\n",
    "\n",
    "    a = np.sin(dlat/2.0)**2 + np.cos(lat1) * np.cos(lat2) * np.sin(dlon/2.0)**2\n",
    "\n",
    "    c = 2 * np.arcsin(np.sqrt(a))\n",
    "    km = 6367 * c\n",
    "    return km"
   ]
  },
  {
   "cell_type": "code",
   "execution_count": 12,
   "metadata": {
    "collapsed": true
   },
   "outputs": [],
   "source": [
    "uniqueDirections_df['dist'] = \\\n",
    "    haversine_np(uniqueDirections_df['Point Longitude'].shift(), uniqueDirections_df['Point Latitude'].shift(),\n",
    "                 uniqueDirections_df.loc[1:, 'Point Longitude'], uniqueDirections_df.loc[1:, 'Point Latitude'])"
   ]
  },
  {
   "cell_type": "code",
   "execution_count": 13,
   "metadata": {
    "collapsed": true
   },
   "outputs": [],
   "source": [
    "uniqueDirections_df['dist'] = np.where(uniqueDirections_df['order']==0, 0, uniqueDirections_df['dist'])"
   ]
  },
  {
   "cell_type": "code",
   "execution_count": 14,
   "metadata": {
    "collapsed": false
   },
   "outputs": [],
   "source": [
    "uniqueDirections_df['cumdist'] = uniqueDirections_df.groupby(['Start Station Latitude', \n",
    "                  'Start Station Longitude', \n",
    "                  'End Station Latitude', \n",
    "                  'End Station Longitude'])['dist'].cumsum()"
   ]
  },
  {
   "cell_type": "code",
   "execution_count": 15,
   "metadata": {
    "collapsed": false
   },
   "outputs": [],
   "source": [
    "totalTravelDistance = uniqueDirections_df.groupby(['Start Station Latitude', \n",
    "                  'Start Station Longitude', \n",
    "                  'End Station Latitude', \n",
    "                  'End Station Longitude'])['cumdist'].max().to_frame().reset_index()"
   ]
  },
  {
   "cell_type": "code",
   "execution_count": 16,
   "metadata": {
    "collapsed": false
   },
   "outputs": [],
   "source": [
    "#get rid of routes that start and end in the same place\n",
    "totalTravelDistance = totalTravelDistance[totalTravelDistance['cumdist']!=0]"
   ]
  },
  {
   "cell_type": "code",
   "execution_count": 17,
   "metadata": {
    "collapsed": true
   },
   "outputs": [],
   "source": [
    "totalTravelDistance.rename(columns={'cumdist':'Total Route Distance'}, inplace=True)"
   ]
  },
  {
   "cell_type": "code",
   "execution_count": 18,
   "metadata": {
    "collapsed": true
   },
   "outputs": [],
   "source": [
    "uniqueDirections_df = pd.merge(uniqueDirections_df, totalTravelDistance, how='inner', \n",
    "                               on=['Start Station Latitude', 'Start Station Longitude', 'End Station Latitude', 'End Station Longitude'])"
   ]
  },
  {
   "cell_type": "code",
   "execution_count": 19,
   "metadata": {
    "collapsed": false
   },
   "outputs": [],
   "source": [
    "uniqueDirections_df['Percent Complete'] = uniqueDirections_df['cumdist'] / uniqueDirections_df['Total Route Distance']"
   ]
  },
  {
   "cell_type": "code",
   "execution_count": 20,
   "metadata": {
    "collapsed": false
   },
   "outputs": [],
   "source": [
    "allTripsOneDay = allTrips_df[allTrips_df['Start Date']=='2013-08-09']"
   ]
  },
  {
   "cell_type": "code",
   "execution_count": 21,
   "metadata": {
    "collapsed": false
   },
   "outputs": [
    {
     "data": {
      "text/html": [
       "<div>\n",
       "<table border=\"1\" class=\"dataframe\">\n",
       "  <thead>\n",
       "    <tr style=\"text-align: right;\">\n",
       "      <th></th>\n",
       "      <th>Trip Duration</th>\n",
       "      <th>Start Time</th>\n",
       "      <th>Stop Time</th>\n",
       "      <th>Start Station ID</th>\n",
       "      <th>Start Station Name</th>\n",
       "      <th>Start Station Latitude</th>\n",
       "      <th>Start Station Longitude</th>\n",
       "      <th>End Station ID</th>\n",
       "      <th>End Station Name</th>\n",
       "      <th>End Station Latitude</th>\n",
       "      <th>End Station Longitude</th>\n",
       "      <th>Bike ID</th>\n",
       "      <th>User Type</th>\n",
       "      <th>Birth Year</th>\n",
       "      <th>Gender</th>\n",
       "      <th>Start Date</th>\n",
       "    </tr>\n",
       "  </thead>\n",
       "  <tbody>\n",
       "    <tr>\n",
       "      <th>257963</th>\n",
       "      <td>473</td>\n",
       "      <td>2013-08-09 00:00:02</td>\n",
       "      <td>2013-08-09 00:07:55</td>\n",
       "      <td>348</td>\n",
       "      <td>W Broadway &amp; Spring St</td>\n",
       "      <td>40.724910</td>\n",
       "      <td>-74.001547</td>\n",
       "      <td>249</td>\n",
       "      <td>Harrison St &amp; Hudson St</td>\n",
       "      <td>40.718710</td>\n",
       "      <td>-74.009001</td>\n",
       "      <td>14821</td>\n",
       "      <td>Subscriber</td>\n",
       "      <td>1986</td>\n",
       "      <td>1</td>\n",
       "      <td>2013-08-09</td>\n",
       "    </tr>\n",
       "    <tr>\n",
       "      <th>257964</th>\n",
       "      <td>651</td>\n",
       "      <td>2013-08-09 00:00:12</td>\n",
       "      <td>2013-08-09 00:11:03</td>\n",
       "      <td>161</td>\n",
       "      <td>LaGuardia Pl &amp; W 3 St</td>\n",
       "      <td>40.729170</td>\n",
       "      <td>-73.998102</td>\n",
       "      <td>410</td>\n",
       "      <td>Suffolk St &amp; Stanton St</td>\n",
       "      <td>40.720664</td>\n",
       "      <td>-73.985180</td>\n",
       "      <td>19622</td>\n",
       "      <td>Subscriber</td>\n",
       "      <td>1987</td>\n",
       "      <td>1</td>\n",
       "      <td>2013-08-09</td>\n",
       "    </tr>\n",
       "    <tr>\n",
       "      <th>257965</th>\n",
       "      <td>1542</td>\n",
       "      <td>2013-08-09 00:00:25</td>\n",
       "      <td>2013-08-09 00:26:07</td>\n",
       "      <td>128</td>\n",
       "      <td>MacDougal St &amp; Prince St</td>\n",
       "      <td>40.727103</td>\n",
       "      <td>-74.002971</td>\n",
       "      <td>143</td>\n",
       "      <td>Clinton St &amp; Joralemon St</td>\n",
       "      <td>40.692395</td>\n",
       "      <td>-73.993379</td>\n",
       "      <td>17508</td>\n",
       "      <td>Subscriber</td>\n",
       "      <td>1965</td>\n",
       "      <td>1</td>\n",
       "      <td>2013-08-09</td>\n",
       "    </tr>\n",
       "    <tr>\n",
       "      <th>257966</th>\n",
       "      <td>1082</td>\n",
       "      <td>2013-08-09 00:00:27</td>\n",
       "      <td>2013-08-09 00:18:29</td>\n",
       "      <td>507</td>\n",
       "      <td>E 25 St &amp; 2 Ave</td>\n",
       "      <td>40.739126</td>\n",
       "      <td>-73.979738</td>\n",
       "      <td>410</td>\n",
       "      <td>Suffolk St &amp; Stanton St</td>\n",
       "      <td>40.720664</td>\n",
       "      <td>-73.985180</td>\n",
       "      <td>16280</td>\n",
       "      <td>Subscriber</td>\n",
       "      <td>1988</td>\n",
       "      <td>1</td>\n",
       "      <td>2013-08-09</td>\n",
       "    </tr>\n",
       "    <tr>\n",
       "      <th>257967</th>\n",
       "      <td>862</td>\n",
       "      <td>2013-08-09 00:00:35</td>\n",
       "      <td>2013-08-09 00:14:57</td>\n",
       "      <td>475</td>\n",
       "      <td>E 16 St &amp; Irving Pl</td>\n",
       "      <td>40.735243</td>\n",
       "      <td>-73.987586</td>\n",
       "      <td>361</td>\n",
       "      <td>Allen St &amp; Hester St</td>\n",
       "      <td>40.716059</td>\n",
       "      <td>-73.991908</td>\n",
       "      <td>16696</td>\n",
       "      <td>Subscriber</td>\n",
       "      <td>1981</td>\n",
       "      <td>2</td>\n",
       "      <td>2013-08-09</td>\n",
       "    </tr>\n",
       "  </tbody>\n",
       "</table>\n",
       "</div>"
      ],
      "text/plain": [
       "        Trip Duration          Start Time           Stop Time  \\\n",
       "257963            473 2013-08-09 00:00:02 2013-08-09 00:07:55   \n",
       "257964            651 2013-08-09 00:00:12 2013-08-09 00:11:03   \n",
       "257965           1542 2013-08-09 00:00:25 2013-08-09 00:26:07   \n",
       "257966           1082 2013-08-09 00:00:27 2013-08-09 00:18:29   \n",
       "257967            862 2013-08-09 00:00:35 2013-08-09 00:14:57   \n",
       "\n",
       "        Start Station ID        Start Station Name  Start Station Latitude  \\\n",
       "257963               348    W Broadway & Spring St               40.724910   \n",
       "257964               161     LaGuardia Pl & W 3 St               40.729170   \n",
       "257965               128  MacDougal St & Prince St               40.727103   \n",
       "257966               507           E 25 St & 2 Ave               40.739126   \n",
       "257967               475       E 16 St & Irving Pl               40.735243   \n",
       "\n",
       "        Start Station Longitude  End Station ID           End Station Name  \\\n",
       "257963               -74.001547             249    Harrison St & Hudson St   \n",
       "257964               -73.998102             410    Suffolk St & Stanton St   \n",
       "257965               -74.002971             143  Clinton St & Joralemon St   \n",
       "257966               -73.979738             410    Suffolk St & Stanton St   \n",
       "257967               -73.987586             361       Allen St & Hester St   \n",
       "\n",
       "        End Station Latitude  End Station Longitude  Bike ID   User Type  \\\n",
       "257963             40.718710             -74.009001    14821  Subscriber   \n",
       "257964             40.720664             -73.985180    19622  Subscriber   \n",
       "257965             40.692395             -73.993379    17508  Subscriber   \n",
       "257966             40.720664             -73.985180    16280  Subscriber   \n",
       "257967             40.716059             -73.991908    16696  Subscriber   \n",
       "\n",
       "       Birth Year  Gender Start Date  \n",
       "257963       1986       1 2013-08-09  \n",
       "257964       1987       1 2013-08-09  \n",
       "257965       1965       1 2013-08-09  \n",
       "257966       1988       1 2013-08-09  \n",
       "257967       1981       2 2013-08-09  "
      ]
     },
     "execution_count": 21,
     "metadata": {},
     "output_type": "execute_result"
    }
   ],
   "source": [
    "allTripsOneDay.head()"
   ]
  },
  {
   "cell_type": "code",
   "execution_count": 22,
   "metadata": {
    "collapsed": false
   },
   "outputs": [],
   "source": [
    "#take the trips from a single bike\n",
    "allTripsOneDayTenBikes = allTripsOneDay[(allTripsOneDay['Bike ID'] == 14821) | \n",
    "                                        (allTripsOneDay['Bike ID'] == 19622) | \n",
    "                                        (allTripsOneDay['Bike ID'] == 17508) | \n",
    "                                        (allTripsOneDay['Bike ID'] == 16280) | \n",
    "                                        (allTripsOneDay['Bike ID'] == 16696) | \n",
    "                                        (allTripsOneDay['Bike ID'] == 15895) | \n",
    "                                        (allTripsOneDay['Bike ID'] == 20035) | \n",
    "                                        (allTripsOneDay['Bike ID'] == 19165) | \n",
    "                                        (allTripsOneDay['Bike ID'] == 19477) | \n",
    "                                        (allTripsOneDay['Bike ID'] == 17811)].copy()"
   ]
  },
  {
   "cell_type": "code",
   "execution_count": 23,
   "metadata": {
    "collapsed": true
   },
   "outputs": [],
   "source": [
    "df_merge = pd.merge(uniqueDirections_df, allTripsOneDayTenBikes, how='inner', on=['Start Station Latitude', 'Start Station Longitude', 'End Station Latitude', 'End Station Longitude'])"
   ]
  },
  {
   "cell_type": "code",
   "execution_count": 24,
   "metadata": {
    "collapsed": false
   },
   "outputs": [
    {
     "data": {
      "text/html": [
       "<div>\n",
       "<table border=\"1\" class=\"dataframe\">\n",
       "  <thead>\n",
       "    <tr style=\"text-align: right;\">\n",
       "      <th></th>\n",
       "      <th>Point Latitude</th>\n",
       "      <th>Point Longitude</th>\n",
       "      <th>Start Station Latitude</th>\n",
       "      <th>Start Station Longitude</th>\n",
       "      <th>End Station Latitude</th>\n",
       "      <th>End Station Longitude</th>\n",
       "      <th>order</th>\n",
       "      <th>dist</th>\n",
       "      <th>cumdist</th>\n",
       "      <th>Total Route Distance</th>\n",
       "      <th>...</th>\n",
       "      <th>Stop Time</th>\n",
       "      <th>Start Station ID</th>\n",
       "      <th>Start Station Name</th>\n",
       "      <th>End Station ID</th>\n",
       "      <th>End Station Name</th>\n",
       "      <th>Bike ID</th>\n",
       "      <th>User Type</th>\n",
       "      <th>Birth Year</th>\n",
       "      <th>Gender</th>\n",
       "      <th>Start Date</th>\n",
       "    </tr>\n",
       "  </thead>\n",
       "  <tbody>\n",
       "    <tr>\n",
       "      <th>0</th>\n",
       "      <td>40.689373</td>\n",
       "      <td>-73.989068</td>\n",
       "      <td>40.689269</td>\n",
       "      <td>-73.989129</td>\n",
       "      <td>40.690893</td>\n",
       "      <td>-73.996123</td>\n",
       "      <td>0</td>\n",
       "      <td>0.000000</td>\n",
       "      <td>0.000000</td>\n",
       "      <td>1.555529</td>\n",
       "      <td>...</td>\n",
       "      <td>2013-08-09 01:14:41</td>\n",
       "      <td>310</td>\n",
       "      <td>State St &amp; Smith St</td>\n",
       "      <td>157</td>\n",
       "      <td>Henry St &amp; Atlantic Ave</td>\n",
       "      <td>15895</td>\n",
       "      <td>Subscriber</td>\n",
       "      <td>1967</td>\n",
       "      <td>1</td>\n",
       "      <td>2013-08-09</td>\n",
       "    </tr>\n",
       "    <tr>\n",
       "      <th>1</th>\n",
       "      <td>40.689305</td>\n",
       "      <td>-73.988864</td>\n",
       "      <td>40.689269</td>\n",
       "      <td>-73.989129</td>\n",
       "      <td>40.690893</td>\n",
       "      <td>-73.996123</td>\n",
       "      <td>1</td>\n",
       "      <td>0.018813</td>\n",
       "      <td>0.018813</td>\n",
       "      <td>1.555529</td>\n",
       "      <td>...</td>\n",
       "      <td>2013-08-09 01:14:41</td>\n",
       "      <td>310</td>\n",
       "      <td>State St &amp; Smith St</td>\n",
       "      <td>157</td>\n",
       "      <td>Henry St &amp; Atlantic Ave</td>\n",
       "      <td>15895</td>\n",
       "      <td>Subscriber</td>\n",
       "      <td>1967</td>\n",
       "      <td>1</td>\n",
       "      <td>2013-08-09</td>\n",
       "    </tr>\n",
       "    <tr>\n",
       "      <th>2</th>\n",
       "      <td>40.689259</td>\n",
       "      <td>-73.988745</td>\n",
       "      <td>40.689269</td>\n",
       "      <td>-73.989129</td>\n",
       "      <td>40.690893</td>\n",
       "      <td>-73.996123</td>\n",
       "      <td>2</td>\n",
       "      <td>0.011237</td>\n",
       "      <td>0.030051</td>\n",
       "      <td>1.555529</td>\n",
       "      <td>...</td>\n",
       "      <td>2013-08-09 01:14:41</td>\n",
       "      <td>310</td>\n",
       "      <td>State St &amp; Smith St</td>\n",
       "      <td>157</td>\n",
       "      <td>Henry St &amp; Atlantic Ave</td>\n",
       "      <td>15895</td>\n",
       "      <td>Subscriber</td>\n",
       "      <td>1967</td>\n",
       "      <td>1</td>\n",
       "      <td>2013-08-09</td>\n",
       "    </tr>\n",
       "    <tr>\n",
       "      <th>3</th>\n",
       "      <td>40.689261</td>\n",
       "      <td>-73.988743</td>\n",
       "      <td>40.689269</td>\n",
       "      <td>-73.989129</td>\n",
       "      <td>40.690893</td>\n",
       "      <td>-73.996123</td>\n",
       "      <td>4</td>\n",
       "      <td>0.000306</td>\n",
       "      <td>0.030357</td>\n",
       "      <td>1.555529</td>\n",
       "      <td>...</td>\n",
       "      <td>2013-08-09 01:14:41</td>\n",
       "      <td>310</td>\n",
       "      <td>State St &amp; Smith St</td>\n",
       "      <td>157</td>\n",
       "      <td>Henry St &amp; Atlantic Ave</td>\n",
       "      <td>15895</td>\n",
       "      <td>Subscriber</td>\n",
       "      <td>1967</td>\n",
       "      <td>1</td>\n",
       "      <td>2013-08-09</td>\n",
       "    </tr>\n",
       "    <tr>\n",
       "      <th>4</th>\n",
       "      <td>40.689321</td>\n",
       "      <td>-73.988689</td>\n",
       "      <td>40.689269</td>\n",
       "      <td>-73.989129</td>\n",
       "      <td>40.690893</td>\n",
       "      <td>-73.996123</td>\n",
       "      <td>5</td>\n",
       "      <td>0.008035</td>\n",
       "      <td>0.038392</td>\n",
       "      <td>1.555529</td>\n",
       "      <td>...</td>\n",
       "      <td>2013-08-09 01:14:41</td>\n",
       "      <td>310</td>\n",
       "      <td>State St &amp; Smith St</td>\n",
       "      <td>157</td>\n",
       "      <td>Henry St &amp; Atlantic Ave</td>\n",
       "      <td>15895</td>\n",
       "      <td>Subscriber</td>\n",
       "      <td>1967</td>\n",
       "      <td>1</td>\n",
       "      <td>2013-08-09</td>\n",
       "    </tr>\n",
       "  </tbody>\n",
       "</table>\n",
       "<p>5 rows × 23 columns</p>\n",
       "</div>"
      ],
      "text/plain": [
       "   Point Latitude  Point Longitude  Start Station Latitude  \\\n",
       "0       40.689373       -73.989068               40.689269   \n",
       "1       40.689305       -73.988864               40.689269   \n",
       "2       40.689259       -73.988745               40.689269   \n",
       "3       40.689261       -73.988743               40.689269   \n",
       "4       40.689321       -73.988689               40.689269   \n",
       "\n",
       "   Start Station Longitude  End Station Latitude  End Station Longitude  \\\n",
       "0               -73.989129             40.690893             -73.996123   \n",
       "1               -73.989129             40.690893             -73.996123   \n",
       "2               -73.989129             40.690893             -73.996123   \n",
       "3               -73.989129             40.690893             -73.996123   \n",
       "4               -73.989129             40.690893             -73.996123   \n",
       "\n",
       "   order      dist   cumdist  Total Route Distance    ...      \\\n",
       "0      0  0.000000  0.000000              1.555529    ...       \n",
       "1      1  0.018813  0.018813              1.555529    ...       \n",
       "2      2  0.011237  0.030051              1.555529    ...       \n",
       "3      4  0.000306  0.030357              1.555529    ...       \n",
       "4      5  0.008035  0.038392              1.555529    ...       \n",
       "\n",
       "            Stop Time  Start Station ID   Start Station Name End Station ID  \\\n",
       "0 2013-08-09 01:14:41               310  State St & Smith St            157   \n",
       "1 2013-08-09 01:14:41               310  State St & Smith St            157   \n",
       "2 2013-08-09 01:14:41               310  State St & Smith St            157   \n",
       "3 2013-08-09 01:14:41               310  State St & Smith St            157   \n",
       "4 2013-08-09 01:14:41               310  State St & Smith St            157   \n",
       "\n",
       "          End Station Name Bike ID   User Type Birth Year  Gender Start Date  \n",
       "0  Henry St & Atlantic Ave   15895  Subscriber       1967       1 2013-08-09  \n",
       "1  Henry St & Atlantic Ave   15895  Subscriber       1967       1 2013-08-09  \n",
       "2  Henry St & Atlantic Ave   15895  Subscriber       1967       1 2013-08-09  \n",
       "3  Henry St & Atlantic Ave   15895  Subscriber       1967       1 2013-08-09  \n",
       "4  Henry St & Atlantic Ave   15895  Subscriber       1967       1 2013-08-09  \n",
       "\n",
       "[5 rows x 23 columns]"
      ]
     },
     "execution_count": 24,
     "metadata": {},
     "output_type": "execute_result"
    }
   ],
   "source": [
    "df_merge.head()"
   ]
  },
  {
   "cell_type": "code",
   "execution_count": 25,
   "metadata": {
    "collapsed": false
   },
   "outputs": [],
   "source": [
    "df_merge['Time'] = np.where(df_merge['order']==0, df_merge['Start Time'], pd.NaT)"
   ]
  },
  {
   "cell_type": "code",
   "execution_count": 26,
   "metadata": {
    "collapsed": true
   },
   "outputs": [],
   "source": [
    "df_merge['Time'] = pd.to_datetime(df_merge['Time'])"
   ]
  },
  {
   "cell_type": "code",
   "execution_count": 27,
   "metadata": {
    "collapsed": false
   },
   "outputs": [],
   "source": [
    "df_merge['Time'] = np.where(df_merge['Percent Complete']==1, df_merge['Stop Time'], df_merge['Time'])"
   ]
  },
  {
   "cell_type": "code",
   "execution_count": 28,
   "metadata": {
    "collapsed": false
   },
   "outputs": [],
   "source": [
    "#uniqueDirections_df[(uniqueDirections_df['Start Station Latitude'].round(5)==40.72917) & (uniqueDirections_df['End Station Latitude'].round(5)==40.72066)].head()"
   ]
  },
  {
   "cell_type": "code",
   "execution_count": 29,
   "metadata": {
    "collapsed": false
   },
   "outputs": [],
   "source": [
    "#df_merge[['Start Station Latitude', 'End Station Latitude', 'Start Time', 'Stop Time', 'Time']].head(70)"
   ]
  },
  {
   "cell_type": "code",
   "execution_count": 30,
   "metadata": {
    "collapsed": false
   },
   "outputs": [],
   "source": [
    "df_merge['Time'] = (df_merge['Time'] - np.datetime64('2010-01-01')) / np.timedelta64(1, 's')"
   ]
  },
  {
   "cell_type": "code",
   "execution_count": 31,
   "metadata": {
    "collapsed": true
   },
   "outputs": [],
   "source": [
    "#df_merge['Time'] = df_merge['Time'].interpolate(method='values')"
   ]
  },
  {
   "cell_type": "code",
   "execution_count": 33,
   "metadata": {
    "collapsed": false
   },
   "outputs": [],
   "source": [
    "df_merge['Time'] = df_merge.groupby(['Start Station Latitude', 'Start Station Longitude', 'End Station Latitude', 'End Station Longitude', \n",
    "                  'Start Time', 'Stop Time', 'Bike ID'])['cumdist', 'Time'].apply(pd.DataFrame.interpolate, method='values')['Time']"
   ]
  },
  {
   "cell_type": "code",
   "execution_count": 34,
   "metadata": {
    "collapsed": false
   },
   "outputs": [],
   "source": [
    "df_merge['Time'] = df_merge['Time'] * np.timedelta64(1, 's') + np.datetime64('2010-01-01T00:00:01')"
   ]
  },
  {
   "cell_type": "code",
   "execution_count": 35,
   "metadata": {
    "collapsed": false
   },
   "outputs": [
    {
     "data": {
      "text/html": [
       "<div>\n",
       "<table border=\"1\" class=\"dataframe\">\n",
       "  <thead>\n",
       "    <tr style=\"text-align: right;\">\n",
       "      <th></th>\n",
       "      <th>Start Station Latitude</th>\n",
       "      <th>End Station Latitude</th>\n",
       "      <th>Start Time</th>\n",
       "      <th>Stop Time</th>\n",
       "      <th>Time</th>\n",
       "    </tr>\n",
       "  </thead>\n",
       "  <tbody>\n",
       "    <tr>\n",
       "      <th>0</th>\n",
       "      <td>40.689269</td>\n",
       "      <td>40.690893</td>\n",
       "      <td>2013-08-09 01:09:48</td>\n",
       "      <td>2013-08-09 01:14:41</td>\n",
       "      <td>2013-08-09 01:09:48.262304001</td>\n",
       "    </tr>\n",
       "    <tr>\n",
       "      <th>1</th>\n",
       "      <td>40.689269</td>\n",
       "      <td>40.690893</td>\n",
       "      <td>2013-08-09 01:09:48</td>\n",
       "      <td>2013-08-09 01:14:41</td>\n",
       "      <td>2013-08-09 01:09:57.262304001</td>\n",
       "    </tr>\n",
       "    <tr>\n",
       "      <th>2</th>\n",
       "      <td>40.689269</td>\n",
       "      <td>40.690893</td>\n",
       "      <td>2013-08-09 01:09:48</td>\n",
       "      <td>2013-08-09 01:14:41</td>\n",
       "      <td>2013-08-09 01:10:06.262304001</td>\n",
       "    </tr>\n",
       "    <tr>\n",
       "      <th>3</th>\n",
       "      <td>40.689269</td>\n",
       "      <td>40.690893</td>\n",
       "      <td>2013-08-09 01:09:48</td>\n",
       "      <td>2013-08-09 01:14:41</td>\n",
       "      <td>2013-08-09 01:10:14.262304001</td>\n",
       "    </tr>\n",
       "    <tr>\n",
       "      <th>4</th>\n",
       "      <td>40.689269</td>\n",
       "      <td>40.690893</td>\n",
       "      <td>2013-08-09 01:09:48</td>\n",
       "      <td>2013-08-09 01:14:41</td>\n",
       "      <td>2013-08-09 01:10:23.262304001</td>\n",
       "    </tr>\n",
       "    <tr>\n",
       "      <th>5</th>\n",
       "      <td>40.689269</td>\n",
       "      <td>40.690893</td>\n",
       "      <td>2013-08-09 01:09:48</td>\n",
       "      <td>2013-08-09 01:14:41</td>\n",
       "      <td>2013-08-09 01:10:32.262304001</td>\n",
       "    </tr>\n",
       "    <tr>\n",
       "      <th>6</th>\n",
       "      <td>40.689269</td>\n",
       "      <td>40.690893</td>\n",
       "      <td>2013-08-09 01:09:48</td>\n",
       "      <td>2013-08-09 01:14:41</td>\n",
       "      <td>2013-08-09 01:10:40.262304001</td>\n",
       "    </tr>\n",
       "    <tr>\n",
       "      <th>7</th>\n",
       "      <td>40.689269</td>\n",
       "      <td>40.690893</td>\n",
       "      <td>2013-08-09 01:09:48</td>\n",
       "      <td>2013-08-09 01:14:41</td>\n",
       "      <td>2013-08-09 01:10:49.262304001</td>\n",
       "    </tr>\n",
       "    <tr>\n",
       "      <th>8</th>\n",
       "      <td>40.689269</td>\n",
       "      <td>40.690893</td>\n",
       "      <td>2013-08-09 01:09:48</td>\n",
       "      <td>2013-08-09 01:14:41</td>\n",
       "      <td>2013-08-09 01:10:57.262304001</td>\n",
       "    </tr>\n",
       "    <tr>\n",
       "      <th>9</th>\n",
       "      <td>40.689269</td>\n",
       "      <td>40.690893</td>\n",
       "      <td>2013-08-09 01:09:48</td>\n",
       "      <td>2013-08-09 01:14:41</td>\n",
       "      <td>2013-08-09 01:11:06.262304001</td>\n",
       "    </tr>\n",
       "    <tr>\n",
       "      <th>10</th>\n",
       "      <td>40.689269</td>\n",
       "      <td>40.690893</td>\n",
       "      <td>2013-08-09 01:09:48</td>\n",
       "      <td>2013-08-09 01:14:41</td>\n",
       "      <td>2013-08-09 01:11:15.262304001</td>\n",
       "    </tr>\n",
       "    <tr>\n",
       "      <th>11</th>\n",
       "      <td>40.689269</td>\n",
       "      <td>40.690893</td>\n",
       "      <td>2013-08-09 01:09:48</td>\n",
       "      <td>2013-08-09 01:14:41</td>\n",
       "      <td>2013-08-09 01:11:23.262304001</td>\n",
       "    </tr>\n",
       "    <tr>\n",
       "      <th>12</th>\n",
       "      <td>40.689269</td>\n",
       "      <td>40.690893</td>\n",
       "      <td>2013-08-09 01:09:48</td>\n",
       "      <td>2013-08-09 01:14:41</td>\n",
       "      <td>2013-08-09 01:11:32.262304001</td>\n",
       "    </tr>\n",
       "    <tr>\n",
       "      <th>13</th>\n",
       "      <td>40.689269</td>\n",
       "      <td>40.690893</td>\n",
       "      <td>2013-08-09 01:09:48</td>\n",
       "      <td>2013-08-09 01:14:41</td>\n",
       "      <td>2013-08-09 01:11:41.262304001</td>\n",
       "    </tr>\n",
       "    <tr>\n",
       "      <th>14</th>\n",
       "      <td>40.689269</td>\n",
       "      <td>40.690893</td>\n",
       "      <td>2013-08-09 01:09:48</td>\n",
       "      <td>2013-08-09 01:14:41</td>\n",
       "      <td>2013-08-09 01:11:49.262304001</td>\n",
       "    </tr>\n",
       "    <tr>\n",
       "      <th>15</th>\n",
       "      <td>40.689269</td>\n",
       "      <td>40.690893</td>\n",
       "      <td>2013-08-09 01:09:48</td>\n",
       "      <td>2013-08-09 01:14:41</td>\n",
       "      <td>2013-08-09 01:11:58.262304001</td>\n",
       "    </tr>\n",
       "    <tr>\n",
       "      <th>16</th>\n",
       "      <td>40.689269</td>\n",
       "      <td>40.690893</td>\n",
       "      <td>2013-08-09 01:09:48</td>\n",
       "      <td>2013-08-09 01:14:41</td>\n",
       "      <td>2013-08-09 01:12:06.262304001</td>\n",
       "    </tr>\n",
       "    <tr>\n",
       "      <th>17</th>\n",
       "      <td>40.689269</td>\n",
       "      <td>40.690893</td>\n",
       "      <td>2013-08-09 01:09:48</td>\n",
       "      <td>2013-08-09 01:14:41</td>\n",
       "      <td>2013-08-09 01:12:15.262304001</td>\n",
       "    </tr>\n",
       "    <tr>\n",
       "      <th>18</th>\n",
       "      <td>40.689269</td>\n",
       "      <td>40.690893</td>\n",
       "      <td>2013-08-09 01:09:48</td>\n",
       "      <td>2013-08-09 01:14:41</td>\n",
       "      <td>2013-08-09 01:12:24.262304001</td>\n",
       "    </tr>\n",
       "    <tr>\n",
       "      <th>19</th>\n",
       "      <td>40.689269</td>\n",
       "      <td>40.690893</td>\n",
       "      <td>2013-08-09 01:09:48</td>\n",
       "      <td>2013-08-09 01:14:41</td>\n",
       "      <td>2013-08-09 01:12:32.262304001</td>\n",
       "    </tr>\n",
       "    <tr>\n",
       "      <th>20</th>\n",
       "      <td>40.689269</td>\n",
       "      <td>40.690893</td>\n",
       "      <td>2013-08-09 01:09:48</td>\n",
       "      <td>2013-08-09 01:14:41</td>\n",
       "      <td>2013-08-09 01:12:41.262304001</td>\n",
       "    </tr>\n",
       "    <tr>\n",
       "      <th>21</th>\n",
       "      <td>40.689269</td>\n",
       "      <td>40.690893</td>\n",
       "      <td>2013-08-09 01:09:48</td>\n",
       "      <td>2013-08-09 01:14:41</td>\n",
       "      <td>2013-08-09 01:12:49.262304001</td>\n",
       "    </tr>\n",
       "    <tr>\n",
       "      <th>22</th>\n",
       "      <td>40.689269</td>\n",
       "      <td>40.690893</td>\n",
       "      <td>2013-08-09 01:09:48</td>\n",
       "      <td>2013-08-09 01:14:41</td>\n",
       "      <td>2013-08-09 01:12:58.262304001</td>\n",
       "    </tr>\n",
       "    <tr>\n",
       "      <th>23</th>\n",
       "      <td>40.689269</td>\n",
       "      <td>40.690893</td>\n",
       "      <td>2013-08-09 01:09:48</td>\n",
       "      <td>2013-08-09 01:14:41</td>\n",
       "      <td>2013-08-09 01:13:07.262304001</td>\n",
       "    </tr>\n",
       "    <tr>\n",
       "      <th>24</th>\n",
       "      <td>40.689269</td>\n",
       "      <td>40.690893</td>\n",
       "      <td>2013-08-09 01:09:48</td>\n",
       "      <td>2013-08-09 01:14:41</td>\n",
       "      <td>2013-08-09 01:13:15.262304001</td>\n",
       "    </tr>\n",
       "    <tr>\n",
       "      <th>25</th>\n",
       "      <td>40.689269</td>\n",
       "      <td>40.690893</td>\n",
       "      <td>2013-08-09 01:09:48</td>\n",
       "      <td>2013-08-09 01:14:41</td>\n",
       "      <td>2013-08-09 01:13:24.262304001</td>\n",
       "    </tr>\n",
       "    <tr>\n",
       "      <th>26</th>\n",
       "      <td>40.689269</td>\n",
       "      <td>40.690893</td>\n",
       "      <td>2013-08-09 01:09:48</td>\n",
       "      <td>2013-08-09 01:14:41</td>\n",
       "      <td>2013-08-09 01:13:33.262304001</td>\n",
       "    </tr>\n",
       "    <tr>\n",
       "      <th>27</th>\n",
       "      <td>40.689269</td>\n",
       "      <td>40.690893</td>\n",
       "      <td>2013-08-09 01:09:48</td>\n",
       "      <td>2013-08-09 01:14:41</td>\n",
       "      <td>2013-08-09 01:13:41.262304001</td>\n",
       "    </tr>\n",
       "    <tr>\n",
       "      <th>28</th>\n",
       "      <td>40.689269</td>\n",
       "      <td>40.690893</td>\n",
       "      <td>2013-08-09 01:09:48</td>\n",
       "      <td>2013-08-09 01:14:41</td>\n",
       "      <td>2013-08-09 01:13:50.262304001</td>\n",
       "    </tr>\n",
       "    <tr>\n",
       "      <th>29</th>\n",
       "      <td>40.689269</td>\n",
       "      <td>40.690893</td>\n",
       "      <td>2013-08-09 01:09:48</td>\n",
       "      <td>2013-08-09 01:14:41</td>\n",
       "      <td>2013-08-09 01:13:58.262304001</td>\n",
       "    </tr>\n",
       "    <tr>\n",
       "      <th>...</th>\n",
       "      <td>...</td>\n",
       "      <td>...</td>\n",
       "      <td>...</td>\n",
       "      <td>...</td>\n",
       "      <td>...</td>\n",
       "    </tr>\n",
       "    <tr>\n",
       "      <th>50</th>\n",
       "      <td>40.690893</td>\n",
       "      <td>40.692463</td>\n",
       "      <td>2013-08-09 08:06:14</td>\n",
       "      <td>2013-08-09 08:25:45</td>\n",
       "      <td>2013-08-09 08:15:41.262304001</td>\n",
       "    </tr>\n",
       "    <tr>\n",
       "      <th>51</th>\n",
       "      <td>40.690893</td>\n",
       "      <td>40.692463</td>\n",
       "      <td>2013-08-09 08:06:14</td>\n",
       "      <td>2013-08-09 08:25:45</td>\n",
       "      <td>2013-08-09 08:16:19.262304001</td>\n",
       "    </tr>\n",
       "    <tr>\n",
       "      <th>52</th>\n",
       "      <td>40.690893</td>\n",
       "      <td>40.692463</td>\n",
       "      <td>2013-08-09 08:06:14</td>\n",
       "      <td>2013-08-09 08:25:45</td>\n",
       "      <td>2013-08-09 08:16:57.262304001</td>\n",
       "    </tr>\n",
       "    <tr>\n",
       "      <th>53</th>\n",
       "      <td>40.690893</td>\n",
       "      <td>40.692463</td>\n",
       "      <td>2013-08-09 08:06:14</td>\n",
       "      <td>2013-08-09 08:25:45</td>\n",
       "      <td>2013-08-09 08:17:34.262304001</td>\n",
       "    </tr>\n",
       "    <tr>\n",
       "      <th>54</th>\n",
       "      <td>40.690893</td>\n",
       "      <td>40.692463</td>\n",
       "      <td>2013-08-09 08:06:14</td>\n",
       "      <td>2013-08-09 08:25:45</td>\n",
       "      <td>2013-08-09 08:18:12.262304001</td>\n",
       "    </tr>\n",
       "    <tr>\n",
       "      <th>55</th>\n",
       "      <td>40.690893</td>\n",
       "      <td>40.692463</td>\n",
       "      <td>2013-08-09 08:06:14</td>\n",
       "      <td>2013-08-09 08:25:45</td>\n",
       "      <td>2013-08-09 08:18:50.262304001</td>\n",
       "    </tr>\n",
       "    <tr>\n",
       "      <th>56</th>\n",
       "      <td>40.690893</td>\n",
       "      <td>40.692463</td>\n",
       "      <td>2013-08-09 08:06:14</td>\n",
       "      <td>2013-08-09 08:25:45</td>\n",
       "      <td>2013-08-09 08:19:28.262304001</td>\n",
       "    </tr>\n",
       "    <tr>\n",
       "      <th>57</th>\n",
       "      <td>40.690893</td>\n",
       "      <td>40.692463</td>\n",
       "      <td>2013-08-09 08:06:14</td>\n",
       "      <td>2013-08-09 08:25:45</td>\n",
       "      <td>2013-08-09 08:20:06.262304001</td>\n",
       "    </tr>\n",
       "    <tr>\n",
       "      <th>58</th>\n",
       "      <td>40.690893</td>\n",
       "      <td>40.692463</td>\n",
       "      <td>2013-08-09 08:06:14</td>\n",
       "      <td>2013-08-09 08:25:45</td>\n",
       "      <td>2013-08-09 08:20:43.262304001</td>\n",
       "    </tr>\n",
       "    <tr>\n",
       "      <th>59</th>\n",
       "      <td>40.690893</td>\n",
       "      <td>40.692463</td>\n",
       "      <td>2013-08-09 08:06:14</td>\n",
       "      <td>2013-08-09 08:25:45</td>\n",
       "      <td>2013-08-09 08:21:21.262304001</td>\n",
       "    </tr>\n",
       "    <tr>\n",
       "      <th>60</th>\n",
       "      <td>40.690893</td>\n",
       "      <td>40.692463</td>\n",
       "      <td>2013-08-09 08:06:14</td>\n",
       "      <td>2013-08-09 08:25:45</td>\n",
       "      <td>2013-08-09 08:21:59.262304001</td>\n",
       "    </tr>\n",
       "    <tr>\n",
       "      <th>61</th>\n",
       "      <td>40.690893</td>\n",
       "      <td>40.692463</td>\n",
       "      <td>2013-08-09 08:06:14</td>\n",
       "      <td>2013-08-09 08:25:45</td>\n",
       "      <td>2013-08-09 08:22:37.262304001</td>\n",
       "    </tr>\n",
       "    <tr>\n",
       "      <th>62</th>\n",
       "      <td>40.690893</td>\n",
       "      <td>40.692463</td>\n",
       "      <td>2013-08-09 08:06:14</td>\n",
       "      <td>2013-08-09 08:25:45</td>\n",
       "      <td>2013-08-09 08:23:14.262304001</td>\n",
       "    </tr>\n",
       "    <tr>\n",
       "      <th>63</th>\n",
       "      <td>40.690893</td>\n",
       "      <td>40.692463</td>\n",
       "      <td>2013-08-09 08:06:14</td>\n",
       "      <td>2013-08-09 08:25:45</td>\n",
       "      <td>2013-08-09 08:23:52.262304001</td>\n",
       "    </tr>\n",
       "    <tr>\n",
       "      <th>64</th>\n",
       "      <td>40.690893</td>\n",
       "      <td>40.692463</td>\n",
       "      <td>2013-08-09 08:06:14</td>\n",
       "      <td>2013-08-09 08:25:45</td>\n",
       "      <td>2013-08-09 08:24:30.262304001</td>\n",
       "    </tr>\n",
       "    <tr>\n",
       "      <th>65</th>\n",
       "      <td>40.690893</td>\n",
       "      <td>40.692463</td>\n",
       "      <td>2013-08-09 08:06:14</td>\n",
       "      <td>2013-08-09 08:25:45</td>\n",
       "      <td>2013-08-09 08:25:08.262304001</td>\n",
       "    </tr>\n",
       "    <tr>\n",
       "      <th>66</th>\n",
       "      <td>40.690893</td>\n",
       "      <td>40.692463</td>\n",
       "      <td>2013-08-09 08:06:14</td>\n",
       "      <td>2013-08-09 08:25:45</td>\n",
       "      <td>2013-08-09 08:25:45.262304001</td>\n",
       "    </tr>\n",
       "    <tr>\n",
       "      <th>67</th>\n",
       "      <td>40.692362</td>\n",
       "      <td>40.713126</td>\n",
       "      <td>2013-08-09 16:29:00</td>\n",
       "      <td>2013-08-09 16:43:56</td>\n",
       "      <td>2013-08-09 16:29:00.262304001</td>\n",
       "    </tr>\n",
       "    <tr>\n",
       "      <th>68</th>\n",
       "      <td>40.692362</td>\n",
       "      <td>40.713126</td>\n",
       "      <td>2013-08-09 16:29:00</td>\n",
       "      <td>2013-08-09 16:43:56</td>\n",
       "      <td>2013-08-09 16:29:06.262304001</td>\n",
       "    </tr>\n",
       "    <tr>\n",
       "      <th>69</th>\n",
       "      <td>40.692362</td>\n",
       "      <td>40.713126</td>\n",
       "      <td>2013-08-09 16:29:00</td>\n",
       "      <td>2013-08-09 16:43:56</td>\n",
       "      <td>2013-08-09 16:29:12.262304001</td>\n",
       "    </tr>\n",
       "    <tr>\n",
       "      <th>70</th>\n",
       "      <td>40.692362</td>\n",
       "      <td>40.713126</td>\n",
       "      <td>2013-08-09 16:29:00</td>\n",
       "      <td>2013-08-09 16:43:56</td>\n",
       "      <td>2013-08-09 16:29:17.262304001</td>\n",
       "    </tr>\n",
       "    <tr>\n",
       "      <th>71</th>\n",
       "      <td>40.692362</td>\n",
       "      <td>40.713126</td>\n",
       "      <td>2013-08-09 16:29:00</td>\n",
       "      <td>2013-08-09 16:43:56</td>\n",
       "      <td>2013-08-09 16:29:23.262304001</td>\n",
       "    </tr>\n",
       "    <tr>\n",
       "      <th>72</th>\n",
       "      <td>40.692362</td>\n",
       "      <td>40.713126</td>\n",
       "      <td>2013-08-09 16:29:00</td>\n",
       "      <td>2013-08-09 16:43:56</td>\n",
       "      <td>2013-08-09 16:29:29.262304001</td>\n",
       "    </tr>\n",
       "    <tr>\n",
       "      <th>73</th>\n",
       "      <td>40.692362</td>\n",
       "      <td>40.713126</td>\n",
       "      <td>2013-08-09 16:29:00</td>\n",
       "      <td>2013-08-09 16:43:56</td>\n",
       "      <td>2013-08-09 16:29:34.262304001</td>\n",
       "    </tr>\n",
       "    <tr>\n",
       "      <th>74</th>\n",
       "      <td>40.692362</td>\n",
       "      <td>40.713126</td>\n",
       "      <td>2013-08-09 16:29:00</td>\n",
       "      <td>2013-08-09 16:43:56</td>\n",
       "      <td>2013-08-09 16:29:40.262304001</td>\n",
       "    </tr>\n",
       "    <tr>\n",
       "      <th>75</th>\n",
       "      <td>40.692362</td>\n",
       "      <td>40.713126</td>\n",
       "      <td>2013-08-09 16:29:00</td>\n",
       "      <td>2013-08-09 16:43:56</td>\n",
       "      <td>2013-08-09 16:29:46.262304001</td>\n",
       "    </tr>\n",
       "    <tr>\n",
       "      <th>76</th>\n",
       "      <td>40.692362</td>\n",
       "      <td>40.713126</td>\n",
       "      <td>2013-08-09 16:29:00</td>\n",
       "      <td>2013-08-09 16:43:56</td>\n",
       "      <td>2013-08-09 16:29:51.262304001</td>\n",
       "    </tr>\n",
       "    <tr>\n",
       "      <th>77</th>\n",
       "      <td>40.692362</td>\n",
       "      <td>40.713126</td>\n",
       "      <td>2013-08-09 16:29:00</td>\n",
       "      <td>2013-08-09 16:43:56</td>\n",
       "      <td>2013-08-09 16:29:57.262304001</td>\n",
       "    </tr>\n",
       "    <tr>\n",
       "      <th>78</th>\n",
       "      <td>40.692362</td>\n",
       "      <td>40.713126</td>\n",
       "      <td>2013-08-09 16:29:00</td>\n",
       "      <td>2013-08-09 16:43:56</td>\n",
       "      <td>2013-08-09 16:30:02.262304001</td>\n",
       "    </tr>\n",
       "    <tr>\n",
       "      <th>79</th>\n",
       "      <td>40.692362</td>\n",
       "      <td>40.713126</td>\n",
       "      <td>2013-08-09 16:29:00</td>\n",
       "      <td>2013-08-09 16:43:56</td>\n",
       "      <td>2013-08-09 16:30:08.262304001</td>\n",
       "    </tr>\n",
       "  </tbody>\n",
       "</table>\n",
       "<p>80 rows × 5 columns</p>\n",
       "</div>"
      ],
      "text/plain": [
       "    Start Station Latitude  End Station Latitude          Start Time  \\\n",
       "0                40.689269             40.690893 2013-08-09 01:09:48   \n",
       "1                40.689269             40.690893 2013-08-09 01:09:48   \n",
       "2                40.689269             40.690893 2013-08-09 01:09:48   \n",
       "3                40.689269             40.690893 2013-08-09 01:09:48   \n",
       "4                40.689269             40.690893 2013-08-09 01:09:48   \n",
       "5                40.689269             40.690893 2013-08-09 01:09:48   \n",
       "6                40.689269             40.690893 2013-08-09 01:09:48   \n",
       "7                40.689269             40.690893 2013-08-09 01:09:48   \n",
       "8                40.689269             40.690893 2013-08-09 01:09:48   \n",
       "9                40.689269             40.690893 2013-08-09 01:09:48   \n",
       "10               40.689269             40.690893 2013-08-09 01:09:48   \n",
       "11               40.689269             40.690893 2013-08-09 01:09:48   \n",
       "12               40.689269             40.690893 2013-08-09 01:09:48   \n",
       "13               40.689269             40.690893 2013-08-09 01:09:48   \n",
       "14               40.689269             40.690893 2013-08-09 01:09:48   \n",
       "15               40.689269             40.690893 2013-08-09 01:09:48   \n",
       "16               40.689269             40.690893 2013-08-09 01:09:48   \n",
       "17               40.689269             40.690893 2013-08-09 01:09:48   \n",
       "18               40.689269             40.690893 2013-08-09 01:09:48   \n",
       "19               40.689269             40.690893 2013-08-09 01:09:48   \n",
       "20               40.689269             40.690893 2013-08-09 01:09:48   \n",
       "21               40.689269             40.690893 2013-08-09 01:09:48   \n",
       "22               40.689269             40.690893 2013-08-09 01:09:48   \n",
       "23               40.689269             40.690893 2013-08-09 01:09:48   \n",
       "24               40.689269             40.690893 2013-08-09 01:09:48   \n",
       "25               40.689269             40.690893 2013-08-09 01:09:48   \n",
       "26               40.689269             40.690893 2013-08-09 01:09:48   \n",
       "27               40.689269             40.690893 2013-08-09 01:09:48   \n",
       "28               40.689269             40.690893 2013-08-09 01:09:48   \n",
       "29               40.689269             40.690893 2013-08-09 01:09:48   \n",
       "..                     ...                   ...                 ...   \n",
       "50               40.690893             40.692463 2013-08-09 08:06:14   \n",
       "51               40.690893             40.692463 2013-08-09 08:06:14   \n",
       "52               40.690893             40.692463 2013-08-09 08:06:14   \n",
       "53               40.690893             40.692463 2013-08-09 08:06:14   \n",
       "54               40.690893             40.692463 2013-08-09 08:06:14   \n",
       "55               40.690893             40.692463 2013-08-09 08:06:14   \n",
       "56               40.690893             40.692463 2013-08-09 08:06:14   \n",
       "57               40.690893             40.692463 2013-08-09 08:06:14   \n",
       "58               40.690893             40.692463 2013-08-09 08:06:14   \n",
       "59               40.690893             40.692463 2013-08-09 08:06:14   \n",
       "60               40.690893             40.692463 2013-08-09 08:06:14   \n",
       "61               40.690893             40.692463 2013-08-09 08:06:14   \n",
       "62               40.690893             40.692463 2013-08-09 08:06:14   \n",
       "63               40.690893             40.692463 2013-08-09 08:06:14   \n",
       "64               40.690893             40.692463 2013-08-09 08:06:14   \n",
       "65               40.690893             40.692463 2013-08-09 08:06:14   \n",
       "66               40.690893             40.692463 2013-08-09 08:06:14   \n",
       "67               40.692362             40.713126 2013-08-09 16:29:00   \n",
       "68               40.692362             40.713126 2013-08-09 16:29:00   \n",
       "69               40.692362             40.713126 2013-08-09 16:29:00   \n",
       "70               40.692362             40.713126 2013-08-09 16:29:00   \n",
       "71               40.692362             40.713126 2013-08-09 16:29:00   \n",
       "72               40.692362             40.713126 2013-08-09 16:29:00   \n",
       "73               40.692362             40.713126 2013-08-09 16:29:00   \n",
       "74               40.692362             40.713126 2013-08-09 16:29:00   \n",
       "75               40.692362             40.713126 2013-08-09 16:29:00   \n",
       "76               40.692362             40.713126 2013-08-09 16:29:00   \n",
       "77               40.692362             40.713126 2013-08-09 16:29:00   \n",
       "78               40.692362             40.713126 2013-08-09 16:29:00   \n",
       "79               40.692362             40.713126 2013-08-09 16:29:00   \n",
       "\n",
       "             Stop Time                          Time  \n",
       "0  2013-08-09 01:14:41 2013-08-09 01:09:48.262304001  \n",
       "1  2013-08-09 01:14:41 2013-08-09 01:09:57.262304001  \n",
       "2  2013-08-09 01:14:41 2013-08-09 01:10:06.262304001  \n",
       "3  2013-08-09 01:14:41 2013-08-09 01:10:14.262304001  \n",
       "4  2013-08-09 01:14:41 2013-08-09 01:10:23.262304001  \n",
       "5  2013-08-09 01:14:41 2013-08-09 01:10:32.262304001  \n",
       "6  2013-08-09 01:14:41 2013-08-09 01:10:40.262304001  \n",
       "7  2013-08-09 01:14:41 2013-08-09 01:10:49.262304001  \n",
       "8  2013-08-09 01:14:41 2013-08-09 01:10:57.262304001  \n",
       "9  2013-08-09 01:14:41 2013-08-09 01:11:06.262304001  \n",
       "10 2013-08-09 01:14:41 2013-08-09 01:11:15.262304001  \n",
       "11 2013-08-09 01:14:41 2013-08-09 01:11:23.262304001  \n",
       "12 2013-08-09 01:14:41 2013-08-09 01:11:32.262304001  \n",
       "13 2013-08-09 01:14:41 2013-08-09 01:11:41.262304001  \n",
       "14 2013-08-09 01:14:41 2013-08-09 01:11:49.262304001  \n",
       "15 2013-08-09 01:14:41 2013-08-09 01:11:58.262304001  \n",
       "16 2013-08-09 01:14:41 2013-08-09 01:12:06.262304001  \n",
       "17 2013-08-09 01:14:41 2013-08-09 01:12:15.262304001  \n",
       "18 2013-08-09 01:14:41 2013-08-09 01:12:24.262304001  \n",
       "19 2013-08-09 01:14:41 2013-08-09 01:12:32.262304001  \n",
       "20 2013-08-09 01:14:41 2013-08-09 01:12:41.262304001  \n",
       "21 2013-08-09 01:14:41 2013-08-09 01:12:49.262304001  \n",
       "22 2013-08-09 01:14:41 2013-08-09 01:12:58.262304001  \n",
       "23 2013-08-09 01:14:41 2013-08-09 01:13:07.262304001  \n",
       "24 2013-08-09 01:14:41 2013-08-09 01:13:15.262304001  \n",
       "25 2013-08-09 01:14:41 2013-08-09 01:13:24.262304001  \n",
       "26 2013-08-09 01:14:41 2013-08-09 01:13:33.262304001  \n",
       "27 2013-08-09 01:14:41 2013-08-09 01:13:41.262304001  \n",
       "28 2013-08-09 01:14:41 2013-08-09 01:13:50.262304001  \n",
       "29 2013-08-09 01:14:41 2013-08-09 01:13:58.262304001  \n",
       "..                 ...                           ...  \n",
       "50 2013-08-09 08:25:45 2013-08-09 08:15:41.262304001  \n",
       "51 2013-08-09 08:25:45 2013-08-09 08:16:19.262304001  \n",
       "52 2013-08-09 08:25:45 2013-08-09 08:16:57.262304001  \n",
       "53 2013-08-09 08:25:45 2013-08-09 08:17:34.262304001  \n",
       "54 2013-08-09 08:25:45 2013-08-09 08:18:12.262304001  \n",
       "55 2013-08-09 08:25:45 2013-08-09 08:18:50.262304001  \n",
       "56 2013-08-09 08:25:45 2013-08-09 08:19:28.262304001  \n",
       "57 2013-08-09 08:25:45 2013-08-09 08:20:06.262304001  \n",
       "58 2013-08-09 08:25:45 2013-08-09 08:20:43.262304001  \n",
       "59 2013-08-09 08:25:45 2013-08-09 08:21:21.262304001  \n",
       "60 2013-08-09 08:25:45 2013-08-09 08:21:59.262304001  \n",
       "61 2013-08-09 08:25:45 2013-08-09 08:22:37.262304001  \n",
       "62 2013-08-09 08:25:45 2013-08-09 08:23:14.262304001  \n",
       "63 2013-08-09 08:25:45 2013-08-09 08:23:52.262304001  \n",
       "64 2013-08-09 08:25:45 2013-08-09 08:24:30.262304001  \n",
       "65 2013-08-09 08:25:45 2013-08-09 08:25:08.262304001  \n",
       "66 2013-08-09 08:25:45 2013-08-09 08:25:45.262304001  \n",
       "67 2013-08-09 16:43:56 2013-08-09 16:29:00.262304001  \n",
       "68 2013-08-09 16:43:56 2013-08-09 16:29:06.262304001  \n",
       "69 2013-08-09 16:43:56 2013-08-09 16:29:12.262304001  \n",
       "70 2013-08-09 16:43:56 2013-08-09 16:29:17.262304001  \n",
       "71 2013-08-09 16:43:56 2013-08-09 16:29:23.262304001  \n",
       "72 2013-08-09 16:43:56 2013-08-09 16:29:29.262304001  \n",
       "73 2013-08-09 16:43:56 2013-08-09 16:29:34.262304001  \n",
       "74 2013-08-09 16:43:56 2013-08-09 16:29:40.262304001  \n",
       "75 2013-08-09 16:43:56 2013-08-09 16:29:46.262304001  \n",
       "76 2013-08-09 16:43:56 2013-08-09 16:29:51.262304001  \n",
       "77 2013-08-09 16:43:56 2013-08-09 16:29:57.262304001  \n",
       "78 2013-08-09 16:43:56 2013-08-09 16:30:02.262304001  \n",
       "79 2013-08-09 16:43:56 2013-08-09 16:30:08.262304001  \n",
       "\n",
       "[80 rows x 5 columns]"
      ]
     },
     "execution_count": 35,
     "metadata": {},
     "output_type": "execute_result"
    }
   ],
   "source": [
    "df_merge[['Start Station Latitude', 'End Station Latitude', 'Start Time', 'Stop Time', 'Time']].head(80)"
   ]
  },
  {
   "cell_type": "code",
   "execution_count": null,
   "metadata": {
    "collapsed": true
   },
   "outputs": [],
   "source": []
  },
  {
   "cell_type": "code",
   "execution_count": null,
   "metadata": {
    "collapsed": true
   },
   "outputs": [],
   "source": []
  },
  {
   "cell_type": "code",
   "execution_count": null,
   "metadata": {
    "collapsed": false
   },
   "outputs": [],
   "source": [
    "####################################\n",
    "# GET DIRECTIONS ONCE START ########\n",
    "####################################\n",
    "\n",
    "#start = \"76 Henry Street, Brooklyn, NY, USA\"\n",
    "#finish = \"55 3rd Avenue, New York, NY, USA\"\n",
    "\n",
    "start = (40.749718, -74.002950)\n",
    "finish = (40.726795, -73.996951)"
   ]
  },
  {
   "cell_type": "code",
   "execution_count": null,
   "metadata": {
    "collapsed": false
   },
   "outputs": [],
   "source": [
    "direct = gclient.directions(origin=start, destination=finish, mode=\"bicycling\")\n",
    "direct_road = gclient.directions(origin=start, destination=finish)"
   ]
  },
  {
   "cell_type": "code",
   "execution_count": null,
   "metadata": {
    "collapsed": false
   },
   "outputs": [],
   "source": [
    "my_points = polyline.decode(direct[0]['overview_polyline']['points'])\n",
    "my_points_road = polyline.decode(direct_road[0]['overview_polyline']['points'])"
   ]
  },
  {
   "cell_type": "code",
   "execution_count": null,
   "metadata": {
    "collapsed": false
   },
   "outputs": [],
   "source": [
    "my_df = pd.DataFrame(my_points)\n",
    "my_df.rename(columns={0:'start station latitude', 1:'start station longitude'}, inplace=True)\n",
    "my_df_road = pd.DataFrame(my_points_road)\n",
    "my_df_road.rename(columns={0:'start station latitude', 1:'start station longitude'}, inplace=True)"
   ]
  },
  {
   "cell_type": "code",
   "execution_count": null,
   "metadata": {
    "collapsed": false
   },
   "outputs": [],
   "source": [
    "my_df.head()"
   ]
  },
  {
   "cell_type": "code",
   "execution_count": null,
   "metadata": {
    "collapsed": false
   },
   "outputs": [],
   "source": [
    "my_interpolation = gclient.snap_to_roads(my_points, interpolate=True)"
   ]
  },
  {
   "cell_type": "code",
   "execution_count": null,
   "metadata": {
    "collapsed": true
   },
   "outputs": [],
   "source": [
    "my_interpolation_road = gclient.snap_to_roads(my_points_road, interpolate=True)"
   ]
  },
  {
   "cell_type": "code",
   "execution_count": null,
   "metadata": {
    "collapsed": false
   },
   "outputs": [],
   "source": [
    "my_df_interpolation = pd.DataFrame(my_interpolation)"
   ]
  },
  {
   "cell_type": "code",
   "execution_count": null,
   "metadata": {
    "collapsed": true
   },
   "outputs": [],
   "source": [
    "my_df_interpolation_road = pd.DataFrame(my_interpolation_road)"
   ]
  },
  {
   "cell_type": "code",
   "execution_count": null,
   "metadata": {
    "collapsed": false
   },
   "outputs": [],
   "source": [
    "my_df_interpolation['start station latitude'] = my_df_interpolation['location'].apply(lambda x: x.get('latitude'))\n",
    "my_df_interpolation['start station longitude'] = my_df_interpolation['location'].apply(lambda x: x.get('longitude'))"
   ]
  },
  {
   "cell_type": "code",
   "execution_count": null,
   "metadata": {
    "collapsed": true
   },
   "outputs": [],
   "source": [
    "my_df_interpolation_road['start station latitude'] = my_df_interpolation_road['location'].apply(lambda x: x.get('latitude'))\n",
    "my_df_interpolation_road['start station longitude'] = my_df_interpolation_road['location'].apply(lambda x: x.get('longitude'))"
   ]
  },
  {
   "cell_type": "code",
   "execution_count": null,
   "metadata": {
    "collapsed": false
   },
   "outputs": [],
   "source": [
    "my_df.head()"
   ]
  },
  {
   "cell_type": "code",
   "execution_count": null,
   "metadata": {
    "collapsed": true
   },
   "outputs": [],
   "source": [
    "sg_map = folium.Map(location=[40.71993, -73.99594], zoom_start=13)"
   ]
  },
  {
   "cell_type": "code",
   "execution_count": null,
   "metadata": {
    "collapsed": false
   },
   "outputs": [],
   "source": [
    "def plotDot(point):\n",
    "    '''input: series that contains a numeric named latitude and a numeric named longitude\n",
    "    this function creates a CircleMarker and adds it to your this_map'''\n",
    "    folium.CircleMarker(location=[point['start station latitude'], point['start station longitude']],\n",
    "                        fill_color='red', radius=5, popup=str(point['start station latitude']) + \" \" + str(point['start station longitude']),\n",
    "                        weight=0).add_to(sg_map)\n",
    "\n",
    "#use df.apply(,axis=1) to \"iterate\" through every row in your dataframe\n",
    "my_df_road.apply(plotDot, axis = 1)"
   ]
  },
  {
   "cell_type": "code",
   "execution_count": null,
   "metadata": {
    "collapsed": false
   },
   "outputs": [],
   "source": [
    "#car directions\n",
    "sg_map"
   ]
  },
  {
   "cell_type": "code",
   "execution_count": null,
   "metadata": {
    "collapsed": false
   },
   "outputs": [],
   "source": [
    "sg_map2 = folium.Map(location=[40.71993, -73.99594], zoom_start=13)\n",
    "\n",
    "def plotDot2(point):\n",
    "    '''input: series that contains a numeric named latitude and a numeric named longitude\n",
    "    this function creates a CircleMarker and adds it to your this_map'''\n",
    "    folium.CircleMarker(location=[point['start station latitude'], point['start station longitude']],\n",
    "                        fill_color='red', radius=5, popup=str(point['start station latitude']) + \" \" + str(point['start station longitude']),\n",
    "                        weight=0).add_to(sg_map2)\n",
    "\n",
    "my_df_interpolation.apply(plotDot2, axis = 1)"
   ]
  },
  {
   "cell_type": "code",
   "execution_count": null,
   "metadata": {
    "collapsed": false
   },
   "outputs": [],
   "source": [
    "#interpolated bike directions\n",
    "sg_map2"
   ]
  },
  {
   "cell_type": "code",
   "execution_count": null,
   "metadata": {
    "collapsed": false
   },
   "outputs": [],
   "source": [
    "sg_map3 = folium.Map(location=[40.71993, -73.99594], zoom_start=13)\n",
    "\n",
    "def plotDot3(point):\n",
    "    '''input: series that contains a numeric named latitude and a numeric named longitude\n",
    "    this function creates a CircleMarker and adds it to your this_map'''\n",
    "    folium.CircleMarker(location=[point['start station latitude'], point['start station longitude']],\n",
    "                        fill_color='red', radius=5, popup=str(point['start station latitude']) + \" \" + str(point['start station longitude']),\n",
    "                        weight=0).add_to(sg_map3)\n",
    "\n",
    "my_df.apply(plotDot3, axis = 1)"
   ]
  },
  {
   "cell_type": "code",
   "execution_count": null,
   "metadata": {
    "collapsed": false
   },
   "outputs": [],
   "source": [
    "#bike directions\n",
    "sg_map3"
   ]
  },
  {
   "cell_type": "code",
   "execution_count": null,
   "metadata": {
    "collapsed": false
   },
   "outputs": [],
   "source": [
    "sg_map4 = folium.Map(location=[40.71993, -73.99594], zoom_start=13)\n",
    "\n",
    "def plotDot3(point):\n",
    "    '''input: series that contains a numeric named latitude and a numeric named longitude\n",
    "    this function creates a CircleMarker and adds it to your this_map'''\n",
    "    folium.CircleMarker(location=[point['start station latitude'], point['start station longitude']],\n",
    "                        fill_color='red', radius=5, popup=str(point['start station latitude']) + \" \" + str(point['start station longitude']),\n",
    "                        weight=0).add_to(sg_map4)\n",
    "\n",
    "my_df_interpolation_road.apply(plotDot3, axis = 1)"
   ]
  },
  {
   "cell_type": "code",
   "execution_count": null,
   "metadata": {
    "collapsed": false
   },
   "outputs": [],
   "source": [
    "#car directions interpolated\n",
    "sg_map4"
   ]
  },
  {
   "cell_type": "code",
   "execution_count": null,
   "metadata": {
    "collapsed": false
   },
   "outputs": [],
   "source": [
    "my_df_interpolation_road.head()"
   ]
  },
  {
   "cell_type": "code",
   "execution_count": null,
   "metadata": {
    "collapsed": true
   },
   "outputs": [],
   "source": [
    "# get paths between all stations\n",
    "# join start and stop times of trips to this dataframe\n",
    "# interpolate times and lats/longitudes\n",
    "# filter dataframe for each minute (second?), plot all the points, take a screenshot"
   ]
  },
  {
   "cell_type": "code",
   "execution_count": null,
   "metadata": {
    "collapsed": true
   },
   "outputs": [],
   "source": [
    "#COPY BIKE DATA GATHERING HERE"
   ]
  },
  {
   "cell_type": "code",
   "execution_count": null,
   "metadata": {
    "collapsed": true
   },
   "outputs": [],
   "source": []
  },
  {
   "cell_type": "code",
   "execution_count": null,
   "metadata": {
    "collapsed": false
   },
   "outputs": [],
   "source": []
  },
  {
   "cell_type": "code",
   "execution_count": null,
   "metadata": {
    "collapsed": false
   },
   "outputs": [],
   "source": []
  },
  {
   "cell_type": "code",
   "execution_count": null,
   "metadata": {
    "collapsed": false
   },
   "outputs": [],
   "source": []
  },
  {
   "cell_type": "code",
   "execution_count": null,
   "metadata": {
    "collapsed": true
   },
   "outputs": [],
   "source": [
    "#isolate records that indicate that a rebalancing occured\n",
    "allTrips_df.sort_values(['bikeid', 'starttime'], inplace=True)\n",
    "allTrips_df['start next station id'] = allTrips_df['start station id'].shift(-1)\n",
    "rebalancing_df = allTrips_df[allTrips_df['end station id'] != allTrips_df['start next station id']].copy()"
   ]
  },
  {
   "cell_type": "code",
   "execution_count": null,
   "metadata": {
    "collapsed": false
   },
   "outputs": [],
   "source": [
    "#take the trips from a single bike\n",
    "allTripsOneBike = allTrips_df[allTrips_df['Bike ID'] == 14529].copy()"
   ]
  },
  {
   "cell_type": "code",
   "execution_count": null,
   "metadata": {
    "collapsed": false
   },
   "outputs": [],
   "source": [
    "allTripsOneBike.sort_values('Start Time', inplace=True)"
   ]
  },
  {
   "cell_type": "code",
   "execution_count": null,
   "metadata": {
    "collapsed": true
   },
   "outputs": [],
   "source": [
    "allTripsOneBike = allTripsOneBike.reset_index()"
   ]
  },
  {
   "cell_type": "code",
   "execution_count": null,
   "metadata": {
    "collapsed": false
   },
   "outputs": [],
   "source": [
    "allTripsOneBike.head()"
   ]
  },
  {
   "cell_type": "code",
   "execution_count": null,
   "metadata": {
    "collapsed": false
   },
   "outputs": [],
   "source": [
    "my_df_interpolation_road.loc[0,'time'] = allTripsOneBike.loc[0,'Start Time']"
   ]
  },
  {
   "cell_type": "code",
   "execution_count": null,
   "metadata": {
    "collapsed": false
   },
   "outputs": [],
   "source": [
    "my_df_interpolation_road.loc[len(my_df_interpolation_road)-1,'time'] = allTripsOneBike.loc[0,'Stop Time']"
   ]
  },
  {
   "cell_type": "code",
   "execution_count": null,
   "metadata": {
    "collapsed": false
   },
   "outputs": [],
   "source": [
    "my_df_interpolation_road"
   ]
  },
  {
   "cell_type": "code",
   "execution_count": null,
   "metadata": {
    "collapsed": true
   },
   "outputs": [],
   "source": [
    "temp_df = my_df_interpolation_road.copy()"
   ]
  },
  {
   "cell_type": "code",
   "execution_count": null,
   "metadata": {
    "collapsed": true
   },
   "outputs": [],
   "source": [
    "def haversine_np(lon1, lat1, lon2, lat2):\n",
    "    \"\"\"\n",
    "    Calculate the great circle distance between two points\n",
    "    on the earth (specified in decimal degrees)\n",
    "\n",
    "    All args must be of equal length.    \n",
    "\n",
    "    \"\"\"\n",
    "    lon1, lat1, lon2, lat2 = map(np.radians, [lon1, lat1, lon2, lat2])\n",
    "\n",
    "    dlon = lon2 - lon1\n",
    "    dlat = lat2 - lat1\n",
    "\n",
    "    a = np.sin(dlat/2.0)**2 + np.cos(lat1) * np.cos(lat2) * np.sin(dlon/2.0)**2\n",
    "\n",
    "    c = 2 * np.arcsin(np.sqrt(a))\n",
    "    km = 6367 * c\n",
    "    return km"
   ]
  },
  {
   "cell_type": "code",
   "execution_count": null,
   "metadata": {
    "collapsed": false
   },
   "outputs": [],
   "source": [
    "temp_df = temp_df[['start station latitude', 'start station longitude', 'time']].drop_duplicates().reset_index()"
   ]
  },
  {
   "cell_type": "code",
   "execution_count": null,
   "metadata": {
    "collapsed": false
   },
   "outputs": [],
   "source": [
    "temp_df.head()"
   ]
  },
  {
   "cell_type": "code",
   "execution_count": null,
   "metadata": {
    "collapsed": false
   },
   "outputs": [],
   "source": [
    "temp_df.loc[0,'time']"
   ]
  },
  {
   "cell_type": "code",
   "execution_count": null,
   "metadata": {
    "collapsed": false
   },
   "outputs": [],
   "source": [
    "temp_df['dist'] = \\\n",
    "    haversine_np(temp_df['start station longitude'].shift(), temp_df['start station latitude'].shift(),\n",
    "                 temp_df.loc[1:, 'start station longitude'], temp_df.loc[1:, 'start station latitude'])"
   ]
  },
  {
   "cell_type": "code",
   "execution_count": null,
   "metadata": {
    "collapsed": false
   },
   "outputs": [],
   "source": [
    "temp_df.head()"
   ]
  },
  {
   "cell_type": "code",
   "execution_count": null,
   "metadata": {
    "collapsed": false
   },
   "outputs": [],
   "source": [
    "temp_df['cumdist'] = temp_df['dist'].cumsum().fillna(0)"
   ]
  },
  {
   "cell_type": "code",
   "execution_count": null,
   "metadata": {
    "collapsed": false
   },
   "outputs": [],
   "source": [
    "temp_df['cumdist2'] = temp_df['cumdist'] / temp_df['cumdist'].max()"
   ]
  },
  {
   "cell_type": "code",
   "execution_count": null,
   "metadata": {
    "collapsed": false
   },
   "outputs": [],
   "source": [
    "temp_df.set_index('cumdist2', inplace=True)"
   ]
  },
  {
   "cell_type": "code",
   "execution_count": null,
   "metadata": {
    "collapsed": false
   },
   "outputs": [],
   "source": [
    "temp_df['time'] = (temp_df['time'] - np.datetime64('2010-01-01')) / np.timedelta64(1, 's')"
   ]
  },
  {
   "cell_type": "code",
   "execution_count": null,
   "metadata": {
    "collapsed": false
   },
   "outputs": [],
   "source": [
    "temp_df"
   ]
  },
  {
   "cell_type": "code",
   "execution_count": null,
   "metadata": {
    "collapsed": false
   },
   "outputs": [],
   "source": [
    "temp_df['time'] = temp_df['time'].interpolate(method='values')"
   ]
  },
  {
   "cell_type": "code",
   "execution_count": null,
   "metadata": {
    "collapsed": false
   },
   "outputs": [],
   "source": [
    "temp_df"
   ]
  },
  {
   "cell_type": "code",
   "execution_count": null,
   "metadata": {
    "collapsed": false
   },
   "outputs": [],
   "source": [
    "temp_df.iloc[2,3]"
   ]
  },
  {
   "cell_type": "code",
   "execution_count": null,
   "metadata": {
    "collapsed": false
   },
   "outputs": [],
   "source": [
    "temp_df['time'] = temp_df['time'] * np.timedelta64(1, 's') + np.datetime64('2010-01-01T00:00:01')"
   ]
  },
  {
   "cell_type": "code",
   "execution_count": null,
   "metadata": {
    "collapsed": false
   },
   "outputs": [],
   "source": [
    "temp_df"
   ]
  },
  {
   "cell_type": "code",
   "execution_count": null,
   "metadata": {
    "collapsed": true
   },
   "outputs": [],
   "source": [
    "#from here, it would be nice to have\n",
    "#1. the seconds rounded down to get rid of fractions of a second, or do these calculations such that the fractions of a second chance\n",
    "#2. interpolate more points even more points, have time for each of them"
   ]
  },
  {
   "cell_type": "code",
   "execution_count": null,
   "metadata": {
    "collapsed": false
   },
   "outputs": [],
   "source": [
    "import numpy as np\n",
    "\n",
    "times = [2, 5, 10, 13]\n",
    "lat = [1.5, 2, 4, 7]\n",
    "lon = [3, 2, 1, -2]\n",
    "t = np.arange(2, 14)\n",
    "\n",
    "latint = np.interp(t, times, lat)\n",
    "lonint = np.interp(t, times, lon)\n",
    "for pos in zip(latint, lonint, t):\n",
    "    print(pos)"
   ]
  },
  {
   "cell_type": "code",
   "execution_count": null,
   "metadata": {
    "collapsed": false
   },
   "outputs": [],
   "source": [
    "t"
   ]
  },
  {
   "cell_type": "code",
   "execution_count": null,
   "metadata": {
    "collapsed": false
   },
   "outputs": [],
   "source": [
    "temp_df.index"
   ]
  },
  {
   "cell_type": "code",
   "execution_count": null,
   "metadata": {
    "collapsed": false
   },
   "outputs": [],
   "source": [
    "len(allTrips_df)"
   ]
  },
  {
   "cell_type": "code",
   "execution_count": null,
   "metadata": {
    "collapsed": true
   },
   "outputs": [],
   "source": [
    "####################################\n",
    "# GET DIRECTIONS ONCE END ##########\n",
    "####################################"
   ]
  }
 ],
 "metadata": {
  "kernelspec": {
   "display_name": "Python [conda env:py27]",
   "language": "python",
   "name": "conda-env-py27-py"
  },
  "language_info": {
   "codemirror_mode": {
    "name": "ipython",
    "version": 2
   },
   "file_extension": ".py",
   "mimetype": "text/x-python",
   "name": "python",
   "nbconvert_exporter": "python",
   "pygments_lexer": "ipython2",
   "version": "2.7.13"
  }
 },
 "nbformat": 4,
 "nbformat_minor": 2
}
