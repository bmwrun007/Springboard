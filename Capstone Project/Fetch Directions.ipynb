{
 "cells": [
  {
   "cell_type": "code",
   "execution_count": 1,
   "metadata": {
    "collapsed": true
   },
   "outputs": [],
   "source": [
    "import polyline"
   ]
  },
  {
   "cell_type": "code",
   "execution_count": 24,
   "metadata": {
    "collapsed": false
   },
   "outputs": [
    {
     "name": "stdout",
     "output_type": "stream",
     "text": [
      "Head <b>south</b> on <b>Henry St</b> toward <b>Pineapple Walk</b>\n",
      "Turn <b>left</b> onto <b>Clark St</b>\n",
      "Turn <b>right</b> onto <b>Cadman Plaza W</b>\n",
      "Turn <b>left</b> onto <b>Tillary St</b>\n",
      "Turn <b>left</b> onto <b>Flatbush Ave Ext</b>\n",
      "Keep <b>left</b> to continue on <b>Manhattan Bridge</b>/<b>Manhattan Bridge Lower Roadway</b>\n",
      "Continue straight onto <b>Bowery</b>\n",
      "Continue onto <b>3rd Ave</b>/<b>Cooper Sq</b><div style=\"font-size:0.9em\">Continue to follow 3rd Ave</div><div style=\"font-size:0.9em\">Destination will be on the right</div>\n"
     ]
    }
   ],
   "source": [
    "import json, urllib\n",
    "from urllib import urlencode\n",
    "import googlemaps\n",
    "start = \"76 Henry Street, Brooklyn, NY, USA\"\n",
    "finish = \"55 3rd Avenue, New York, NY, USA\"\n",
    "\n",
    "url = 'http://maps.googleapis.com/maps/api/directions/json?%s' % urlencode((\n",
    "            ('origin', start),\n",
    "            ('destination', finish)\n",
    " ))\n",
    "ur = urllib.urlopen(url)\n",
    "result = json.load(ur)\n",
    "\n",
    "for i in range (0, len (result['routes'][0]['legs'][0]['steps'])):\n",
    "    j = result['routes'][0]['legs'][0]['steps'][i]['html_instructions'] \n",
    "    print j"
   ]
  },
  {
   "cell_type": "code",
   "execution_count": 25,
   "metadata": {
    "collapsed": false
   },
   "outputs": [
    {
     "data": {
      "text/plain": [
       "{u'geocoded_waypoints': [{u'geocoder_status': u'OK',\n",
       "   u'place_id': u'ChIJ10bEuTdawokR7o8U099uDV0',\n",
       "   u'types': [u'street_address']},\n",
       "  {u'geocoder_status': u'OK',\n",
       "   u'place_id': u'ChIJYx20A5xZwokR5uDh1KiS5As',\n",
       "   u'types': [u'street_address']}],\n",
       " u'routes': [{u'bounds': {u'northeast': {u'lat': 40.7311341,\n",
       "     u'lng': -73.9843731},\n",
       "    u'southwest': {u'lat': 40.6959436, u'lng': -73.99581049999999}},\n",
       "   u'copyrights': u'Map data \\xa92017 Google',\n",
       "   u'legs': [{u'distance': {u'text': u'3.2 mi', u'value': 5170},\n",
       "     u'duration': {u'text': u'18 mins', u'value': 1074},\n",
       "     u'end_address': u'55 3rd Ave, New York, NY 10003, USA',\n",
       "     u'end_location': {u'lat': 40.7311341, u'lng': -73.9887561},\n",
       "     u'start_address': u'76 Henry St, Brooklyn, NY 11201, USA',\n",
       "     u'start_location': {u'lat': 40.6985481, u'lng': -73.9924819},\n",
       "     u'steps': [{u'distance': {u'text': u'427 ft', u'value': 130},\n",
       "       u'duration': {u'text': u'1 min', u'value': 36},\n",
       "       u'end_location': {u'lat': 40.69745, u'lng': -73.9930248},\n",
       "       u'html_instructions': u'Head <b>south</b> on <b>Henry St</b> toward <b>Pineapple Walk</b>',\n",
       "       u'polyline': {u'points': u'}|kwF~srbMxAj@`C~@'},\n",
       "       u'start_location': {u'lat': 40.6985481, u'lng': -73.9924819},\n",
       "       u'travel_mode': u'DRIVING'},\n",
       "      {u'distance': {u'text': u'466 ft', u'value': 142},\n",
       "       u'duration': {u'text': u'1 min', u'value': 62},\n",
       "       u'end_location': {u'lat': 40.69703550000001,\n",
       "        u'lng': -73.99144009999999},\n",
       "       u'html_instructions': u'Turn <b>left</b> onto <b>Clark St</b>',\n",
       "       u'maneuver': u'turn-left',\n",
       "       u'polyline': {u'points': u'avkwFjwrbMAIBOFa@b@wBb@gC'},\n",
       "       u'start_location': {u'lat': 40.69745, u'lng': -73.9930248},\n",
       "       u'travel_mode': u'DRIVING'},\n",
       "      {u'distance': {u'text': u'256 ft', u'value': 78},\n",
       "       u'duration': {u'text': u'1 min', u'value': 44},\n",
       "       u'end_location': {u'lat': 40.6963405, u'lng': -73.991283},\n",
       "       u'html_instructions': u'Turn <b>right</b> onto <b>Cadman Plaza W</b>',\n",
       "       u'maneuver': u'turn-right',\n",
       "       u'polyline': {u'points': u'oskwFnmrbMlBU\\\\I'},\n",
       "       u'start_location': {u'lat': 40.69703550000001,\n",
       "        u'lng': -73.99144009999999},\n",
       "       u'travel_mode': u'DRIVING'},\n",
       "      {u'distance': {u'text': u'0.4 mi', u'value': 579},\n",
       "       u'duration': {u'text': u'4 mins', u'value': 216},\n",
       "       u'end_location': {u'lat': 40.6959467, u'lng': -73.9845715},\n",
       "       u'html_instructions': u'Turn <b>left</b> onto <b>Tillary St</b>',\n",
       "       u'maneuver': u'turn-left',\n",
       "       u'polyline': {u'points': u'cokwFnlrbM\\\\K?[@oA@cB?YFkD@m@@U@_@?U@qAFsEBeBHoHDeB'},\n",
       "       u'start_location': {u'lat': 40.6963405, u'lng': -73.991283},\n",
       "       u'travel_mode': u'DRIVING'},\n",
       "      {u'distance': {u'text': u'0.1 mi', u'value': 159},\n",
       "       u'duration': {u'text': u'1 min', u'value': 45},\n",
       "       u'end_location': {u'lat': 40.6971449, u'lng': -73.9849648},\n",
       "       u'html_instructions': u'Turn <b>left</b> onto <b>Flatbush Ave Ext</b>',\n",
       "       u'maneuver': u'turn-left',\n",
       "       u'polyline': {u'points': u'ulkwFpbqbM@g@c@TqDrAYJ'},\n",
       "       u'start_location': {u'lat': 40.6959467, u'lng': -73.9845715},\n",
       "       u'travel_mode': u'DRIVING'},\n",
       "      {u'distance': {u'text': u'1.4 mi', u'value': 2275},\n",
       "       u'duration': {u'text': u'3 mins', u'value': 154},\n",
       "       u'end_location': {u'lat': 40.7159842, u'lng': -73.99544139999999},\n",
       "       u'html_instructions': u'Keep <b>left</b> to continue on <b>Manhattan Bridge</b>/<b>Manhattan Bridge Lower Roadway</b>',\n",
       "       u'maneuver': u'keep-left',\n",
       "       u'polyline': {u'points': u'ctkwF~dqbMMJUHm@TOFaBx@cBz@oD~Aw@\\\\IDC@QHC@UJQHA?GDYLGBm@XE@s@\\\\c@P?@SHA@e@Ra@RA?_@Pw@\\\\E@_A`@WNWN_Br@c@TwAn@C@EBUJUJwAn@a@Pc@RwH`E[PsAl@SJUJsHjDwB`Am@Xo@Zq@XmAj@cAb@eAb@mAh@g@TA?A?A@c@RuAn@QHA@C@UJ{An@QHC@C@KD_Bt@OHA?EBC@[NSHULUJA@A@C@OFmEnBWLUBC?EBYLi@T'},\n",
       "       u'start_location': {u'lat': 40.6971449, u'lng': -73.9849648},\n",
       "       u'travel_mode': u'DRIVING'},\n",
       "      {u'distance': {u'text': u'0.9 mi', u'value': 1452},\n",
       "       u'duration': {u'text': u'7 mins', u'value': 443},\n",
       "       u'end_location': {u'lat': 40.7283225, u'lng': -73.9907558},\n",
       "       u'html_instructions': u'Continue straight onto <b>Bowery</b>',\n",
       "       u'maneuver': u'straight',\n",
       "       u'polyline': {u'points': u'{iowFnfsbMSHmB~@aCkAkD{AaA_@_EoAqC}@WGSGWKUEMSEEEA]KIAOEuBm@oCu@MCaAWMEKCkCu@_Be@[CkCq@eAWaAWKCOEeCq@{Bi@OEgAWWKICKGAAKGIG[SoA{@'},\n",
       "       u'start_location': {u'lat': 40.7159842, u'lng': -73.99544139999999},\n",
       "       u'travel_mode': u'DRIVING'},\n",
       "      {u'distance': {u'text': u'0.2 mi', u'value': 355},\n",
       "       u'duration': {u'text': u'1 min', u'value': 74},\n",
       "       u'end_location': {u'lat': 40.7311341, u'lng': -73.9887561},\n",
       "       u'html_instructions': u'Continue onto <b>3rd Ave</b>/<b>Cooper Sq</b><div style=\"font-size:0.9em\">Continue to follow 3rd Ave</div><div style=\"font-size:0.9em\">Destination will be on the right</div>',\n",
       "       u'polyline': {u'points': u'_wqwFfirbM_@Ug@Um@_@_C{A}@o@s@i@wBqAqA{@'},\n",
       "       u'start_location': {u'lat': 40.7283225, u'lng': -73.9907558},\n",
       "       u'travel_mode': u'DRIVING'}],\n",
       "     u'traffic_speed_entry': [],\n",
       "     u'via_waypoint': []}],\n",
       "   u'overview_polyline': {u'points': u'}|kwF~srbMzEjB@Yj@yCb@gClBUz@U@kBJwI`@mZ@g@c@TkE~Ac@T}@\\\\eEtBgF|Bc@RaCfAsB~@iBx@uCpA}FnCeDxA{ItEoB~@uMdG}EzBiH|CqFbCkClAgBz@}EvBWLUBIBcAb@aChAaCkAkD{AaGoBiDeAk@SUEMSKGg@McHmBgFwA_Be@[CqEiAcFsAkCo@_Bc@c@UuCmBuAu@}DkCs@i@wBqAqA{@'},\n",
       "   u'summary': u'Manhattan Bridge/Manhattan Bridge Lower Roadway and Bowery',\n",
       "   u'warnings': [],\n",
       "   u'waypoint_order': []}],\n",
       " u'status': u'OK'}"
      ]
     },
     "execution_count": 25,
     "metadata": {},
     "output_type": "execute_result"
    }
   ],
   "source": [
    "result"
   ]
  },
  {
   "cell_type": "code",
   "execution_count": 26,
   "metadata": {
    "collapsed": false
   },
   "outputs": [],
   "source": [
    "a = polyline.decode(u'}|kwF~srbMzEjB@Yj@yCb@gClBUz@U@kBJwI`@mZ@g@c@TkE~Ac@T}@\\\\eEtBgF|Bc@RaCfAsB~@iBx@uCpA}FnCeDxA{ItEoB~@uMdG}EzBiH|CqFbCkClAgBz@}EvBWLUBIBcAb@aChAaCkAkD{AaGoBiDeAk@SUEMSKGg@McHmBgFwA_Be@[CqEiAcFsAkCo@_Bc@c@UuCmBuAu@}DkCs@i@wBqAqA{@')"
   ]
  },
  {
   "cell_type": "code",
   "execution_count": 27,
   "metadata": {
    "collapsed": false
   },
   "outputs": [],
   "source": [
    "a_df = pd.DataFrame(a)"
   ]
  },
  {
   "cell_type": "code",
   "execution_count": 28,
   "metadata": {
    "collapsed": true
   },
   "outputs": [],
   "source": [
    "a_df.rename(columns={0:'start station latitude', 1:'start station longitude'}, inplace=True)"
   ]
  },
  {
   "cell_type": "code",
   "execution_count": 34,
   "metadata": {
    "collapsed": false
   },
   "outputs": [
    {
     "data": {
      "text/html": [
       "<div>\n",
       "<table border=\"1\" class=\"dataframe\">\n",
       "  <thead>\n",
       "    <tr style=\"text-align: right;\">\n",
       "      <th></th>\n",
       "      <th>start station latitude</th>\n",
       "      <th>start station longitude</th>\n",
       "    </tr>\n",
       "  </thead>\n",
       "  <tbody>\n",
       "    <tr>\n",
       "      <th>0</th>\n",
       "      <td>40.69855</td>\n",
       "      <td>-73.99248</td>\n",
       "    </tr>\n",
       "    <tr>\n",
       "      <th>1</th>\n",
       "      <td>40.69745</td>\n",
       "      <td>-73.99302</td>\n",
       "    </tr>\n",
       "    <tr>\n",
       "      <th>2</th>\n",
       "      <td>40.69744</td>\n",
       "      <td>-73.99289</td>\n",
       "    </tr>\n",
       "    <tr>\n",
       "      <th>3</th>\n",
       "      <td>40.69722</td>\n",
       "      <td>-73.99212</td>\n",
       "    </tr>\n",
       "    <tr>\n",
       "      <th>4</th>\n",
       "      <td>40.69704</td>\n",
       "      <td>-73.99144</td>\n",
       "    </tr>\n",
       "  </tbody>\n",
       "</table>\n",
       "</div>"
      ],
      "text/plain": [
       "   start station latitude  start station longitude\n",
       "0                40.69855                -73.99248\n",
       "1                40.69745                -73.99302\n",
       "2                40.69744                -73.99289\n",
       "3                40.69722                -73.99212\n",
       "4                40.69704                -73.99144"
      ]
     },
     "execution_count": 34,
     "metadata": {},
     "output_type": "execute_result"
    }
   ],
   "source": [
    "a_df.head()"
   ]
  },
  {
   "cell_type": "code",
   "execution_count": 30,
   "metadata": {
    "collapsed": true
   },
   "outputs": [],
   "source": [
    "import pandas as pd\n",
    "import numpy as np\n",
    "from os import listdir\n",
    "from os.path import isfile, join\n",
    "\n",
    "import matplotlib.pyplot as plt\n",
    "import seaborn as sns\n",
    "import math\n",
    "\n",
    "import folium\n",
    "\n",
    "import subprocess\n",
    "\n",
    "sns.set_style(\"darkgrid\")"
   ]
  },
  {
   "cell_type": "code",
   "execution_count": 31,
   "metadata": {
    "collapsed": true
   },
   "outputs": [],
   "source": [
    "sg_map = folium.Map(location=[40.68993, -73.99594], zoom_start=13)"
   ]
  },
  {
   "cell_type": "code",
   "execution_count": 32,
   "metadata": {
    "collapsed": false
   },
   "outputs": [
    {
     "data": {
      "text/plain": [
       "0     None\n",
       "1     None\n",
       "2     None\n",
       "3     None\n",
       "4     None\n",
       "5     None\n",
       "6     None\n",
       "7     None\n",
       "8     None\n",
       "9     None\n",
       "10    None\n",
       "11    None\n",
       "12    None\n",
       "13    None\n",
       "14    None\n",
       "15    None\n",
       "16    None\n",
       "17    None\n",
       "18    None\n",
       "19    None\n",
       "20    None\n",
       "21    None\n",
       "22    None\n",
       "23    None\n",
       "24    None\n",
       "25    None\n",
       "26    None\n",
       "27    None\n",
       "28    None\n",
       "29    None\n",
       "      ... \n",
       "32    None\n",
       "33    None\n",
       "34    None\n",
       "35    None\n",
       "36    None\n",
       "37    None\n",
       "38    None\n",
       "39    None\n",
       "40    None\n",
       "41    None\n",
       "42    None\n",
       "43    None\n",
       "44    None\n",
       "45    None\n",
       "46    None\n",
       "47    None\n",
       "48    None\n",
       "49    None\n",
       "50    None\n",
       "51    None\n",
       "52    None\n",
       "53    None\n",
       "54    None\n",
       "55    None\n",
       "56    None\n",
       "57    None\n",
       "58    None\n",
       "59    None\n",
       "60    None\n",
       "61    None\n",
       "dtype: object"
      ]
     },
     "execution_count": 32,
     "metadata": {},
     "output_type": "execute_result"
    }
   ],
   "source": [
    "def plotDot(point):\n",
    "    '''input: series that contains a numeric named latitude and a numeric named longitude\n",
    "    this function creates a CircleMarker and adds it to your this_map'''\n",
    "    folium.CircleMarker(location=[point['start station latitude'], point['start station longitude']],\n",
    "                        fill_color='red', radius=5,\n",
    "                        weight=0).add_to(sg_map)\n",
    "\n",
    "#use df.apply(,axis=1) to \"iterate\" through every row in your dataframe\n",
    "a_df.apply(plotDot, axis = 1)"
   ]
  },
  {
   "cell_type": "code",
   "execution_count": 33,
   "metadata": {
    "collapsed": false
   },
   "outputs": [
    {
     "data": {
      "text/html": [
       "<div style=\"width:100%;\"><div style=\"position:relative;width:100%;height:0;padding-bottom:60%;\"><iframe src=\"data:text/html;charset=utf-8;base64,PCFET0NUWVBFIGh0bWw+CjxoZWFkPiAgICAKICAgIDxtZXRhIGh0dHAtZXF1aXY9ImNvbnRlbnQtdHlwZSIgY29udGVudD0idGV4dC9odG1sOyBjaGFyc2V0PVVURi04IiAvPgogICAgPHNjcmlwdD5MX1BSRUZFUl9DQU5WQVMgPSBmYWxzZTsgTF9OT19UT1VDSCA9IGZhbHNlOyBMX0RJU0FCTEVfM0QgPSBmYWxzZTs8L3NjcmlwdD4KICAgIDxzY3JpcHQgc3JjPSJodHRwczovL3VucGtnLmNvbS9sZWFmbGV0QDEuMC4xL2Rpc3QvbGVhZmxldC5qcyI+PC9zY3JpcHQ+CiAgICA8c2NyaXB0IHNyYz0iaHR0cHM6Ly9hamF4Lmdvb2dsZWFwaXMuY29tL2FqYXgvbGlicy9qcXVlcnkvMS4xMS4xL2pxdWVyeS5taW4uanMiPjwvc2NyaXB0PgogICAgPHNjcmlwdCBzcmM9Imh0dHBzOi8vbWF4Y2RuLmJvb3RzdHJhcGNkbi5jb20vYm9vdHN0cmFwLzMuMi4wL2pzL2Jvb3RzdHJhcC5taW4uanMiPjwvc2NyaXB0PgogICAgPHNjcmlwdCBzcmM9Imh0dHBzOi8vY2RuanMuY2xvdWRmbGFyZS5jb20vYWpheC9saWJzL0xlYWZsZXQuYXdlc29tZS1tYXJrZXJzLzIuMC4yL2xlYWZsZXQuYXdlc29tZS1tYXJrZXJzLmpzIj48L3NjcmlwdD4KICAgIDxzY3JpcHQgc3JjPSJodHRwczovL2NkbmpzLmNsb3VkZmxhcmUuY29tL2FqYXgvbGlicy9sZWFmbGV0Lm1hcmtlcmNsdXN0ZXIvMS4wLjAvbGVhZmxldC5tYXJrZXJjbHVzdGVyLXNyYy5qcyI+PC9zY3JpcHQ+CiAgICA8c2NyaXB0IHNyYz0iaHR0cHM6Ly9jZG5qcy5jbG91ZGZsYXJlLmNvbS9hamF4L2xpYnMvbGVhZmxldC5tYXJrZXJjbHVzdGVyLzEuMC4wL2xlYWZsZXQubWFya2VyY2x1c3Rlci5qcyI+PC9zY3JpcHQ+CiAgICA8bGluayByZWw9InN0eWxlc2hlZXQiIGhyZWY9Imh0dHBzOi8vdW5wa2cuY29tL2xlYWZsZXRAMS4wLjEvZGlzdC9sZWFmbGV0LmNzcyIgLz4KICAgIDxsaW5rIHJlbD0ic3R5bGVzaGVldCIgaHJlZj0iaHR0cHM6Ly9tYXhjZG4uYm9vdHN0cmFwY2RuLmNvbS9ib290c3RyYXAvMy4yLjAvY3NzL2Jvb3RzdHJhcC5taW4uY3NzIiAvPgogICAgPGxpbmsgcmVsPSJzdHlsZXNoZWV0IiBocmVmPSJodHRwczovL21heGNkbi5ib290c3RyYXBjZG4uY29tL2Jvb3RzdHJhcC8zLjIuMC9jc3MvYm9vdHN0cmFwLXRoZW1lLm1pbi5jc3MiIC8+CiAgICA8bGluayByZWw9InN0eWxlc2hlZXQiIGhyZWY9Imh0dHBzOi8vbWF4Y2RuLmJvb3RzdHJhcGNkbi5jb20vZm9udC1hd2Vzb21lLzQuNi4zL2Nzcy9mb250LWF3ZXNvbWUubWluLmNzcyIgLz4KICAgIDxsaW5rIHJlbD0ic3R5bGVzaGVldCIgaHJlZj0iaHR0cHM6Ly9jZG5qcy5jbG91ZGZsYXJlLmNvbS9hamF4L2xpYnMvTGVhZmxldC5hd2Vzb21lLW1hcmtlcnMvMi4wLjIvbGVhZmxldC5hd2Vzb21lLW1hcmtlcnMuY3NzIiAvPgogICAgPGxpbmsgcmVsPSJzdHlsZXNoZWV0IiBocmVmPSJodHRwczovL2NkbmpzLmNsb3VkZmxhcmUuY29tL2FqYXgvbGlicy9sZWFmbGV0Lm1hcmtlcmNsdXN0ZXIvMS4wLjAvTWFya2VyQ2x1c3Rlci5EZWZhdWx0LmNzcyIgLz4KICAgIDxsaW5rIHJlbD0ic3R5bGVzaGVldCIgaHJlZj0iaHR0cHM6Ly9jZG5qcy5jbG91ZGZsYXJlLmNvbS9hamF4L2xpYnMvbGVhZmxldC5tYXJrZXJjbHVzdGVyLzEuMC4wL01hcmtlckNsdXN0ZXIuY3NzIiAvPgogICAgPGxpbmsgcmVsPSJzdHlsZXNoZWV0IiBocmVmPSJodHRwczovL3Jhd2dpdC5jb20vcHl0aG9uLXZpc3VhbGl6YXRpb24vZm9saXVtL21hc3Rlci9mb2xpdW0vdGVtcGxhdGVzL2xlYWZsZXQuYXdlc29tZS5yb3RhdGUuY3NzIiAvPgogICAgPHN0eWxlPmh0bWwsIGJvZHkge3dpZHRoOiAxMDAlO2hlaWdodDogMTAwJTttYXJnaW46IDA7cGFkZGluZzogMDt9PC9zdHlsZT4KICAgIDxzdHlsZT4jbWFwIHtwb3NpdGlvbjphYnNvbHV0ZTt0b3A6MDtib3R0b206MDtyaWdodDowO2xlZnQ6MDt9PC9zdHlsZT4KICAgIAogICAgICAgICAgICA8c3R5bGU+ICNtYXBfNjNmM2Q0YTk4NDI1NDIzMmFhNDgwZDlmZTEyNjQ5NDEgewogICAgICAgICAgICAgICAgcG9zaXRpb24gOiByZWxhdGl2ZTsKICAgICAgICAgICAgICAgIHdpZHRoIDogMTAwLjAlOwogICAgICAgICAgICAgICAgaGVpZ2h0OiAxMDAuMCU7CiAgICAgICAgICAgICAgICBsZWZ0OiAwLjAlOwogICAgICAgICAgICAgICAgdG9wOiAwLjAlOwogICAgICAgICAgICAgICAgfQogICAgICAgICAgICA8L3N0eWxlPgogICAgICAgIAo8L2hlYWQ+Cjxib2R5PiAgICAKICAgIAogICAgICAgICAgICA8ZGl2IGNsYXNzPSJmb2xpdW0tbWFwIiBpZD0ibWFwXzYzZjNkNGE5ODQyNTQyMzJhYTQ4MGQ5ZmUxMjY0OTQxIiA+PC9kaXY+CiAgICAgICAgCjwvYm9keT4KPHNjcmlwdD4gICAgCiAgICAKCiAgICAgICAgICAgIAogICAgICAgICAgICAgICAgdmFyIHNvdXRoV2VzdCA9IEwubGF0TG5nKC05MCwgLTE4MCk7CiAgICAgICAgICAgICAgICB2YXIgbm9ydGhFYXN0ID0gTC5sYXRMbmcoOTAsIDE4MCk7CiAgICAgICAgICAgICAgICB2YXIgYm91bmRzID0gTC5sYXRMbmdCb3VuZHMoc291dGhXZXN0LCBub3J0aEVhc3QpOwogICAgICAgICAgICAKCiAgICAgICAgICAgIHZhciBtYXBfNjNmM2Q0YTk4NDI1NDIzMmFhNDgwZDlmZTEyNjQ5NDEgPSBMLm1hcCgKICAgICAgICAgICAgICAgICAgICAgICAgICAgICAgICAgICdtYXBfNjNmM2Q0YTk4NDI1NDIzMmFhNDgwZDlmZTEyNjQ5NDEnLAogICAgICAgICAgICAgICAgICAgICAgICAgICAgICAgICAge2NlbnRlcjogWzQwLjY4OTkzLC03My45OTU5NF0sCiAgICAgICAgICAgICAgICAgICAgICAgICAgICAgICAgICB6b29tOiAxMywKICAgICAgICAgICAgICAgICAgICAgICAgICAgICAgICAgIG1heEJvdW5kczogYm91bmRzLAogICAgICAgICAgICAgICAgICAgICAgICAgICAgICAgICAgbGF5ZXJzOiBbXSwKICAgICAgICAgICAgICAgICAgICAgICAgICAgICAgICAgIHdvcmxkQ29weUp1bXA6IGZhbHNlLAogICAgICAgICAgICAgICAgICAgICAgICAgICAgICAgICAgY3JzOiBMLkNSUy5FUFNHMzg1NwogICAgICAgICAgICAgICAgICAgICAgICAgICAgICAgICB9KTsKICAgICAgICAgICAgCiAgICAgICAgCiAgICAKICAgICAgICAgICAgdmFyIHRpbGVfbGF5ZXJfOGI5OTFiOTU5MWJlNDNhMTljYWYyYTRiMGRmYzc0YWUgPSBMLnRpbGVMYXllcigKICAgICAgICAgICAgICAgICdodHRwczovL3tzfS50aWxlLm9wZW5zdHJlZXRtYXAub3JnL3t6fS97eH0ve3l9LnBuZycsCiAgICAgICAgICAgICAgICB7CiAgICAgICAgICAgICAgICAgICAgbWF4Wm9vbTogMTgsCiAgICAgICAgICAgICAgICAgICAgbWluWm9vbTogMSwKICAgICAgICAgICAgICAgICAgICBjb250aW51b3VzV29ybGQ6IGZhbHNlLAogICAgICAgICAgICAgICAgICAgIG5vV3JhcDogZmFsc2UsCiAgICAgICAgICAgICAgICAgICAgYXR0cmlidXRpb246ICdEYXRhIGJ5IDxhIGhyZWY9Imh0dHA6Ly9vcGVuc3RyZWV0bWFwLm9yZyI+T3BlblN0cmVldE1hcDwvYT4sIHVuZGVyIDxhIGhyZWY9Imh0dHA6Ly93d3cub3BlbnN0cmVldG1hcC5vcmcvY29weXJpZ2h0Ij5PRGJMPC9hPi4nLAogICAgICAgICAgICAgICAgICAgIGRldGVjdFJldGluYTogZmFsc2UKICAgICAgICAgICAgICAgICAgICB9CiAgICAgICAgICAgICAgICApLmFkZFRvKG1hcF82M2YzZDRhOTg0MjU0MjMyYWE0ODBkOWZlMTI2NDk0MSk7CgogICAgICAgIAogICAgCgogICAgICAgICAgICB2YXIgY2lyY2xlX21hcmtlcl8yN2ZmMWM1OTVhN2M0OTJjYjI4OWFkMzE3NmFmNTNkYiA9IEwuY2lyY2xlTWFya2VyKAogICAgICAgICAgICAgICAgWzQwLjY5ODU1LC03My45OTI0OF0sCiAgICAgICAgICAgICAgICB7CiAgICAgICAgICAgICAgICAgICAgY29sb3I6ICdibGFjaycsCiAgICAgICAgICAgICAgICAgICAgd2VpZ2h0OiAwLAogICAgICAgICAgICAgICAgICAgIGZpbGxDb2xvcjogJ3JlZCcsCiAgICAgICAgICAgICAgICAgICAgZmlsbE9wYWNpdHk6IDAuNgogICAgICAgICAgICAgICAgICAgIH0KICAgICAgICAgICAgICAgICkKICAgICAgICAgICAgICAgIC5zZXRSYWRpdXMoNSkKICAgICAgICAgICAgICAgIC5hZGRUbyhtYXBfNjNmM2Q0YTk4NDI1NDIzMmFhNDgwZDlmZTEyNjQ5NDEpOwogICAgICAgICAgICAKICAgIAoKICAgICAgICAgICAgdmFyIGNpcmNsZV9tYXJrZXJfMzMyN2EzYjdjODA4NDFhNjg2MTcyOTcxODI4YzNkNmMgPSBMLmNpcmNsZU1hcmtlcigKICAgICAgICAgICAgICAgIFs0MC42OTc0NSwtNzMuOTkzMDJdLAogICAgICAgICAgICAgICAgewogICAgICAgICAgICAgICAgICAgIGNvbG9yOiAnYmxhY2snLAogICAgICAgICAgICAgICAgICAgIHdlaWdodDogMCwKICAgICAgICAgICAgICAgICAgICBmaWxsQ29sb3I6ICdyZWQnLAogICAgICAgICAgICAgICAgICAgIGZpbGxPcGFjaXR5OiAwLjYKICAgICAgICAgICAgICAgICAgICB9CiAgICAgICAgICAgICAgICApCiAgICAgICAgICAgICAgICAuc2V0UmFkaXVzKDUpCiAgICAgICAgICAgICAgICAuYWRkVG8obWFwXzYzZjNkNGE5ODQyNTQyMzJhYTQ4MGQ5ZmUxMjY0OTQxKTsKICAgICAgICAgICAgCiAgICAKCiAgICAgICAgICAgIHZhciBjaXJjbGVfbWFya2VyXzQxNWE1Y2YwZWRjOTQxNzNhZDMzZGRiNmE0NzJjYzdkID0gTC5jaXJjbGVNYXJrZXIoCiAgICAgICAgICAgICAgICBbNDAuNjk3NDQsLTczLjk5Mjg5XSwKICAgICAgICAgICAgICAgIHsKICAgICAgICAgICAgICAgICAgICBjb2xvcjogJ2JsYWNrJywKICAgICAgICAgICAgICAgICAgICB3ZWlnaHQ6IDAsCiAgICAgICAgICAgICAgICAgICAgZmlsbENvbG9yOiAncmVkJywKICAgICAgICAgICAgICAgICAgICBmaWxsT3BhY2l0eTogMC42CiAgICAgICAgICAgICAgICAgICAgfQogICAgICAgICAgICAgICAgKQogICAgICAgICAgICAgICAgLnNldFJhZGl1cyg1KQogICAgICAgICAgICAgICAgLmFkZFRvKG1hcF82M2YzZDRhOTg0MjU0MjMyYWE0ODBkOWZlMTI2NDk0MSk7CiAgICAgICAgICAgIAogICAgCgogICAgICAgICAgICB2YXIgY2lyY2xlX21hcmtlcl9kODA5OTkyMDUyNmE0ZTUzOGYwMWM0Y2EzODVlNjQxNCA9IEwuY2lyY2xlTWFya2VyKAogICAgICAgICAgICAgICAgWzQwLjY5NzIyLC03My45OTIxMl0sCiAgICAgICAgICAgICAgICB7CiAgICAgICAgICAgICAgICAgICAgY29sb3I6ICdibGFjaycsCiAgICAgICAgICAgICAgICAgICAgd2VpZ2h0OiAwLAogICAgICAgICAgICAgICAgICAgIGZpbGxDb2xvcjogJ3JlZCcsCiAgICAgICAgICAgICAgICAgICAgZmlsbE9wYWNpdHk6IDAuNgogICAgICAgICAgICAgICAgICAgIH0KICAgICAgICAgICAgICAgICkKICAgICAgICAgICAgICAgIC5zZXRSYWRpdXMoNSkKICAgICAgICAgICAgICAgIC5hZGRUbyhtYXBfNjNmM2Q0YTk4NDI1NDIzMmFhNDgwZDlmZTEyNjQ5NDEpOwogICAgICAgICAgICAKICAgIAoKICAgICAgICAgICAgdmFyIGNpcmNsZV9tYXJrZXJfYzg0ODM1M2Y4MzJhNGJkOGE0YWFjYmY1Nzc1OWYyNGYgPSBMLmNpcmNsZU1hcmtlcigKICAgICAgICAgICAgICAgIFs0MC42OTcwNCwtNzMuOTkxNDRdLAogICAgICAgICAgICAgICAgewogICAgICAgICAgICAgICAgICAgIGNvbG9yOiAnYmxhY2snLAogICAgICAgICAgICAgICAgICAgIHdlaWdodDogMCwKICAgICAgICAgICAgICAgICAgICBmaWxsQ29sb3I6ICdyZWQnLAogICAgICAgICAgICAgICAgICAgIGZpbGxPcGFjaXR5OiAwLjYKICAgICAgICAgICAgICAgICAgICB9CiAgICAgICAgICAgICAgICApCiAgICAgICAgICAgICAgICAuc2V0UmFkaXVzKDUpCiAgICAgICAgICAgICAgICAuYWRkVG8obWFwXzYzZjNkNGE5ODQyNTQyMzJhYTQ4MGQ5ZmUxMjY0OTQxKTsKICAgICAgICAgICAgCiAgICAKCiAgICAgICAgICAgIHZhciBjaXJjbGVfbWFya2VyX2NhMThkZmY4MzJmYjQ4NmNiZjlhM2NlZjg2MzZlYzc1ID0gTC5jaXJjbGVNYXJrZXIoCiAgICAgICAgICAgICAgICBbNDAuNjk2NDksLTczLjk5MTMzXSwKICAgICAgICAgICAgICAgIHsKICAgICAgICAgICAgICAgICAgICBjb2xvcjogJ2JsYWNrJywKICAgICAgICAgICAgICAgICAgICB3ZWlnaHQ6IDAsCiAgICAgICAgICAgICAgICAgICAgZmlsbENvbG9yOiAncmVkJywKICAgICAgICAgICAgICAgICAgICBmaWxsT3BhY2l0eTogMC42CiAgICAgICAgICAgICAgICAgICAgfQogICAgICAgICAgICAgICAgKQogICAgICAgICAgICAgICAgLnNldFJhZGl1cyg1KQogICAgICAgICAgICAgICAgLmFkZFRvKG1hcF82M2YzZDRhOTg0MjU0MjMyYWE0ODBkOWZlMTI2NDk0MSk7CiAgICAgICAgICAgIAogICAgCgogICAgICAgICAgICB2YXIgY2lyY2xlX21hcmtlcl8wOGI0M2IxYzIwNzk0NDAwYjEzM2Q4YTE5MDczOGI2NCA9IEwuY2lyY2xlTWFya2VyKAogICAgICAgICAgICAgICAgWzQwLjY5NjE5LC03My45OTEyMl0sCiAgICAgICAgICAgICAgICB7CiAgICAgICAgICAgICAgICAgICAgY29sb3I6ICdibGFjaycsCiAgICAgICAgICAgICAgICAgICAgd2VpZ2h0OiAwLAogICAgICAgICAgICAgICAgICAgIGZpbGxDb2xvcjogJ3JlZCcsCiAgICAgICAgICAgICAgICAgICAgZmlsbE9wYWNpdHk6IDAuNgogICAgICAgICAgICAgICAgICAgIH0KICAgICAgICAgICAgICAgICkKICAgICAgICAgICAgICAgIC5zZXRSYWRpdXMoNSkKICAgICAgICAgICAgICAgIC5hZGRUbyhtYXBfNjNmM2Q0YTk4NDI1NDIzMmFhNDgwZDlmZTEyNjQ5NDEpOwogICAgICAgICAgICAKICAgIAoKICAgICAgICAgICAgdmFyIGNpcmNsZV9tYXJrZXJfMDdmOTVkMmJjMmI4NDRlZmI1ZjBmMjNiZjI0ZDRhYjIgPSBMLmNpcmNsZU1hcmtlcigKICAgICAgICAgICAgICAgIFs0MC42OTYxOCwtNzMuOTkwNjhdLAogICAgICAgICAgICAgICAgewogICAgICAgICAgICAgICAgICAgIGNvbG9yOiAnYmxhY2snLAogICAgICAgICAgICAgICAgICAgIHdlaWdodDogMCwKICAgICAgICAgICAgICAgICAgICBmaWxsQ29sb3I6ICdyZWQnLAogICAgICAgICAgICAgICAgICAgIGZpbGxPcGFjaXR5OiAwLjYKICAgICAgICAgICAgICAgICAgICB9CiAgICAgICAgICAgICAgICApCiAgICAgICAgICAgICAgICAuc2V0UmFkaXVzKDUpCiAgICAgICAgICAgICAgICAuYWRkVG8obWFwXzYzZjNkNGE5ODQyNTQyMzJhYTQ4MGQ5ZmUxMjY0OTQxKTsKICAgICAgICAgICAgCiAgICAKCiAgICAgICAgICAgIHZhciBjaXJjbGVfbWFya2VyX2IzYzlkMDcyMjQ5MzQ4NWM5MDg2YjE3YmU2ZmI0Zjk2ID0gTC5jaXJjbGVNYXJrZXIoCiAgICAgICAgICAgICAgICBbNDAuNjk2MTIsLTczLjk4ODk2XSwKICAgICAgICAgICAgICAgIHsKICAgICAgICAgICAgICAgICAgICBjb2xvcjogJ2JsYWNrJywKICAgICAgICAgICAgICAgICAgICB3ZWlnaHQ6IDAsCiAgICAgICAgICAgICAgICAgICAgZmlsbENvbG9yOiAncmVkJywKICAgICAgICAgICAgICAgICAgICBmaWxsT3BhY2l0eTogMC42CiAgICAgICAgICAgICAgICAgICAgfQogICAgICAgICAgICAgICAgKQogICAgICAgICAgICAgICAgLnNldFJhZGl1cyg1KQogICAgICAgICAgICAgICAgLmFkZFRvKG1hcF82M2YzZDRhOTg0MjU0MjMyYWE0ODBkOWZlMTI2NDk0MSk7CiAgICAgICAgICAgIAogICAgCgogICAgICAgICAgICB2YXIgY2lyY2xlX21hcmtlcl81ZDkzNGRkZDEzOTM0ZDUzYmFlMzBlMDM2MTE3MTljNSA9IEwuY2lyY2xlTWFya2VyKAogICAgICAgICAgICAgICAgWzQwLjY5NTk1LC03My45ODQ1N10sCiAgICAgICAgICAgICAgICB7CiAgICAgICAgICAgICAgICAgICAgY29sb3I6ICdibGFjaycsCiAgICAgICAgICAgICAgICAgICAgd2VpZ2h0OiAwLAogICAgICAgICAgICAgICAgICAgIGZpbGxDb2xvcjogJ3JlZCcsCiAgICAgICAgICAgICAgICAgICAgZmlsbE9wYWNpdHk6IDAuNgogICAgICAgICAgICAgICAgICAgIH0KICAgICAgICAgICAgICAgICkKICAgICAgICAgICAgICAgIC5zZXRSYWRpdXMoNSkKICAgICAgICAgICAgICAgIC5hZGRUbyhtYXBfNjNmM2Q0YTk4NDI1NDIzMmFhNDgwZDlmZTEyNjQ5NDEpOwogICAgICAgICAgICAKICAgIAoKICAgICAgICAgICAgdmFyIGNpcmNsZV9tYXJrZXJfZTRkNWNmMTRiNDY5NDVjOTkzNjY5MWI4ZDVjNmUxZmIgPSBMLmNpcmNsZU1hcmtlcigKICAgICAgICAgICAgICAgIFs0MC42OTU5NCwtNzMuOTg0MzddLAogICAgICAgICAgICAgICAgewogICAgICAgICAgICAgICAgICAgIGNvbG9yOiAnYmxhY2snLAogICAgICAgICAgICAgICAgICAgIHdlaWdodDogMCwKICAgICAgICAgICAgICAgICAgICBmaWxsQ29sb3I6ICdyZWQnLAogICAgICAgICAgICAgICAgICAgIGZpbGxPcGFjaXR5OiAwLjYKICAgICAgICAgICAgICAgICAgICB9CiAgICAgICAgICAgICAgICApCiAgICAgICAgICAgICAgICAuc2V0UmFkaXVzKDUpCiAgICAgICAgICAgICAgICAuYWRkVG8obWFwXzYzZjNkNGE5ODQyNTQyMzJhYTQ4MGQ5ZmUxMjY0OTQxKTsKICAgICAgICAgICAgCiAgICAKCiAgICAgICAgICAgIHZhciBjaXJjbGVfbWFya2VyXzYyNjVlMzRlY2MyODQyYWE4YWRjODRkMzFmYzJhZDlmID0gTC5jaXJjbGVNYXJrZXIoCiAgICAgICAgICAgICAgICBbNDAuNjk2MTIsLTczLjk4NDQ4XSwKICAgICAgICAgICAgICAgIHsKICAgICAgICAgICAgICAgICAgICBjb2xvcjogJ2JsYWNrJywKICAgICAgICAgICAgICAgICAgICB3ZWlnaHQ6IDAsCiAgICAgICAgICAgICAgICAgICAgZmlsbENvbG9yOiAncmVkJywKICAgICAgICAgICAgICAgICAgICBmaWxsT3BhY2l0eTogMC42CiAgICAgICAgICAgICAgICAgICAgfQogICAgICAgICAgICAgICAgKQogICAgICAgICAgICAgICAgLnNldFJhZGl1cyg1KQogICAgICAgICAgICAgICAgLmFkZFRvKG1hcF82M2YzZDRhOTg0MjU0MjMyYWE0ODBkOWZlMTI2NDk0MSk7CiAgICAgICAgICAgIAogICAgCgogICAgICAgICAgICB2YXIgY2lyY2xlX21hcmtlcl9iNjRiMmZkNzkzYzE0MmYwOGY4YWFhM2Q4MDdhYzRjMiA9IEwuY2lyY2xlTWFya2VyKAogICAgICAgICAgICAgICAgWzQwLjY5NzE0LC03My45ODQ5Nl0sCiAgICAgICAgICAgICAgICB7CiAgICAgICAgICAgICAgICAgICAgY29sb3I6ICdibGFjaycsCiAgICAgICAgICAgICAgICAgICAgd2VpZ2h0OiAwLAogICAgICAgICAgICAgICAgICAgIGZpbGxDb2xvcjogJ3JlZCcsCiAgICAgICAgICAgICAgICAgICAgZmlsbE9wYWNpdHk6IDAuNgogICAgICAgICAgICAgICAgICAgIH0KICAgICAgICAgICAgICAgICkKICAgICAgICAgICAgICAgIC5zZXRSYWRpdXMoNSkKICAgICAgICAgICAgICAgIC5hZGRUbyhtYXBfNjNmM2Q0YTk4NDI1NDIzMmFhNDgwZDlmZTEyNjQ5NDEpOwogICAgICAgICAgICAKICAgIAoKICAgICAgICAgICAgdmFyIGNpcmNsZV9tYXJrZXJfNTZmMTFiODA5MWY0NDg4OWJmMDFhZjRhYmFjZWIwZGYgPSBMLmNpcmNsZU1hcmtlcigKICAgICAgICAgICAgICAgIFs0MC42OTczMiwtNzMuOTg1MDddLAogICAgICAgICAgICAgICAgewogICAgICAgICAgICAgICAgICAgIGNvbG9yOiAnYmxhY2snLAogICAgICAgICAgICAgICAgICAgIHdlaWdodDogMCwKICAgICAgICAgICAgICAgICAgICBmaWxsQ29sb3I6ICdyZWQnLAogICAgICAgICAgICAgICAgICAgIGZpbGxPcGFjaXR5OiAwLjYKICAgICAgICAgICAgICAgICAgICB9CiAgICAgICAgICAgICAgICApCiAgICAgICAgICAgICAgICAuc2V0UmFkaXVzKDUpCiAgICAgICAgICAgICAgICAuYWRkVG8obWFwXzYzZjNkNGE5ODQyNTQyMzJhYTQ4MGQ5ZmUxMjY0OTQxKTsKICAgICAgICAgICAgCiAgICAKCiAgICAgICAgICAgIHZhciBjaXJjbGVfbWFya2VyXzkzY2FmOWIzNjQxMTRiZjQ4NWViOWYyZjVmZjU4MGFhID0gTC5jaXJjbGVNYXJrZXIoCiAgICAgICAgICAgICAgICBbNDAuNjk3NjMsLTczLjk4NTIyXSwKICAgICAgICAgICAgICAgIHsKICAgICAgICAgICAgICAgICAgICBjb2xvcjogJ2JsYWNrJywKICAgICAgICAgICAgICAgICAgICB3ZWlnaHQ6IDAsCiAgICAgICAgICAgICAgICAgICAgZmlsbENvbG9yOiAncmVkJywKICAgICAgICAgICAgICAgICAgICBmaWxsT3BhY2l0eTogMC42CiAgICAgICAgICAgICAgICAgICAgfQogICAgICAgICAgICAgICAgKQogICAgICAgICAgICAgICAgLnNldFJhZGl1cyg1KQogICAgICAgICAgICAgICAgLmFkZFRvKG1hcF82M2YzZDRhOTg0MjU0MjMyYWE0ODBkOWZlMTI2NDk0MSk7CiAgICAgICAgICAgIAogICAgCgogICAgICAgICAgICB2YXIgY2lyY2xlX21hcmtlcl9mZDZmOTY1YmM4ZDI0MWJlYjJiY2FmYThiZTdjNmZiYyA9IEwuY2lyY2xlTWFya2VyKAogICAgICAgICAgICAgICAgWzQwLjY5ODYyLC03My45ODU4MV0sCiAgICAgICAgICAgICAgICB7CiAgICAgICAgICAgICAgICAgICAgY29sb3I6ICdibGFjaycsCiAgICAgICAgICAgICAgICAgICAgd2VpZ2h0OiAwLAogICAgICAgICAgICAgICAgICAgIGZpbGxDb2xvcjogJ3JlZCcsCiAgICAgICAgICAgICAgICAgICAgZmlsbE9wYWNpdHk6IDAuNgogICAgICAgICAgICAgICAgICAgIH0KICAgICAgICAgICAgICAgICkKICAgICAgICAgICAgICAgIC5zZXRSYWRpdXMoNSkKICAgICAgICAgICAgICAgIC5hZGRUbyhtYXBfNjNmM2Q0YTk4NDI1NDIzMmFhNDgwZDlmZTEyNjQ5NDEpOwogICAgICAgICAgICAKICAgIAoKICAgICAgICAgICAgdmFyIGNpcmNsZV9tYXJrZXJfOTI3MDc1OWY4MWE0NDNmYzg3M2Q1OTJlZDhmNTkyMGIgPSBMLmNpcmNsZU1hcmtlcigKICAgICAgICAgICAgICAgIFs0MC42OTk3OCwtNzMuOTg2NDRdLAogICAgICAgICAgICAgICAgewogICAgICAgICAgICAgICAgICAgIGNvbG9yOiAnYmxhY2snLAogICAgICAgICAgICAgICAgICAgIHdlaWdodDogMCwKICAgICAgICAgICAgICAgICAgICBmaWxsQ29sb3I6ICdyZWQnLAogICAgICAgICAgICAgICAgICAgIGZpbGxPcGFjaXR5OiAwLjYKICAgICAgICAgICAgICAgICAgICB9CiAgICAgICAgICAgICAgICApCiAgICAgICAgICAgICAgICAuc2V0UmFkaXVzKDUpCiAgICAgICAgICAgICAgICAuYWRkVG8obWFwXzYzZjNkNGE5ODQyNTQyMzJhYTQ4MGQ5ZmUxMjY0OTQxKTsKICAgICAgICAgICAgCiAgICAKCiAgICAgICAgICAgIHZhciBjaXJjbGVfbWFya2VyXzc2NzNhMWFkM2Y3YjRiOGY5ZTM1NDVmZjFiYjdiYzNiID0gTC5jaXJjbGVNYXJrZXIoCiAgICAgICAgICAgICAgICBbNDAuNjk5OTYsLTczLjk4NjU0XSwKICAgICAgICAgICAgICAgIHsKICAgICAgICAgICAgICAgICAgICBjb2xvcjogJ2JsYWNrJywKICAgICAgICAgICAgICAgICAgICB3ZWlnaHQ6IDAsCiAgICAgICAgICAgICAgICAgICAgZmlsbENvbG9yOiAncmVkJywKICAgICAgICAgICAgICAgICAgICBmaWxsT3BhY2l0eTogMC42CiAgICAgICAgICAgICAgICAgICAgfQogICAgICAgICAgICAgICAgKQogICAgICAgICAgICAgICAgLnNldFJhZGl1cyg1KQogICAgICAgICAgICAgICAgLmFkZFRvKG1hcF82M2YzZDRhOTg0MjU0MjMyYWE0ODBkOWZlMTI2NDk0MSk7CiAgICAgICAgICAgIAogICAgCgogICAgICAgICAgICB2YXIgY2lyY2xlX21hcmtlcl8yMTYyZjJiMzgyYTY0YTMwODQ2YTQ3NWZhMWYxNzEyMSA9IEwuY2lyY2xlTWFya2VyKAogICAgICAgICAgICAgICAgWzQwLjcwMDYxLC03My45ODY5XSwKICAgICAgICAgICAgICAgIHsKICAgICAgICAgICAgICAgICAgICBjb2xvcjogJ2JsYWNrJywKICAgICAgICAgICAgICAgICAgICB3ZWlnaHQ6IDAsCiAgICAgICAgICAgICAgICAgICAgZmlsbENvbG9yOiAncmVkJywKICAgICAgICAgICAgICAgICAgICBmaWxsT3BhY2l0eTogMC42CiAgICAgICAgICAgICAgICAgICAgfQogICAgICAgICAgICAgICAgKQogICAgICAgICAgICAgICAgLnNldFJhZGl1cyg1KQogICAgICAgICAgICAgICAgLmFkZFRvKG1hcF82M2YzZDRhOTg0MjU0MjMyYWE0ODBkOWZlMTI2NDk0MSk7CiAgICAgICAgICAgIAogICAgCgogICAgICAgICAgICB2YXIgY2lyY2xlX21hcmtlcl9iYzg0MWMwMWUxZjg0M2YyODBmODVjYTg4MzUyMmRkYyA9IEwuY2lyY2xlTWFya2VyKAogICAgICAgICAgICAgICAgWzQwLjcwMTE5LC03My45ODcyMl0sCiAgICAgICAgICAgICAgICB7CiAgICAgICAgICAgICAgICAgICAgY29sb3I6ICdibGFjaycsCiAgICAgICAgICAgICAgICAgICAgd2VpZ2h0OiAwLAogICAgICAgICAgICAgICAgICAgIGZpbGxDb2xvcjogJ3JlZCcsCiAgICAgICAgICAgICAgICAgICAgZmlsbE9wYWNpdHk6IDAuNgogICAgICAgICAgICAgICAgICAgIH0KICAgICAgICAgICAgICAgICkKICAgICAgICAgICAgICAgIC5zZXRSYWRpdXMoNSkKICAgICAgICAgICAgICAgIC5hZGRUbyhtYXBfNjNmM2Q0YTk4NDI1NDIzMmFhNDgwZDlmZTEyNjQ5NDEpOwogICAgICAgICAgICAKICAgIAoKICAgICAgICAgICAgdmFyIGNpcmNsZV9tYXJrZXJfNmI2YWNjNzljNTE4NDAwYTljNTI4YTNlOGI3MzBhNTcgPSBMLmNpcmNsZU1hcmtlcigKICAgICAgICAgICAgICAgIFs0MC43MDE3MiwtNzMuOTg3NTFdLAogICAgICAgICAgICAgICAgewogICAgICAgICAgICAgICAgICAgIGNvbG9yOiAnYmxhY2snLAogICAgICAgICAgICAgICAgICAgIHdlaWdodDogMCwKICAgICAgICAgICAgICAgICAgICBmaWxsQ29sb3I6ICdyZWQnLAogICAgICAgICAgICAgICAgICAgIGZpbGxPcGFjaXR5OiAwLjYKICAgICAgICAgICAgICAgICAgICB9CiAgICAgICAgICAgICAgICApCiAgICAgICAgICAgICAgICAuc2V0UmFkaXVzKDUpCiAgICAgICAgICAgICAgICAuYWRkVG8obWFwXzYzZjNkNGE5ODQyNTQyMzJhYTQ4MGQ5ZmUxMjY0OTQxKTsKICAgICAgICAgICAgCiAgICAKCiAgICAgICAgICAgIHZhciBjaXJjbGVfbWFya2VyX2IxMGIzZDgxMjEzZjQ3NWE5ZjhmNzQyM2JhY2U2YmZlID0gTC5jaXJjbGVNYXJrZXIoCiAgICAgICAgICAgICAgICBbNDAuNzAyNDcsLTczLjk4NzkyXSwKICAgICAgICAgICAgICAgIHsKICAgICAgICAgICAgICAgICAgICBjb2xvcjogJ2JsYWNrJywKICAgICAgICAgICAgICAgICAgICB3ZWlnaHQ6IDAsCiAgICAgICAgICAgICAgICAgICAgZmlsbENvbG9yOiAncmVkJywKICAgICAgICAgICAgICAgICAgICBmaWxsT3BhY2l0eTogMC42CiAgICAgICAgICAgICAgICAgICAgfQogICAgICAgICAgICAgICAgKQogICAgICAgICAgICAgICAgLnNldFJhZGl1cyg1KQogICAgICAgICAgICAgICAgLmFkZFRvKG1hcF82M2YzZDRhOTg0MjU0MjMyYWE0ODBkOWZlMTI2NDk0MSk7CiAgICAgICAgICAgIAogICAgCgogICAgICAgICAgICB2YXIgY2lyY2xlX21hcmtlcl80OWRiYWUzMDk4ZGY0ODVkYWU1ZDA5NmFiYmNjNjNlMCA9IEwuY2lyY2xlTWFya2VyKAogICAgICAgICAgICAgICAgWzQwLjcwMzc0LC03My45ODg2NF0sCiAgICAgICAgICAgICAgICB7CiAgICAgICAgICAgICAgICAgICAgY29sb3I6ICdibGFjaycsCiAgICAgICAgICAgICAgICAgICAgd2VpZ2h0OiAwLAogICAgICAgICAgICAgICAgICAgIGZpbGxDb2xvcjogJ3JlZCcsCiAgICAgICAgICAgICAgICAgICAgZmlsbE9wYWNpdHk6IDAuNgogICAgICAgICAgICAgICAgICAgIH0KICAgICAgICAgICAgICAgICkKICAgICAgICAgICAgICAgIC5zZXRSYWRpdXMoNSkKICAgICAgICAgICAgICAgIC5hZGRUbyhtYXBfNjNmM2Q0YTk4NDI1NDIzMmFhNDgwZDlmZTEyNjQ5NDEpOwogICAgICAgICAgICAKICAgIAoKICAgICAgICAgICAgdmFyIGNpcmNsZV9tYXJrZXJfMjYzNmNlM2Y1M2YyNDM2YjkwNWRiZGUyYzc2M2Q5NjQgPSBMLmNpcmNsZU1hcmtlcigKICAgICAgICAgICAgICAgIFs0MC43MDQ1NywtNzMuOTg5MDldLAogICAgICAgICAgICAgICAgewogICAgICAgICAgICAgICAgICAgIGNvbG9yOiAnYmxhY2snLAogICAgICAgICAgICAgICAgICAgIHdlaWdodDogMCwKICAgICAgICAgICAgICAgICAgICBmaWxsQ29sb3I6ICdyZWQnLAogICAgICAgICAgICAgICAgICAgIGZpbGxPcGFjaXR5OiAwLjYKICAgICAgICAgICAgICAgICAgICB9CiAgICAgICAgICAgICAgICApCiAgICAgICAgICAgICAgICAuc2V0UmFkaXVzKDUpCiAgICAgICAgICAgICAgICAuYWRkVG8obWFwXzYzZjNkNGE5ODQyNTQyMzJhYTQ4MGQ5ZmUxMjY0OTQxKTsKICAgICAgICAgICAgCiAgICAKCiAgICAgICAgICAgIHZhciBjaXJjbGVfbWFya2VyX2Q1MTFkOTg4ZDFiYjQ5YmFhZjhjMmQ3NjU2Y2I4YWExID0gTC5jaXJjbGVNYXJrZXIoCiAgICAgICAgICAgICAgICBbNDAuNzA2MzEsLTczLjk5MDE2XSwKICAgICAgICAgICAgICAgIHsKICAgICAgICAgICAgICAgICAgICBjb2xvcjogJ2JsYWNrJywKICAgICAgICAgICAgICAgICAgICB3ZWlnaHQ6IDAsCiAgICAgICAgICAgICAgICAgICAgZmlsbENvbG9yOiAncmVkJywKICAgICAgICAgICAgICAgICAgICBmaWxsT3BhY2l0eTogMC42CiAgICAgICAgICAgICAgICAgICAgfQogICAgICAgICAgICAgICAgKQogICAgICAgICAgICAgICAgLnNldFJhZGl1cyg1KQogICAgICAgICAgICAgICAgLmFkZFRvKG1hcF82M2YzZDRhOTg0MjU0MjMyYWE0ODBkOWZlMTI2NDk0MSk7CiAgICAgICAgICAgIAogICAgCgogICAgICAgICAgICB2YXIgY2lyY2xlX21hcmtlcl8xNDE2MWY2Njc5ZGE0ODdlYjhmM2Q5N2U0ZjQ3OWZkYyA9IEwuY2lyY2xlTWFya2VyKAogICAgICAgICAgICAgICAgWzQwLjcwNjg3LC03My45OTA0OF0sCiAgICAgICAgICAgICAgICB7CiAgICAgICAgICAgICAgICAgICAgY29sb3I6ICdibGFjaycsCiAgICAgICAgICAgICAgICAgICAgd2VpZ2h0OiAwLAogICAgICAgICAgICAgICAgICAgIGZpbGxDb2xvcjogJ3JlZCcsCiAgICAgICAgICAgICAgICAgICAgZmlsbE9wYWNpdHk6IDAuNgogICAgICAgICAgICAgICAgICAgIH0KICAgICAgICAgICAgICAgICkKICAgICAgICAgICAgICAgIC5zZXRSYWRpdXMoNSkKICAgICAgICAgICAgICAgIC5hZGRUbyhtYXBfNjNmM2Q0YTk4NDI1NDIzMmFhNDgwZDlmZTEyNjQ5NDEpOwogICAgICAgICAgICAKICAgIAoKICAgICAgICAgICAgdmFyIGNpcmNsZV9tYXJrZXJfNGRhZDI0MzcyMDFhNDM2ODkwNWFiZDZmNmQwZWQzMGIgPSBMLmNpcmNsZU1hcmtlcigKICAgICAgICAgICAgICAgIFs0MC43MDkyMiwtNzMuOTkxNzldLAogICAgICAgICAgICAgICAgewogICAgICAgICAgICAgICAgICAgIGNvbG9yOiAnYmxhY2snLAogICAgICAgICAgICAgICAgICAgIHdlaWdodDogMCwKICAgICAgICAgICAgICAgICAgICBmaWxsQ29sb3I6ICdyZWQnLAogICAgICAgICAgICAgICAgICAgIGZpbGxPcGFjaXR5OiAwLjYKICAgICAgICAgICAgICAgICAgICB9CiAgICAgICAgICAgICAgICApCiAgICAgICAgICAgICAgICAuc2V0UmFkaXVzKDUpCiAgICAgICAgICAgICAgICAuYWRkVG8obWFwXzYzZjNkNGE5ODQyNTQyMzJhYTQ4MGQ5ZmUxMjY0OTQxKTsKICAgICAgICAgICAgCiAgICAKCiAgICAgICAgICAgIHZhciBjaXJjbGVfbWFya2VyX2Q5Y2I2MGUwNTZmMDRhZTJhZjZlOWIwYmU3MDUzMDQ1ID0gTC5jaXJjbGVNYXJrZXIoCiAgICAgICAgICAgICAgICBbNDAuNzEwMzMsLTczLjk5MjQxXSwKICAgICAgICAgICAgICAgIHsKICAgICAgICAgICAgICAgICAgICBjb2xvcjogJ2JsYWNrJywKICAgICAgICAgICAgICAgICAgICB3ZWlnaHQ6IDAsCiAgICAgICAgICAgICAgICAgICAgZmlsbENvbG9yOiAncmVkJywKICAgICAgICAgICAgICAgICAgICBmaWxsT3BhY2l0eTogMC42CiAgICAgICAgICAgICAgICAgICAgfQogICAgICAgICAgICAgICAgKQogICAgICAgICAgICAgICAgLnNldFJhZGl1cyg1KQogICAgICAgICAgICAgICAgLmFkZFRvKG1hcF82M2YzZDRhOTg0MjU0MjMyYWE0ODBkOWZlMTI2NDk0MSk7CiAgICAgICAgICAgIAogICAgCgogICAgICAgICAgICB2YXIgY2lyY2xlX21hcmtlcl8yNGM0MzliZTRhYzg0NWQxYWViYTJiMDgzODQwMzdjMyA9IEwuY2lyY2xlTWFya2VyKAogICAgICAgICAgICAgICAgWzQwLjcxMTgyLC03My45OTMyXSwKICAgICAgICAgICAgICAgIHsKICAgICAgICAgICAgICAgICAgICBjb2xvcjogJ2JsYWNrJywKICAgICAgICAgICAgICAgICAgICB3ZWlnaHQ6IDAsCiAgICAgICAgICAgICAgICAgICAgZmlsbENvbG9yOiAncmVkJywKICAgICAgICAgICAgICAgICAgICBmaWxsT3BhY2l0eTogMC42CiAgICAgICAgICAgICAgICAgICAgfQogICAgICAgICAgICAgICAgKQogICAgICAgICAgICAgICAgLnNldFJhZGl1cyg1KQogICAgICAgICAgICAgICAgLmFkZFRvKG1hcF82M2YzZDRhOTg0MjU0MjMyYWE0ODBkOWZlMTI2NDk0MSk7CiAgICAgICAgICAgIAogICAgCgogICAgICAgICAgICB2YXIgY2lyY2xlX21hcmtlcl85MWRmZGNjOTY2ZTU0MTdkOGQ1ZTEzNzEwOGFiNDM4MiA9IEwuY2lyY2xlTWFya2VyKAogICAgICAgICAgICAgICAgWzQwLjcxMzAzLC03My45OTM4Nl0sCiAgICAgICAgICAgICAgICB7CiAgICAgICAgICAgICAgICAgICAgY29sb3I6ICdibGFjaycsCiAgICAgICAgICAgICAgICAgICAgd2VpZ2h0OiAwLAogICAgICAgICAgICAgICAgICAgIGZpbGxDb2xvcjogJ3JlZCcsCiAgICAgICAgICAgICAgICAgICAgZmlsbE9wYWNpdHk6IDAuNgogICAgICAgICAgICAgICAgICAgIH0KICAgICAgICAgICAgICAgICkKICAgICAgICAgICAgICAgIC5zZXRSYWRpdXMoNSkKICAgICAgICAgICAgICAgIC5hZGRUbyhtYXBfNjNmM2Q0YTk4NDI1NDIzMmFhNDgwZDlmZTEyNjQ5NDEpOwogICAgICAgICAgICAKICAgIAoKICAgICAgICAgICAgdmFyIGNpcmNsZV9tYXJrZXJfMmI1MmUwODI3N2QwNDZiNmI2NzZkZWU3OTdjZjc3ODkgPSBMLmNpcmNsZU1hcmtlcigKICAgICAgICAgICAgICAgIFs0MC43MTM3MywtNzMuOTk0MjVdLAogICAgICAgICAgICAgICAgewogICAgICAgICAgICAgICAgICAgIGNvbG9yOiAnYmxhY2snLAogICAgICAgICAgICAgICAgICAgIHdlaWdodDogMCwKICAgICAgICAgICAgICAgICAgICBmaWxsQ29sb3I6ICdyZWQnLAogICAgICAgICAgICAgICAgICAgIGZpbGxPcGFjaXR5OiAwLjYKICAgICAgICAgICAgICAgICAgICB9CiAgICAgICAgICAgICAgICApCiAgICAgICAgICAgICAgICAuc2V0UmFkaXVzKDUpCiAgICAgICAgICAgICAgICAuYWRkVG8obWFwXzYzZjNkNGE5ODQyNTQyMzJhYTQ4MGQ5ZmUxMjY0OTQxKTsKICAgICAgICAgICAgCiAgICAKCiAgICAgICAgICAgIHZhciBjaXJjbGVfbWFya2VyXzA5MDUyZGY2MzQyMDQ3M2VhOWZlNWQ0ZmM5MWRmNGFjID0gTC5jaXJjbGVNYXJrZXIoCiAgICAgICAgICAgICAgICBbNDAuNzE0MjUsLTczLjk5NDU1XSwKICAgICAgICAgICAgICAgIHsKICAgICAgICAgICAgICAgICAgICBjb2xvcjogJ2JsYWNrJywKICAgICAgICAgICAgICAgICAgICB3ZWlnaHQ6IDAsCiAgICAgICAgICAgICAgICAgICAgZmlsbENvbG9yOiAncmVkJywKICAgICAgICAgICAgICAgICAgICBmaWxsT3BhY2l0eTogMC42CiAgICAgICAgICAgICAgICAgICAgfQogICAgICAgICAgICAgICAgKQogICAgICAgICAgICAgICAgLnNldFJhZGl1cyg1KQogICAgICAgICAgICAgICAgLmFkZFRvKG1hcF82M2YzZDRhOTg0MjU0MjMyYWE0ODBkOWZlMTI2NDk0MSk7CiAgICAgICAgICAgIAogICAgCgogICAgICAgICAgICB2YXIgY2lyY2xlX21hcmtlcl8yMGQ2MzNlYTllZmQ0MzhhOTliZDE0M2UwMTFkNWI2NSA9IEwuY2lyY2xlTWFya2VyKAogICAgICAgICAgICAgICAgWzQwLjcxNTM2LC03My45OTUxNV0sCiAgICAgICAgICAgICAgICB7CiAgICAgICAgICAgICAgICAgICAgY29sb3I6ICdibGFjaycsCiAgICAgICAgICAgICAgICAgICAgd2VpZ2h0OiAwLAogICAgICAgICAgICAgICAgICAgIGZpbGxDb2xvcjogJ3JlZCcsCiAgICAgICAgICAgICAgICAgICAgZmlsbE9wYWNpdHk6IDAuNgogICAgICAgICAgICAgICAgICAgIH0KICAgICAgICAgICAgICAgICkKICAgICAgICAgICAgICAgIC5zZXRSYWRpdXMoNSkKICAgICAgICAgICAgICAgIC5hZGRUbyhtYXBfNjNmM2Q0YTk4NDI1NDIzMmFhNDgwZDlmZTEyNjQ5NDEpOwogICAgICAgICAgICAKICAgIAoKICAgICAgICAgICAgdmFyIGNpcmNsZV9tYXJrZXJfMzE5ZDM2Y2VjMGExNDc1ZGEzODI5Y2NiM2M2MDQwN2YgPSBMLmNpcmNsZU1hcmtlcigKICAgICAgICAgICAgICAgIFs0MC43MTU0OCwtNzMuOTk1MjJdLAogICAgICAgICAgICAgICAgewogICAgICAgICAgICAgICAgICAgIGNvbG9yOiAnYmxhY2snLAogICAgICAgICAgICAgICAgICAgIHdlaWdodDogMCwKICAgICAgICAgICAgICAgICAgICBmaWxsQ29sb3I6ICdyZWQnLAogICAgICAgICAgICAgICAgICAgIGZpbGxPcGFjaXR5OiAwLjYKICAgICAgICAgICAgICAgICAgICB9CiAgICAgICAgICAgICAgICApCiAgICAgICAgICAgICAgICAuc2V0UmFkaXVzKDUpCiAgICAgICAgICAgICAgICAuYWRkVG8obWFwXzYzZjNkNGE5ODQyNTQyMzJhYTQ4MGQ5ZmUxMjY0OTQxKTsKICAgICAgICAgICAgCiAgICAKCiAgICAgICAgICAgIHZhciBjaXJjbGVfbWFya2VyXzkyZDUwZDAyNjZjYzQzYmRiM2ZkNGMzNDg4NjUzOWJlID0gTC5jaXJjbGVNYXJrZXIoCiAgICAgICAgICAgICAgICBbNDAuNzE1NTksLTczLjk5NTI0XSwKICAgICAgICAgICAgICAgIHsKICAgICAgICAgICAgICAgICAgICBjb2xvcjogJ2JsYWNrJywKICAgICAgICAgICAgICAgICAgICB3ZWlnaHQ6IDAsCiAgICAgICAgICAgICAgICAgICAgZmlsbENvbG9yOiAncmVkJywKICAgICAgICAgICAgICAgICAgICBmaWxsT3BhY2l0eTogMC42CiAgICAgICAgICAgICAgICAgICAgfQogICAgICAgICAgICAgICAgKQogICAgICAgICAgICAgICAgLnNldFJhZGl1cyg1KQogICAgICAgICAgICAgICAgLmFkZFRvKG1hcF82M2YzZDRhOTg0MjU0MjMyYWE0ODBkOWZlMTI2NDk0MSk7CiAgICAgICAgICAgIAogICAgCgogICAgICAgICAgICB2YXIgY2lyY2xlX21hcmtlcl81ODFlZDI2NTU5OWY0Yzc3YjU1YTA5MzI5Y2M5OTk4MCA9IEwuY2lyY2xlTWFya2VyKAogICAgICAgICAgICAgICAgWzQwLjcxNTY0LC03My45OTUyNl0sCiAgICAgICAgICAgICAgICB7CiAgICAgICAgICAgICAgICAgICAgY29sb3I6ICdibGFjaycsCiAgICAgICAgICAgICAgICAgICAgd2VpZ2h0OiAwLAogICAgICAgICAgICAgICAgICAgIGZpbGxDb2xvcjogJ3JlZCcsCiAgICAgICAgICAgICAgICAgICAgZmlsbE9wYWNpdHk6IDAuNgogICAgICAgICAgICAgICAgICAgIH0KICAgICAgICAgICAgICAgICkKICAgICAgICAgICAgICAgIC5zZXRSYWRpdXMoNSkKICAgICAgICAgICAgICAgIC5hZGRUbyhtYXBfNjNmM2Q0YTk4NDI1NDIzMmFhNDgwZDlmZTEyNjQ5NDEpOwogICAgICAgICAgICAKICAgIAoKICAgICAgICAgICAgdmFyIGNpcmNsZV9tYXJrZXJfZjk0MjIzNjFkNTQ4NGQ0M2JmNzJhMzk0NjYwNTM1MTIgPSBMLmNpcmNsZU1hcmtlcigKICAgICAgICAgICAgICAgIFs0MC43MTU5OCwtNzMuOTk1NDRdLAogICAgICAgICAgICAgICAgewogICAgICAgICAgICAgICAgICAgIGNvbG9yOiAnYmxhY2snLAogICAgICAgICAgICAgICAgICAgIHdlaWdodDogMCwKICAgICAgICAgICAgICAgICAgICBmaWxsQ29sb3I6ICdyZWQnLAogICAgICAgICAgICAgICAgICAgIGZpbGxPcGFjaXR5OiAwLjYKICAgICAgICAgICAgICAgICAgICB9CiAgICAgICAgICAgICAgICApCiAgICAgICAgICAgICAgICAuc2V0UmFkaXVzKDUpCiAgICAgICAgICAgICAgICAuYWRkVG8obWFwXzYzZjNkNGE5ODQyNTQyMzJhYTQ4MGQ5ZmUxMjY0OTQxKTsKICAgICAgICAgICAgCiAgICAKCiAgICAgICAgICAgIHZhciBjaXJjbGVfbWFya2VyXzY5Y2EwYWMzMTkwMjRmNWY4NzU2YjYwODRkYzI1ZDY0ID0gTC5jaXJjbGVNYXJrZXIoCiAgICAgICAgICAgICAgICBbNDAuNzE2NjMsLTczLjk5NTgxXSwKICAgICAgICAgICAgICAgIHsKICAgICAgICAgICAgICAgICAgICBjb2xvcjogJ2JsYWNrJywKICAgICAgICAgICAgICAgICAgICB3ZWlnaHQ6IDAsCiAgICAgICAgICAgICAgICAgICAgZmlsbENvbG9yOiAncmVkJywKICAgICAgICAgICAgICAgICAgICBmaWxsT3BhY2l0eTogMC42CiAgICAgICAgICAgICAgICAgICAgfQogICAgICAgICAgICAgICAgKQogICAgICAgICAgICAgICAgLnNldFJhZGl1cyg1KQogICAgICAgICAgICAgICAgLmFkZFRvKG1hcF82M2YzZDRhOTg0MjU0MjMyYWE0ODBkOWZlMTI2NDk0MSk7CiAgICAgICAgICAgIAogICAgCgogICAgICAgICAgICB2YXIgY2lyY2xlX21hcmtlcl85NGQwZDEzZWE2YTg0ZWRhOGVhZTY2MGQxM2JlZTZmYiA9IEwuY2lyY2xlTWFya2VyKAogICAgICAgICAgICAgICAgWzQwLjcxNzI4LC03My45OTU0M10sCiAgICAgICAgICAgICAgICB7CiAgICAgICAgICAgICAgICAgICAgY29sb3I6ICdibGFjaycsCiAgICAgICAgICAgICAgICAgICAgd2VpZ2h0OiAwLAogICAgICAgICAgICAgICAgICAgIGZpbGxDb2xvcjogJ3JlZCcsCiAgICAgICAgICAgICAgICAgICAgZmlsbE9wYWNpdHk6IDAuNgogICAgICAgICAgICAgICAgICAgIH0KICAgICAgICAgICAgICAgICkKICAgICAgICAgICAgICAgIC5zZXRSYWRpdXMoNSkKICAgICAgICAgICAgICAgIC5hZGRUbyhtYXBfNjNmM2Q0YTk4NDI1NDIzMmFhNDgwZDlmZTEyNjQ5NDEpOwogICAgICAgICAgICAKICAgIAoKICAgICAgICAgICAgdmFyIGNpcmNsZV9tYXJrZXJfMTNhZGI0ZjY4N2U3NGNjZjhmYTk4NTUzMTg0NTA1OTEgPSBMLmNpcmNsZU1hcmtlcigKICAgICAgICAgICAgICAgIFs0MC43MTgxNCwtNzMuOTk0OTddLAogICAgICAgICAgICAgICAgewogICAgICAgICAgICAgICAgICAgIGNvbG9yOiAnYmxhY2snLAogICAgICAgICAgICAgICAgICAgIHdlaWdodDogMCwKICAgICAgICAgICAgICAgICAgICBmaWxsQ29sb3I6ICdyZWQnLAogICAgICAgICAgICAgICAgICAgIGZpbGxPcGFjaXR5OiAwLjYKICAgICAgICAgICAgICAgICAgICB9CiAgICAgICAgICAgICAgICApCiAgICAgICAgICAgICAgICAuc2V0UmFkaXVzKDUpCiAgICAgICAgICAgICAgICAuYWRkVG8obWFwXzYzZjNkNGE5ODQyNTQyMzJhYTQ4MGQ5ZmUxMjY0OTQxKTsKICAgICAgICAgICAgCiAgICAKCiAgICAgICAgICAgIHZhciBjaXJjbGVfbWFya2VyXzVkNjg0OGU5MDBkNzQ2NDdhZmM0ZGFkZTFkMDNlY2NlID0gTC5jaXJjbGVNYXJrZXIoCiAgICAgICAgICAgICAgICBbNDAuNzE5NDMsLTczLjk5NDQxXSwKICAgICAgICAgICAgICAgIHsKICAgICAgICAgICAgICAgICAgICBjb2xvcjogJ2JsYWNrJywKICAgICAgICAgICAgICAgICAgICB3ZWlnaHQ6IDAsCiAgICAgICAgICAgICAgICAgICAgZmlsbENvbG9yOiAncmVkJywKICAgICAgICAgICAgICAgICAgICBmaWxsT3BhY2l0eTogMC42CiAgICAgICAgICAgICAgICAgICAgfQogICAgICAgICAgICAgICAgKQogICAgICAgICAgICAgICAgLnNldFJhZGl1cyg1KQogICAgICAgICAgICAgICAgLmFkZFRvKG1hcF82M2YzZDRhOTg0MjU0MjMyYWE0ODBkOWZlMTI2NDk0MSk7CiAgICAgICAgICAgIAogICAgCgogICAgICAgICAgICB2YXIgY2lyY2xlX21hcmtlcl9iOTk0ZTY1MTJkMWY0ZGM4OWU1NDAyYjhkMjViYjVhOSA9IEwuY2lyY2xlTWFya2VyKAogICAgICAgICAgICAgICAgWzQwLjcyMDI4LC03My45OTQwNl0sCiAgICAgICAgICAgICAgICB7CiAgICAgICAgICAgICAgICAgICAgY29sb3I6ICdibGFjaycsCiAgICAgICAgICAgICAgICAgICAgd2VpZ2h0OiAwLAogICAgICAgICAgICAgICAgICAgIGZpbGxDb2xvcjogJ3JlZCcsCiAgICAgICAgICAgICAgICAgICAgZmlsbE9wYWNpdHk6IDAuNgogICAgICAgICAgICAgICAgICAgIH0KICAgICAgICAgICAgICAgICkKICAgICAgICAgICAgICAgIC5zZXRSYWRpdXMoNSkKICAgICAgICAgICAgICAgIC5hZGRUbyhtYXBfNjNmM2Q0YTk4NDI1NDIzMmFhNDgwZDlmZTEyNjQ5NDEpOwogICAgICAgICAgICAKICAgIAoKICAgICAgICAgICAgdmFyIGNpcmNsZV9tYXJrZXJfNmFhNzkzM2RhNzkwNDk4OGI4NTA4MWU5YTAwNTU4M2UgPSBMLmNpcmNsZU1hcmtlcigKICAgICAgICAgICAgICAgIFs0MC43MjA1LC03My45OTM5Nl0sCiAgICAgICAgICAgICAgICB7CiAgICAgICAgICAgICAgICAgICAgY29sb3I6ICdibGFjaycsCiAgICAgICAgICAgICAgICAgICAgd2VpZ2h0OiAwLAogICAgICAgICAgICAgICAgICAgIGZpbGxDb2xvcjogJ3JlZCcsCiAgICAgICAgICAgICAgICAgICAgZmlsbE9wYWNpdHk6IDAuNgogICAgICAgICAgICAgICAgICAgIH0KICAgICAgICAgICAgICAgICkKICAgICAgICAgICAgICAgIC5zZXRSYWRpdXMoNSkKICAgICAgICAgICAgICAgIC5hZGRUbyhtYXBfNjNmM2Q0YTk4NDI1NDIzMmFhNDgwZDlmZTEyNjQ5NDEpOwogICAgICAgICAgICAKICAgIAoKICAgICAgICAgICAgdmFyIGNpcmNsZV9tYXJrZXJfNTlmZjFjYTAxNzIxNDM5YmFkNWQzN2Y0OTlhMzBkN2UgPSBMLmNpcmNsZU1hcmtlcigKICAgICAgICAgICAgICAgIFs0MC43MjA2MSwtNzMuOTkzOTNdLAogICAgICAgICAgICAgICAgewogICAgICAgICAgICAgICAgICAgIGNvbG9yOiAnYmxhY2snLAogICAgICAgICAgICAgICAgICAgIHdlaWdodDogMCwKICAgICAgICAgICAgICAgICAgICBmaWxsQ29sb3I6ICdyZWQnLAogICAgICAgICAgICAgICAgICAgIGZpbGxPcGFjaXR5OiAwLjYKICAgICAgICAgICAgICAgICAgICB9CiAgICAgICAgICAgICAgICApCiAgICAgICAgICAgICAgICAuc2V0UmFkaXVzKDUpCiAgICAgICAgICAgICAgICAuYWRkVG8obWFwXzYzZjNkNGE5ODQyNTQyMzJhYTQ4MGQ5ZmUxMjY0OTQxKTsKICAgICAgICAgICAgCiAgICAKCiAgICAgICAgICAgIHZhciBjaXJjbGVfbWFya2VyXzUwMDE2Zjk1N2JiZDQxNjZhYmJiN2NmOTg4OTI1Nzk4ID0gTC5jaXJjbGVNYXJrZXIoCiAgICAgICAgICAgICAgICBbNDAuNzIwNjgsLTczLjk5MzgzXSwKICAgICAgICAgICAgICAgIHsKICAgICAgICAgICAgICAgICAgICBjb2xvcjogJ2JsYWNrJywKICAgICAgICAgICAgICAgICAgICB3ZWlnaHQ6IDAsCiAgICAgICAgICAgICAgICAgICAgZmlsbENvbG9yOiAncmVkJywKICAgICAgICAgICAgICAgICAgICBmaWxsT3BhY2l0eTogMC42CiAgICAgICAgICAgICAgICAgICAgfQogICAgICAgICAgICAgICAgKQogICAgICAgICAgICAgICAgLnNldFJhZGl1cyg1KQogICAgICAgICAgICAgICAgLmFkZFRvKG1hcF82M2YzZDRhOTg0MjU0MjMyYWE0ODBkOWZlMTI2NDk0MSk7CiAgICAgICAgICAgIAogICAgCgogICAgICAgICAgICB2YXIgY2lyY2xlX21hcmtlcl8wMTM0MzJiYmY3N2E0YWU1OTM2YWZiMzRjODIzMDU1OSA9IEwuY2lyY2xlTWFya2VyKAogICAgICAgICAgICAgICAgWzQwLjcyMDc0LC03My45OTM3OV0sCiAgICAgICAgICAgICAgICB7CiAgICAgICAgICAgICAgICAgICAgY29sb3I6ICdibGFjaycsCiAgICAgICAgICAgICAgICAgICAgd2VpZ2h0OiAwLAogICAgICAgICAgICAgICAgICAgIGZpbGxDb2xvcjogJ3JlZCcsCiAgICAgICAgICAgICAgICAgICAgZmlsbE9wYWNpdHk6IDAuNgogICAgICAgICAgICAgICAgICAgIH0KICAgICAgICAgICAgICAgICkKICAgICAgICAgICAgICAgIC5zZXRSYWRpdXMoNSkKICAgICAgICAgICAgICAgIC5hZGRUbyhtYXBfNjNmM2Q0YTk4NDI1NDIzMmFhNDgwZDlmZTEyNjQ5NDEpOwogICAgICAgICAgICAKICAgIAoKICAgICAgICAgICAgdmFyIGNpcmNsZV9tYXJrZXJfNmJjZTljNDdjYzRlNGZjZDk2OTlhOWYzNGMxZjk2NmYgPSBMLmNpcmNsZU1hcmtlcigKICAgICAgICAgICAgICAgIFs0MC43MjA5NCwtNzMuOTkzNzJdLAogICAgICAgICAgICAgICAgewogICAgICAgICAgICAgICAgICAgIGNvbG9yOiAnYmxhY2snLAogICAgICAgICAgICAgICAgICAgIHdlaWdodDogMCwKICAgICAgICAgICAgICAgICAgICBmaWxsQ29sb3I6ICdyZWQnLAogICAgICAgICAgICAgICAgICAgIGZpbGxPcGFjaXR5OiAwLjYKICAgICAgICAgICAgICAgICAgICB9CiAgICAgICAgICAgICAgICApCiAgICAgICAgICAgICAgICAuc2V0UmFkaXVzKDUpCiAgICAgICAgICAgICAgICAuYWRkVG8obWFwXzYzZjNkNGE5ODQyNTQyMzJhYTQ4MGQ5ZmUxMjY0OTQxKTsKICAgICAgICAgICAgCiAgICAKCiAgICAgICAgICAgIHZhciBjaXJjbGVfbWFya2VyXzFlNjQ0NzNhZTQyOTQyYWI5MmNlOGRiNjkwZjkyYmNhID0gTC5jaXJjbGVNYXJrZXIoCiAgICAgICAgICAgICAgICBbNDAuNzIyNCwtNzMuOTkzMTddLAogICAgICAgICAgICAgICAgewogICAgICAgICAgICAgICAgICAgIGNvbG9yOiAnYmxhY2snLAogICAgICAgICAgICAgICAgICAgIHdlaWdodDogMCwKICAgICAgICAgICAgICAgICAgICBmaWxsQ29sb3I6ICdyZWQnLAogICAgICAgICAgICAgICAgICAgIGZpbGxPcGFjaXR5OiAwLjYKICAgICAgICAgICAgICAgICAgICB9CiAgICAgICAgICAgICAgICApCiAgICAgICAgICAgICAgICAuc2V0UmFkaXVzKDUpCiAgICAgICAgICAgICAgICAuYWRkVG8obWFwXzYzZjNkNGE5ODQyNTQyMzJhYTQ4MGQ5ZmUxMjY0OTQxKTsKICAgICAgICAgICAgCiAgICAKCiAgICAgICAgICAgIHZhciBjaXJjbGVfbWFya2VyXzBhMTgwZGFkODI4YjQzOTJiMzdkOWIzMTJmMmJiOTVmID0gTC5jaXJjbGVNYXJrZXIoCiAgICAgICAgICAgICAgICBbNDAuNzIzNTYsLTczLjk5MjczXSwKICAgICAgICAgICAgICAgIHsKICAgICAgICAgICAgICAgICAgICBjb2xvcjogJ2JsYWNrJywKICAgICAgICAgICAgICAgICAgICB3ZWlnaHQ6IDAsCiAgICAgICAgICAgICAgICAgICAgZmlsbENvbG9yOiAncmVkJywKICAgICAgICAgICAgICAgICAgICBmaWxsT3BhY2l0eTogMC42CiAgICAgICAgICAgICAgICAgICAgfQogICAgICAgICAgICAgICAgKQogICAgICAgICAgICAgICAgLnNldFJhZGl1cyg1KQogICAgICAgICAgICAgICAgLmFkZFRvKG1hcF82M2YzZDRhOTg0MjU0MjMyYWE0ODBkOWZlMTI2NDk0MSk7CiAgICAgICAgICAgIAogICAgCgogICAgICAgICAgICB2YXIgY2lyY2xlX21hcmtlcl85N2MyYWRmM2ZhMTk0NGJjOGM3YjUxZTczYWQ5MDQyZCA9IEwuY2lyY2xlTWFya2VyKAogICAgICAgICAgICAgICAgWzQwLjcyNDA0LC03My45OTI1NF0sCiAgICAgICAgICAgICAgICB7CiAgICAgICAgICAgICAgICAgICAgY29sb3I6ICdibGFjaycsCiAgICAgICAgICAgICAgICAgICAgd2VpZ2h0OiAwLAogICAgICAgICAgICAgICAgICAgIGZpbGxDb2xvcjogJ3JlZCcsCiAgICAgICAgICAgICAgICAgICAgZmlsbE9wYWNpdHk6IDAuNgogICAgICAgICAgICAgICAgICAgIH0KICAgICAgICAgICAgICAgICkKICAgICAgICAgICAgICAgIC5zZXRSYWRpdXMoNSkKICAgICAgICAgICAgICAgIC5hZGRUbyhtYXBfNjNmM2Q0YTk4NDI1NDIzMmFhNDgwZDlmZTEyNjQ5NDEpOwogICAgICAgICAgICAKICAgIAoKICAgICAgICAgICAgdmFyIGNpcmNsZV9tYXJrZXJfMDRhMjkzOTA3OTllNDUwNjlkYmNmZGEyYzBlNjQ3ZmUgPSBMLmNpcmNsZU1hcmtlcigKICAgICAgICAgICAgICAgIFs0MC43MjQxOCwtNzMuOTkyNTJdLAogICAgICAgICAgICAgICAgewogICAgICAgICAgICAgICAgICAgIGNvbG9yOiAnYmxhY2snLAogICAgICAgICAgICAgICAgICAgIHdlaWdodDogMCwKICAgICAgICAgICAgICAgICAgICBmaWxsQ29sb3I6ICdyZWQnLAogICAgICAgICAgICAgICAgICAgIGZpbGxPcGFjaXR5OiAwLjYKICAgICAgICAgICAgICAgICAgICB9CiAgICAgICAgICAgICAgICApCiAgICAgICAgICAgICAgICAuc2V0UmFkaXVzKDUpCiAgICAgICAgICAgICAgICAuYWRkVG8obWFwXzYzZjNkNGE5ODQyNTQyMzJhYTQ4MGQ5ZmUxMjY0OTQxKTsKICAgICAgICAgICAgCiAgICAKCiAgICAgICAgICAgIHZhciBjaXJjbGVfbWFya2VyXzAwMmMxM2FiODYyYjQ1NDZiZDQ5NTEwZTMyMTk3MTI3ID0gTC5jaXJjbGVNYXJrZXIoCiAgICAgICAgICAgICAgICBbNDAuNzI1MjMsLTczLjk5MjE1XSwKICAgICAgICAgICAgICAgIHsKICAgICAgICAgICAgICAgICAgICBjb2xvcjogJ2JsYWNrJywKICAgICAgICAgICAgICAgICAgICB3ZWlnaHQ6IDAsCiAgICAgICAgICAgICAgICAgICAgZmlsbENvbG9yOiAncmVkJywKICAgICAgICAgICAgICAgICAgICBmaWxsT3BhY2l0eTogMC42CiAgICAgICAgICAgICAgICAgICAgfQogICAgICAgICAgICAgICAgKQogICAgICAgICAgICAgICAgLnNldFJhZGl1cyg1KQogICAgICAgICAgICAgICAgLmFkZFRvKG1hcF82M2YzZDRhOTg0MjU0MjMyYWE0ODBkOWZlMTI2NDk0MSk7CiAgICAgICAgICAgIAogICAgCgogICAgICAgICAgICB2YXIgY2lyY2xlX21hcmtlcl8zYWEzZmJjYzVhOTE0MDI4ODNjYTY0Njc5MWMxMDkwOSA9IEwuY2lyY2xlTWFya2VyKAogICAgICAgICAgICAgICAgWzQwLjcyNjM3LC03My45OTE3M10sCiAgICAgICAgICAgICAgICB7CiAgICAgICAgICAgICAgICAgICAgY29sb3I6ICdibGFjaycsCiAgICAgICAgICAgICAgICAgICAgd2VpZ2h0OiAwLAogICAgICAgICAgICAgICAgICAgIGZpbGxDb2xvcjogJ3JlZCcsCiAgICAgICAgICAgICAgICAgICAgZmlsbE9wYWNpdHk6IDAuNgogICAgICAgICAgICAgICAgICAgIH0KICAgICAgICAgICAgICAgICkKICAgICAgICAgICAgICAgIC5zZXRSYWRpdXMoNSkKICAgICAgICAgICAgICAgIC5hZGRUbyhtYXBfNjNmM2Q0YTk4NDI1NDIzMmFhNDgwZDlmZTEyNjQ5NDEpOwogICAgICAgICAgICAKICAgIAoKICAgICAgICAgICAgdmFyIGNpcmNsZV9tYXJrZXJfYzU1YjQ2MTgzM2Q5NGJjNGEyMTZhOTBlMDczZGNlNWEgPSBMLmNpcmNsZU1hcmtlcigKICAgICAgICAgICAgICAgIFs0MC43MjcwNywtNzMuOTkxNDldLAogICAgICAgICAgICAgICAgewogICAgICAgICAgICAgICAgICAgIGNvbG9yOiAnYmxhY2snLAogICAgICAgICAgICAgICAgICAgIHdlaWdodDogMCwKICAgICAgICAgICAgICAgICAgICBmaWxsQ29sb3I6ICdyZWQnLAogICAgICAgICAgICAgICAgICAgIGZpbGxPcGFjaXR5OiAwLjYKICAgICAgICAgICAgICAgICAgICB9CiAgICAgICAgICAgICAgICApCiAgICAgICAgICAgICAgICAuc2V0UmFkaXVzKDUpCiAgICAgICAgICAgICAgICAuYWRkVG8obWFwXzYzZjNkNGE5ODQyNTQyMzJhYTQ4MGQ5ZmUxMjY0OTQxKTsKICAgICAgICAgICAgCiAgICAKCiAgICAgICAgICAgIHZhciBjaXJjbGVfbWFya2VyX2U0ZThkNjhhMWM1MzQ2ODI5OTdkZGQ3MzQ1YTM1YTAzID0gTC5jaXJjbGVNYXJrZXIoCiAgICAgICAgICAgICAgICBbNDAuNzI3NTUsLTczLjk5MTMxXSwKICAgICAgICAgICAgICAgIHsKICAgICAgICAgICAgICAgICAgICBjb2xvcjogJ2JsYWNrJywKICAgICAgICAgICAgICAgICAgICB3ZWlnaHQ6IDAsCiAgICAgICAgICAgICAgICAgICAgZmlsbENvbG9yOiAncmVkJywKICAgICAgICAgICAgICAgICAgICBmaWxsT3BhY2l0eTogMC42CiAgICAgICAgICAgICAgICAgICAgfQogICAgICAgICAgICAgICAgKQogICAgICAgICAgICAgICAgLnNldFJhZGl1cyg1KQogICAgICAgICAgICAgICAgLmFkZFRvKG1hcF82M2YzZDRhOTg0MjU0MjMyYWE0ODBkOWZlMTI2NDk0MSk7CiAgICAgICAgICAgIAogICAgCgogICAgICAgICAgICB2YXIgY2lyY2xlX21hcmtlcl9mNTgyMzQyNjc3ODY0MzhiYTViMDA4ODI0MDdkOTRiMyA9IEwuY2lyY2xlTWFya2VyKAogICAgICAgICAgICAgICAgWzQwLjcyNzczLC03My45OTEyXSwKICAgICAgICAgICAgICAgIHsKICAgICAgICAgICAgICAgICAgICBjb2xvcjogJ2JsYWNrJywKICAgICAgICAgICAgICAgICAgICB3ZWlnaHQ6IDAsCiAgICAgICAgICAgICAgICAgICAgZmlsbENvbG9yOiAncmVkJywKICAgICAgICAgICAgICAgICAgICBmaWxsT3BhY2l0eTogMC42CiAgICAgICAgICAgICAgICAgICAgfQogICAgICAgICAgICAgICAgKQogICAgICAgICAgICAgICAgLnNldFJhZGl1cyg1KQogICAgICAgICAgICAgICAgLmFkZFRvKG1hcF82M2YzZDRhOTg0MjU0MjMyYWE0ODBkOWZlMTI2NDk0MSk7CiAgICAgICAgICAgIAogICAgCgogICAgICAgICAgICB2YXIgY2lyY2xlX21hcmtlcl9kZmYwNWMwNWJiY2I0MGRlOTBiMWFkYjBjMzNmMWUzOCA9IEwuY2lyY2xlTWFya2VyKAogICAgICAgICAgICAgICAgWzQwLjcyODQ4LC03My45OTA2NV0sCiAgICAgICAgICAgICAgICB7CiAgICAgICAgICAgICAgICAgICAgY29sb3I6ICdibGFjaycsCiAgICAgICAgICAgICAgICAgICAgd2VpZ2h0OiAwLAogICAgICAgICAgICAgICAgICAgIGZpbGxDb2xvcjogJ3JlZCcsCiAgICAgICAgICAgICAgICAgICAgZmlsbE9wYWNpdHk6IDAuNgogICAgICAgICAgICAgICAgICAgIH0KICAgICAgICAgICAgICAgICkKICAgICAgICAgICAgICAgIC5zZXRSYWRpdXMoNSkKICAgICAgICAgICAgICAgIC5hZGRUbyhtYXBfNjNmM2Q0YTk4NDI1NDIzMmFhNDgwZDlmZTEyNjQ5NDEpOwogICAgICAgICAgICAKICAgIAoKICAgICAgICAgICAgdmFyIGNpcmNsZV9tYXJrZXJfZGJmOWJmYjU2MWZkNDJkNzk0MDQyNGE0YTgxMjhhYzcgPSBMLmNpcmNsZU1hcmtlcigKICAgICAgICAgICAgICAgIFs0MC43Mjg5MSwtNzMuOTkwMzhdLAogICAgICAgICAgICAgICAgewogICAgICAgICAgICAgICAgICAgIGNvbG9yOiAnYmxhY2snLAogICAgICAgICAgICAgICAgICAgIHdlaWdodDogMCwKICAgICAgICAgICAgICAgICAgICBmaWxsQ29sb3I6ICdyZWQnLAogICAgICAgICAgICAgICAgICAgIGZpbGxPcGFjaXR5OiAwLjYKICAgICAgICAgICAgICAgICAgICB9CiAgICAgICAgICAgICAgICApCiAgICAgICAgICAgICAgICAuc2V0UmFkaXVzKDUpCiAgICAgICAgICAgICAgICAuYWRkVG8obWFwXzYzZjNkNGE5ODQyNTQyMzJhYTQ4MGQ5ZmUxMjY0OTQxKTsKICAgICAgICAgICAgCiAgICAKCiAgICAgICAgICAgIHZhciBjaXJjbGVfbWFya2VyXzM1ZjdkY2VkOTE1MDQ5Yjc5YWVhZGU2Y2UyNmRiZWUxID0gTC5jaXJjbGVNYXJrZXIoCiAgICAgICAgICAgICAgICBbNDAuNzI5ODYsLTczLjk4OTY4XSwKICAgICAgICAgICAgICAgIHsKICAgICAgICAgICAgICAgICAgICBjb2xvcjogJ2JsYWNrJywKICAgICAgICAgICAgICAgICAgICB3ZWlnaHQ6IDAsCiAgICAgICAgICAgICAgICAgICAgZmlsbENvbG9yOiAncmVkJywKICAgICAgICAgICAgICAgICAgICBmaWxsT3BhY2l0eTogMC42CiAgICAgICAgICAgICAgICAgICAgfQogICAgICAgICAgICAgICAgKQogICAgICAgICAgICAgICAgLnNldFJhZGl1cyg1KQogICAgICAgICAgICAgICAgLmFkZFRvKG1hcF82M2YzZDRhOTg0MjU0MjMyYWE0ODBkOWZlMTI2NDk0MSk7CiAgICAgICAgICAgIAogICAgCgogICAgICAgICAgICB2YXIgY2lyY2xlX21hcmtlcl84NGY1MWMxYmZiMmU0ZDYzYTYxNTdkNzQ1OTMxMDhiZCA9IEwuY2lyY2xlTWFya2VyKAogICAgICAgICAgICAgICAgWzQwLjczMDEyLC03My45ODk0N10sCiAgICAgICAgICAgICAgICB7CiAgICAgICAgICAgICAgICAgICAgY29sb3I6ICdibGFjaycsCiAgICAgICAgICAgICAgICAgICAgd2VpZ2h0OiAwLAogICAgICAgICAgICAgICAgICAgIGZpbGxDb2xvcjogJ3JlZCcsCiAgICAgICAgICAgICAgICAgICAgZmlsbE9wYWNpdHk6IDAuNgogICAgICAgICAgICAgICAgICAgIH0KICAgICAgICAgICAgICAgICkKICAgICAgICAgICAgICAgIC5zZXRSYWRpdXMoNSkKICAgICAgICAgICAgICAgIC5hZGRUbyhtYXBfNjNmM2Q0YTk4NDI1NDIzMmFhNDgwZDlmZTEyNjQ5NDEpOwogICAgICAgICAgICAKICAgIAoKICAgICAgICAgICAgdmFyIGNpcmNsZV9tYXJrZXJfZmJkMjJiNjk3NTU2NDE5Y2EzMGFmMGQ4NjNkOTAzMWUgPSBMLmNpcmNsZU1hcmtlcigKICAgICAgICAgICAgICAgIFs0MC43MzA3MiwtNzMuOTg5MDZdLAogICAgICAgICAgICAgICAgewogICAgICAgICAgICAgICAgICAgIGNvbG9yOiAnYmxhY2snLAogICAgICAgICAgICAgICAgICAgIHdlaWdodDogMCwKICAgICAgICAgICAgICAgICAgICBmaWxsQ29sb3I6ICdyZWQnLAogICAgICAgICAgICAgICAgICAgIGZpbGxPcGFjaXR5OiAwLjYKICAgICAgICAgICAgICAgICAgICB9CiAgICAgICAgICAgICAgICApCiAgICAgICAgICAgICAgICAuc2V0UmFkaXVzKDUpCiAgICAgICAgICAgICAgICAuYWRkVG8obWFwXzYzZjNkNGE5ODQyNTQyMzJhYTQ4MGQ5ZmUxMjY0OTQxKTsKICAgICAgICAgICAgCiAgICAKCiAgICAgICAgICAgIHZhciBjaXJjbGVfbWFya2VyXzg4OGZlZmIzNDE2NDQ2YjY4NDUzOTc0MmRkYmVhMmQzID0gTC5jaXJjbGVNYXJrZXIoCiAgICAgICAgICAgICAgICBbNDAuNzMxMTMsLTczLjk4ODc2XSwKICAgICAgICAgICAgICAgIHsKICAgICAgICAgICAgICAgICAgICBjb2xvcjogJ2JsYWNrJywKICAgICAgICAgICAgICAgICAgICB3ZWlnaHQ6IDAsCiAgICAgICAgICAgICAgICAgICAgZmlsbENvbG9yOiAncmVkJywKICAgICAgICAgICAgICAgICAgICBmaWxsT3BhY2l0eTogMC42CiAgICAgICAgICAgICAgICAgICAgfQogICAgICAgICAgICAgICAgKQogICAgICAgICAgICAgICAgLnNldFJhZGl1cyg1KQogICAgICAgICAgICAgICAgLmFkZFRvKG1hcF82M2YzZDRhOTg0MjU0MjMyYWE0ODBkOWZlMTI2NDk0MSk7CiAgICAgICAgICAgIAo8L3NjcmlwdD4=\" style=\"position:absolute;width:100%;height:100%;left:0;top:0;border:none !important;\" allowfullscreen webkitallowfullscreen mozallowfullscreen></iframe></div></div>"
      ],
      "text/plain": [
       "<folium.folium.Map at 0xc6e1da0>"
      ]
     },
     "execution_count": 33,
     "metadata": {},
     "output_type": "execute_result"
    }
   ],
   "source": [
    "sg_map"
   ]
  }
 ],
 "metadata": {
  "kernelspec": {
   "display_name": "Python [conda env:py27]",
   "language": "python",
   "name": "conda-env-py27-py"
  },
  "language_info": {
   "codemirror_mode": {
    "name": "ipython",
    "version": 2
   },
   "file_extension": ".py",
   "mimetype": "text/x-python",
   "name": "python",
   "nbconvert_exporter": "python",
   "pygments_lexer": "ipython2",
   "version": "2.7.13"
  }
 },
 "nbformat": 4,
 "nbformat_minor": 2
}
