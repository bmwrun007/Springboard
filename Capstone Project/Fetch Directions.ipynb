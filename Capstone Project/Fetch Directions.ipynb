{
 "cells": [
  {
   "cell_type": "code",
   "execution_count": 1,
   "metadata": {
    "collapsed": true
   },
   "outputs": [],
   "source": [
    "import polyline"
   ]
  },
  {
   "cell_type": "code",
   "execution_count": 2,
   "metadata": {
    "collapsed": false
   },
   "outputs": [
    {
     "name": "stdout",
     "output_type": "stream",
     "text": [
      "Head <b>south</b> on <b>Henry St</b> toward <b>Pineapple Walk</b>\n",
      "Turn <b>left</b> onto <b>Clark St</b>\n",
      "Turn <b>right</b> onto <b>Cadman Plaza W</b>\n",
      "Turn <b>left</b> onto <b>Tillary St</b>\n",
      "Turn <b>left</b> onto <b>Flatbush Ave Ext</b>\n",
      "Keep <b>left</b> to continue on <b>Manhattan Bridge</b>/<b>Manhattan Bridge Lower Roadway</b>\n",
      "Continue straight onto <b>Bowery</b>\n",
      "Continue onto <b>3rd Ave</b>/<b>Cooper Sq</b><div style=\"font-size:0.9em\">Continue to follow 3rd Ave</div><div style=\"font-size:0.9em\">Destination will be on the right</div>\n"
     ]
    }
   ],
   "source": [
    "import json, urllib\n",
    "from urllib import urlencode\n",
    "import googlemaps\n",
    "start = \"76 Henry Street, Brooklyn, NY, USA\"\n",
    "finish = \"55 3rd Avenue, New York, NY, USA\"\n",
    "\n",
    "url = 'http://maps.googleapis.com/maps/api/directions/json?%s' % urlencode((\n",
    "            ('origin', start),\n",
    "            ('destination', finish)\n",
    " ))\n",
    "ur = urllib.urlopen(url)\n",
    "result = json.load(ur)\n",
    "\n",
    "for i in range (0, len (result['routes'][0]['legs'][0]['steps'])):\n",
    "    j = result['routes'][0]['legs'][0]['steps'][i]['html_instructions'] \n",
    "    print j"
   ]
  },
  {
   "cell_type": "code",
   "execution_count": 3,
   "metadata": {
    "collapsed": true
   },
   "outputs": [],
   "source": [
    "import pandas as pd\n",
    "import numpy as np\n",
    "from os import listdir\n",
    "from os.path import isfile, join\n",
    "\n",
    "import matplotlib.pyplot as plt\n",
    "import seaborn as sns\n",
    "import math\n",
    "\n",
    "import folium\n",
    "\n",
    "import subprocess\n",
    "\n",
    "sns.set_style(\"darkgrid\")"
   ]
  },
  {
   "cell_type": "code",
   "execution_count": 4,
   "metadata": {
    "collapsed": false
   },
   "outputs": [
    {
     "data": {
      "text/plain": [
       "{u'geocoded_waypoints': [{u'geocoder_status': u'OK',\n",
       "   u'place_id': u'ChIJ10bEuTdawokR7o8U099uDV0',\n",
       "   u'types': [u'street_address']},\n",
       "  {u'geocoder_status': u'OK',\n",
       "   u'place_id': u'ChIJYx20A5xZwokR5uDh1KiS5As',\n",
       "   u'types': [u'street_address']}],\n",
       " u'routes': [{u'bounds': {u'northeast': {u'lat': 40.7311341,\n",
       "     u'lng': -73.9843731},\n",
       "    u'southwest': {u'lat': 40.6959436, u'lng': -73.99581049999999}},\n",
       "   u'copyrights': u'Map data \\xa92017 Google',\n",
       "   u'legs': [{u'distance': {u'text': u'3.2 mi', u'value': 5170},\n",
       "     u'duration': {u'text': u'18 mins', u'value': 1074},\n",
       "     u'end_address': u'55 3rd Ave, New York, NY 10003, USA',\n",
       "     u'end_location': {u'lat': 40.7311341, u'lng': -73.9887561},\n",
       "     u'start_address': u'76 Henry St, Brooklyn, NY 11201, USA',\n",
       "     u'start_location': {u'lat': 40.6985481, u'lng': -73.9924819},\n",
       "     u'steps': [{u'distance': {u'text': u'427 ft', u'value': 130},\n",
       "       u'duration': {u'text': u'1 min', u'value': 36},\n",
       "       u'end_location': {u'lat': 40.69745, u'lng': -73.9930248},\n",
       "       u'html_instructions': u'Head <b>south</b> on <b>Henry St</b> toward <b>Pineapple Walk</b>',\n",
       "       u'polyline': {u'points': u'}|kwF~srbMxAj@`C~@'},\n",
       "       u'start_location': {u'lat': 40.6985481, u'lng': -73.9924819},\n",
       "       u'travel_mode': u'DRIVING'},\n",
       "      {u'distance': {u'text': u'466 ft', u'value': 142},\n",
       "       u'duration': {u'text': u'1 min', u'value': 62},\n",
       "       u'end_location': {u'lat': 40.69703550000001,\n",
       "        u'lng': -73.99144009999999},\n",
       "       u'html_instructions': u'Turn <b>left</b> onto <b>Clark St</b>',\n",
       "       u'maneuver': u'turn-left',\n",
       "       u'polyline': {u'points': u'avkwFjwrbMAIBOFa@b@wBb@gC'},\n",
       "       u'start_location': {u'lat': 40.69745, u'lng': -73.9930248},\n",
       "       u'travel_mode': u'DRIVING'},\n",
       "      {u'distance': {u'text': u'256 ft', u'value': 78},\n",
       "       u'duration': {u'text': u'1 min', u'value': 44},\n",
       "       u'end_location': {u'lat': 40.6963405, u'lng': -73.991283},\n",
       "       u'html_instructions': u'Turn <b>right</b> onto <b>Cadman Plaza W</b>',\n",
       "       u'maneuver': u'turn-right',\n",
       "       u'polyline': {u'points': u'oskwFnmrbMlBU\\\\I'},\n",
       "       u'start_location': {u'lat': 40.69703550000001,\n",
       "        u'lng': -73.99144009999999},\n",
       "       u'travel_mode': u'DRIVING'},\n",
       "      {u'distance': {u'text': u'0.4 mi', u'value': 579},\n",
       "       u'duration': {u'text': u'4 mins', u'value': 216},\n",
       "       u'end_location': {u'lat': 40.6959467, u'lng': -73.9845715},\n",
       "       u'html_instructions': u'Turn <b>left</b> onto <b>Tillary St</b>',\n",
       "       u'maneuver': u'turn-left',\n",
       "       u'polyline': {u'points': u'cokwFnlrbM\\\\K?[@oA@cB?YFkD@m@@U@_@?U@qAFsEBeBHoHDeB'},\n",
       "       u'start_location': {u'lat': 40.6963405, u'lng': -73.991283},\n",
       "       u'travel_mode': u'DRIVING'},\n",
       "      {u'distance': {u'text': u'0.1 mi', u'value': 159},\n",
       "       u'duration': {u'text': u'1 min', u'value': 45},\n",
       "       u'end_location': {u'lat': 40.6971449, u'lng': -73.9849648},\n",
       "       u'html_instructions': u'Turn <b>left</b> onto <b>Flatbush Ave Ext</b>',\n",
       "       u'maneuver': u'turn-left',\n",
       "       u'polyline': {u'points': u'ulkwFpbqbM@g@c@TqDrAYJ'},\n",
       "       u'start_location': {u'lat': 40.6959467, u'lng': -73.9845715},\n",
       "       u'travel_mode': u'DRIVING'},\n",
       "      {u'distance': {u'text': u'1.4 mi', u'value': 2275},\n",
       "       u'duration': {u'text': u'3 mins', u'value': 154},\n",
       "       u'end_location': {u'lat': 40.7159842, u'lng': -73.99544139999999},\n",
       "       u'html_instructions': u'Keep <b>left</b> to continue on <b>Manhattan Bridge</b>/<b>Manhattan Bridge Lower Roadway</b>',\n",
       "       u'maneuver': u'keep-left',\n",
       "       u'polyline': {u'points': u'ctkwF~dqbMMJUHm@TOFaBx@cBz@oD~Aw@\\\\IDC@QHC@UJQHA?GDYLGBm@XE@s@\\\\c@P?@SHA@e@Ra@RA?_@Pw@\\\\E@_A`@WNWN_Br@c@TwAn@C@EBUJUJwAn@a@Pc@RwH`E[PsAl@SJUJsHjDwB`Am@Xo@Zq@XmAj@cAb@eAb@mAh@g@TA?A?A@c@RuAn@QHA@C@UJ{An@QHC@C@KD_Bt@OHA?EBC@[NSHULUJA@A@C@OFmEnBWLUBC?EBYLi@T'},\n",
       "       u'start_location': {u'lat': 40.6971449, u'lng': -73.9849648},\n",
       "       u'travel_mode': u'DRIVING'},\n",
       "      {u'distance': {u'text': u'0.9 mi', u'value': 1452},\n",
       "       u'duration': {u'text': u'7 mins', u'value': 443},\n",
       "       u'end_location': {u'lat': 40.7283225, u'lng': -73.9907558},\n",
       "       u'html_instructions': u'Continue straight onto <b>Bowery</b>',\n",
       "       u'maneuver': u'straight',\n",
       "       u'polyline': {u'points': u'{iowFnfsbMSHmB~@aCkAkD{AaA_@_EoAqC}@WGSGWKUEMSEEEA]KIAOEuBm@oCu@MCaAWMEKCkCu@_Be@[CkCq@eAWaAWKCOEeCq@{Bi@OEgAWWKICKGAAKGIG[SoA{@'},\n",
       "       u'start_location': {u'lat': 40.7159842, u'lng': -73.99544139999999},\n",
       "       u'travel_mode': u'DRIVING'},\n",
       "      {u'distance': {u'text': u'0.2 mi', u'value': 355},\n",
       "       u'duration': {u'text': u'1 min', u'value': 74},\n",
       "       u'end_location': {u'lat': 40.7311341, u'lng': -73.9887561},\n",
       "       u'html_instructions': u'Continue onto <b>3rd Ave</b>/<b>Cooper Sq</b><div style=\"font-size:0.9em\">Continue to follow 3rd Ave</div><div style=\"font-size:0.9em\">Destination will be on the right</div>',\n",
       "       u'polyline': {u'points': u'_wqwFfirbM_@Ug@Um@_@_C{A}@o@s@i@wBqAqA{@'},\n",
       "       u'start_location': {u'lat': 40.7283225, u'lng': -73.9907558},\n",
       "       u'travel_mode': u'DRIVING'}],\n",
       "     u'traffic_speed_entry': [],\n",
       "     u'via_waypoint': []}],\n",
       "   u'overview_polyline': {u'points': u'}|kwF~srbMzEjB@Yj@yCb@gClBUz@U@kBJwI`@mZ@g@c@TkE~Ac@T}@\\\\eEtBgF|Bc@RaCfAsB~@iBx@uCpA}FnCeDxA{ItEoB~@uMdG}EzBiH|CqFbCkClAgBz@}EvBWLUBIBcAb@aChAaCkAkD{AaGoBiDeAk@SUEMSKGg@McHmBgFwA_Be@[CqEiAcFsAkCo@_Bc@c@UuCmBuAu@}DkCs@i@wBqAqA{@'},\n",
       "   u'summary': u'Manhattan Bridge/Manhattan Bridge Lower Roadway and Bowery',\n",
       "   u'warnings': [],\n",
       "   u'waypoint_order': []}],\n",
       " u'status': u'OK'}"
      ]
     },
     "execution_count": 4,
     "metadata": {},
     "output_type": "execute_result"
    }
   ],
   "source": [
    "result"
   ]
  },
  {
   "cell_type": "code",
   "execution_count": 5,
   "metadata": {
    "collapsed": false
   },
   "outputs": [],
   "source": [
    "a = polyline.decode(u'}|kwF~srbMzEjB@Yj@yCb@gClBUz@U@kBJwI`@mZ@g@c@TkE~Ac@T}@\\\\eEtBgF|Bc@RaCfAsB~@iBx@uCpA}FnCeDxA{ItEoB~@uMdG}EzBiH|CqFbCkClAgBz@}EvBWLUBIBcAb@aChAaCkAkD{AaGoBiDeAk@SUEMSKGg@McHmBgFwA_Be@[CqEiAcFsAkCo@_Bc@c@UuCmBuAu@}DkCs@i@wBqAqA{@')"
   ]
  },
  {
   "cell_type": "code",
   "execution_count": 6,
   "metadata": {
    "collapsed": false
   },
   "outputs": [],
   "source": [
    "a_df = pd.DataFrame(a)"
   ]
  },
  {
   "cell_type": "code",
   "execution_count": 7,
   "metadata": {
    "collapsed": true
   },
   "outputs": [],
   "source": [
    "a_df.rename(columns={0:'start station latitude', 1:'start station longitude'}, inplace=True)"
   ]
  },
  {
   "cell_type": "code",
   "execution_count": 8,
   "metadata": {
    "collapsed": false
   },
   "outputs": [
    {
     "data": {
      "text/html": [
       "<div>\n",
       "<table border=\"1\" class=\"dataframe\">\n",
       "  <thead>\n",
       "    <tr style=\"text-align: right;\">\n",
       "      <th></th>\n",
       "      <th>start station latitude</th>\n",
       "      <th>start station longitude</th>\n",
       "    </tr>\n",
       "  </thead>\n",
       "  <tbody>\n",
       "    <tr>\n",
       "      <th>0</th>\n",
       "      <td>40.69855</td>\n",
       "      <td>-73.99248</td>\n",
       "    </tr>\n",
       "    <tr>\n",
       "      <th>1</th>\n",
       "      <td>40.69745</td>\n",
       "      <td>-73.99302</td>\n",
       "    </tr>\n",
       "    <tr>\n",
       "      <th>2</th>\n",
       "      <td>40.69744</td>\n",
       "      <td>-73.99289</td>\n",
       "    </tr>\n",
       "    <tr>\n",
       "      <th>3</th>\n",
       "      <td>40.69722</td>\n",
       "      <td>-73.99212</td>\n",
       "    </tr>\n",
       "    <tr>\n",
       "      <th>4</th>\n",
       "      <td>40.69704</td>\n",
       "      <td>-73.99144</td>\n",
       "    </tr>\n",
       "  </tbody>\n",
       "</table>\n",
       "</div>"
      ],
      "text/plain": [
       "   start station latitude  start station longitude\n",
       "0                40.69855                -73.99248\n",
       "1                40.69745                -73.99302\n",
       "2                40.69744                -73.99289\n",
       "3                40.69722                -73.99212\n",
       "4                40.69704                -73.99144"
      ]
     },
     "execution_count": 8,
     "metadata": {},
     "output_type": "execute_result"
    }
   ],
   "source": [
    "a_df.head()"
   ]
  },
  {
   "cell_type": "code",
   "execution_count": 9,
   "metadata": {
    "collapsed": true
   },
   "outputs": [],
   "source": [
    "sg_map = folium.Map(location=[40.70993, -73.99594], zoom_start=13)"
   ]
  },
  {
   "cell_type": "code",
   "execution_count": 10,
   "metadata": {
    "collapsed": false
   },
   "outputs": [
    {
     "data": {
      "text/plain": [
       "0     None\n",
       "1     None\n",
       "2     None\n",
       "3     None\n",
       "4     None\n",
       "5     None\n",
       "6     None\n",
       "7     None\n",
       "8     None\n",
       "9     None\n",
       "10    None\n",
       "11    None\n",
       "12    None\n",
       "13    None\n",
       "14    None\n",
       "15    None\n",
       "16    None\n",
       "17    None\n",
       "18    None\n",
       "19    None\n",
       "20    None\n",
       "21    None\n",
       "22    None\n",
       "23    None\n",
       "24    None\n",
       "25    None\n",
       "26    None\n",
       "27    None\n",
       "28    None\n",
       "29    None\n",
       "      ... \n",
       "32    None\n",
       "33    None\n",
       "34    None\n",
       "35    None\n",
       "36    None\n",
       "37    None\n",
       "38    None\n",
       "39    None\n",
       "40    None\n",
       "41    None\n",
       "42    None\n",
       "43    None\n",
       "44    None\n",
       "45    None\n",
       "46    None\n",
       "47    None\n",
       "48    None\n",
       "49    None\n",
       "50    None\n",
       "51    None\n",
       "52    None\n",
       "53    None\n",
       "54    None\n",
       "55    None\n",
       "56    None\n",
       "57    None\n",
       "58    None\n",
       "59    None\n",
       "60    None\n",
       "61    None\n",
       "dtype: object"
      ]
     },
     "execution_count": 10,
     "metadata": {},
     "output_type": "execute_result"
    }
   ],
   "source": [
    "def plotDot(point):\n",
    "    '''input: series that contains a numeric named latitude and a numeric named longitude\n",
    "    this function creates a CircleMarker and adds it to your this_map'''\n",
    "    folium.CircleMarker(location=[point['start station latitude'], point['start station longitude']],\n",
    "                        fill_color='red', radius=5,\n",
    "                        weight=0).add_to(sg_map)\n",
    "\n",
    "#use df.apply(,axis=1) to \"iterate\" through every row in your dataframe\n",
    "a_df.apply(plotDot, axis = 1)"
   ]
  },
  {
   "cell_type": "code",
   "execution_count": 11,
   "metadata": {
    "collapsed": false
   },
   "outputs": [
    {
     "data": {
      "text/html": [
       "<div style=\"width:100%;\"><div style=\"position:relative;width:100%;height:0;padding-bottom:60%;\"><iframe src=\"data:text/html;charset=utf-8;base64,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\" style=\"position:absolute;width:100%;height:100%;left:0;top:0;border:none !important;\" allowfullscreen webkitallowfullscreen mozallowfullscreen></iframe></div></div>"
      ],
      "text/plain": [
       "<folium.folium.Map at 0xbab4080>"
      ]
     },
     "execution_count": 11,
     "metadata": {},
     "output_type": "execute_result"
    }
   ],
   "source": [
    "sg_map"
   ]
  },
  {
   "cell_type": "code",
   "execution_count": 12,
   "metadata": {
    "collapsed": true
   },
   "outputs": [],
   "source": [
    "sg_map.save('Image Pipe//polyline_mapped.html')"
   ]
  }
 ],
 "metadata": {
  "kernelspec": {
   "display_name": "Python [conda env:py27]",
   "language": "python",
   "name": "conda-env-py27-py"
  },
  "language_info": {
   "codemirror_mode": {
    "name": "ipython",
    "version": 2
   },
   "file_extension": ".py",
   "mimetype": "text/x-python",
   "name": "python",
   "nbconvert_exporter": "python",
   "pygments_lexer": "ipython2",
   "version": "2.7.13"
  }
 },
 "nbformat": 4,
 "nbformat_minor": 2
}
