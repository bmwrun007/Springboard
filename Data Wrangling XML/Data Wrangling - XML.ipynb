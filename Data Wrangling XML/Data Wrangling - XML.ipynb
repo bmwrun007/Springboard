{
 "cells": [
  {
   "cell_type": "markdown",
   "metadata": {
    "deletable": true,
    "editable": true
   },
   "source": [
    "# XML example and exercise\n",
    "****\n",
    "+ study examples of accessing nodes in XML tree structure  \n",
    "+ work on exercise to be completed and submitted\n",
    "****\n",
    "+ reference: https://docs.python.org/2.7/library/xml.etree.elementtree.html\n",
    "+ data source: http://www.dbis.informatik.uni-goettingen.de/Mondial\n",
    "****"
   ]
  },
  {
   "cell_type": "code",
   "execution_count": 1,
   "metadata": {
    "collapsed": true,
    "deletable": true,
    "editable": true
   },
   "outputs": [],
   "source": [
    "from xml.etree import ElementTree as ET"
   ]
  },
  {
   "cell_type": "markdown",
   "metadata": {
    "deletable": true,
    "editable": true
   },
   "source": [
    "## XML example\n",
    "\n",
    "+ for details about tree traversal and iterators, see https://docs.python.org/2.7/library/xml.etree.elementtree.html"
   ]
  },
  {
   "cell_type": "code",
   "execution_count": 2,
   "metadata": {
    "collapsed": true,
    "deletable": true,
    "editable": true
   },
   "outputs": [],
   "source": [
    "document_tree = ET.parse( './data/mondial_database_less.xml' )"
   ]
  },
  {
   "cell_type": "code",
   "execution_count": 3,
   "metadata": {
    "collapsed": false,
    "deletable": true,
    "editable": true
   },
   "outputs": [
    {
     "name": "stdout",
     "output_type": "stream",
     "text": [
      "Albania\n",
      "Greece\n",
      "Macedonia\n",
      "Serbia\n",
      "Montenegro\n",
      "Kosovo\n",
      "Andorra\n"
     ]
    }
   ],
   "source": [
    "# print names of all countries\n",
    "for child in document_tree.getroot():\n",
    "    print(child.find('name').text)"
   ]
  },
  {
   "cell_type": "code",
   "execution_count": 4,
   "metadata": {
    "collapsed": false,
    "deletable": true,
    "editable": true
   },
   "outputs": [
    {
     "name": "stdout",
     "output_type": "stream",
     "text": [
      "('* Albania:',)\n",
      "Tirana, Shkodër, Durrës, Vlorë, Elbasan, Korçë\n",
      "('* Greece:',)\n",
      "Komotini, Kavala, Athina, Peiraias, Peristeri, Acharnes, Patra, Kozani, Kerkyra, Ioannina, Thessaloniki, Iraklio, Chania, Ermoupoli, Rhodes, Tripoli, Lamia, Chalkida, Larissa, Volos, Mytilini, Karyes\n",
      "('* Macedonia:',)\n",
      "Skopje, Kumanovo\n",
      "('* Serbia:',)\n",
      "Beograd, Novi Sad, Niš\n",
      "('* Montenegro:',)\n",
      "Podgorica\n",
      "('* Kosovo:',)\n",
      "Prishtine\n",
      "('* Andorra:',)\n",
      "Andorra la Vella\n"
     ]
    }
   ],
   "source": [
    "# print names of all countries and their cities\n",
    "for element in document_tree.iterfind('country'):\n",
    "    print ('* ' + element.find('name').text + ':',)\n",
    "    capitals_string = ''\n",
    "    for subelement in element.getiterator('city'):\n",
    "        capitals_string += subelement.find('name').text + ', '\n",
    "    print (capitals_string[:-2])"
   ]
  },
  {
   "cell_type": "markdown",
   "metadata": {
    "deletable": true,
    "editable": true
   },
   "source": [
    "****\n",
    "## XML exercise\n",
    "\n",
    "Using data in 'data/mondial_database.xml', the examples above, and refering to https://docs.python.org/2.7/library/xml.etree.elementtree.html, find\n",
    "\n",
    "1. 10 countries with the lowest infant mortality rates\n",
    "2. 10 cities with the largest population\n",
    "3. 10 ethnic groups with the largest overall populations (sum of best/latest estimates over all countries)\n",
    "4. name and country of a) longest river, b) largest lake and c) airport at highest elevation"
   ]
  },
  {
   "cell_type": "markdown",
   "metadata": {},
   "source": [
    "###### Question 1 - Lowest Mortality Rates"
   ]
  },
  {
   "cell_type": "code",
   "execution_count": 5,
   "metadata": {
    "collapsed": true
   },
   "outputs": [],
   "source": [
    "import pandas as pd"
   ]
  },
  {
   "cell_type": "code",
   "execution_count": 6,
   "metadata": {
    "collapsed": true,
    "deletable": true,
    "editable": true
   },
   "outputs": [],
   "source": [
    "document = ET.parse( './data/mondial_database.xml' )"
   ]
  },
  {
   "cell_type": "code",
   "execution_count": 7,
   "metadata": {
    "collapsed": false,
    "deletable": true,
    "editable": true
   },
   "outputs": [],
   "source": [
    "root = document.getroot()\n",
    "tempDict1 = {}\n",
    "\n",
    "for element in root.iterfind('country'):\n",
    "    country = element.find('name')\n",
    "    tempElement = element.find('infant_mortality')\n",
    "    if tempElement is not None:\n",
    "        tempDict1[country.text] = float(tempElement.text)"
   ]
  },
  {
   "cell_type": "code",
   "execution_count": 8,
   "metadata": {
    "collapsed": false
   },
   "outputs": [
    {
     "data": {
      "text/plain": [
       "Monaco            1.81\n",
       "Japan             2.13\n",
       "Norway            2.48\n",
       "Bermuda           2.48\n",
       "Singapore         2.53\n",
       "Sweden            2.60\n",
       "Czech Republic    2.63\n",
       "Hong Kong         2.73\n",
       "Macao             3.13\n",
       "Iceland           3.15\n",
       "dtype: float64"
      ]
     },
     "execution_count": 8,
     "metadata": {},
     "output_type": "execute_result"
    }
   ],
   "source": [
    "seriesInfMort = pd.Series(tempDict1)\n",
    "seriesInfMort.sort_values().head(10)"
   ]
  },
  {
   "cell_type": "markdown",
   "metadata": {},
   "source": [
    "###### Question 2 - Largest Cities"
   ]
  },
  {
   "cell_type": "code",
   "execution_count": 9,
   "metadata": {
    "collapsed": false
   },
   "outputs": [],
   "source": [
    "root = document.getroot()\n",
    "tempDict2 = {}\n",
    "\n",
    "for element in root.iter('city'):\n",
    "    city = element.find('name')\n",
    "    maxYear = 0\n",
    "    maxYearPop = 0\n",
    "    for subelement in element.iterfind('population'):\n",
    "        #take the population figure from the latest year available\n",
    "        if maxYear < int(subelement.attrib['year']):\n",
    "            maxYear = int(subelement.attrib['year'])\n",
    "            maxYearPop = int(subelement.text)\n",
    "    tempDict2[city.text] = maxYearPop"
   ]
  },
  {
   "cell_type": "code",
   "execution_count": 10,
   "metadata": {
    "collapsed": false
   },
   "outputs": [
    {
     "data": {
      "text/plain": [
       "Shanghai     22315474\n",
       "Istanbul     13710512\n",
       "Mumbai       12442373\n",
       "Moskva       11979529\n",
       "Beijing      11716620\n",
       "São Paulo    11152344\n",
       "Tianjin      11090314\n",
       "Guangzhou    11071424\n",
       "Delhi        11034555\n",
       "Shenzhen     10358381\n",
       "dtype: int64"
      ]
     },
     "execution_count": 10,
     "metadata": {},
     "output_type": "execute_result"
    }
   ],
   "source": [
    "seriesCityPops = pd.Series(tempDict2)\n",
    "seriesCityPops.sort_values(ascending=False).head(10)"
   ]
  },
  {
   "cell_type": "markdown",
   "metadata": {},
   "source": [
    "###### Question 3 - Most Populus Ethnicities"
   ]
  },
  {
   "cell_type": "code",
   "execution_count": 11,
   "metadata": {
    "collapsed": false
   },
   "outputs": [],
   "source": [
    "root = document.getroot()\n",
    "tempDict3 = {}\n",
    "tempDict4 = {}\n",
    "\n",
    "for element in root.iter('country'):\n",
    "    country = element.find('name')\n",
    "    maxYear = 0\n",
    "    maxYearPop = 0\n",
    "    for subelement in element.iterfind('population'):\n",
    "        #take the population figure from the latest year available\n",
    "        if maxYear < int(subelement.attrib['year']):\n",
    "            maxYear = int(subelement.attrib['year'])\n",
    "            maxYearPop = int(subelement.text)\n",
    "    tempDict3[country.text] = maxYearPop\n",
    "    for subelement in element.iterfind('ethnicgroup'):\n",
    "        ethnicity = subelement.text\n",
    "        if tempDict4.has_key(ethnicity):\n",
    "            tempDict4[ethnicity] = tempDict4[ethnicity] + (maxYearPop * float(subelement.attrib['percentage']) / 100)\n",
    "        else:\n",
    "            tempDict4[ethnicity] = (maxYearPop * float(subelement.attrib['percentage']) / 100)"
   ]
  },
  {
   "cell_type": "code",
   "execution_count": 12,
   "metadata": {
    "collapsed": false
   },
   "outputs": [
    {
     "data": {
      "text/plain": [
       "Han Chinese    1.245059e+09\n",
       "Indo-Aryan     8.718156e+08\n",
       "European       4.948722e+08\n",
       "African        3.183251e+08\n",
       "Dravidian      3.027137e+08\n",
       "Mestizo        1.577344e+08\n",
       "Bengali        1.467769e+08\n",
       "Russian        1.318570e+08\n",
       "Japanese       1.265342e+08\n",
       "Malay          1.219936e+08\n",
       "dtype: float64"
      ]
     },
     "execution_count": 12,
     "metadata": {},
     "output_type": "execute_result"
    }
   ],
   "source": [
    "seriesEthnicPops = pd.Series(tempDict4)\n",
    "seriesEthnicPops.sort_values(ascending=False).head(10)"
   ]
  },
  {
   "cell_type": "code",
   "execution_count": 13,
   "metadata": {
    "collapsed": true
   },
   "outputs": [],
   "source": [
    "root = document.getroot()\n",
    "tempDict3 = {}\n",
    "tempDict4 = {}\n",
    "\n",
    "for element in root.iter('country'):\n",
    "    country = element.find('name')\n",
    "    maxYear = 0\n",
    "    maxYearPop = 0\n",
    "    for subelement in element.iterfind('population'):\n",
    "        #take the population figure from the latest year available\n",
    "        if maxYear < int(subelement.attrib['year']):\n",
    "            maxYear = int(subelement.attrib['year'])\n",
    "            maxYearPop = int(subelement.text)\n",
    "    tempDict3[country.text] = maxYearPop\n",
    "    for subelement in element.iterfind('ethnicgroup'):\n",
    "        ethnicity = subelement.text\n",
    "        if tempDict4.has_key(ethnicity):\n",
    "            tempDict4[ethnicity] = tempDict4[ethnicity] + (maxYearPop * float(subelement.attrib['percentage']) / 100)\n",
    "        else:\n",
    "            tempDict4[ethnicity] = (maxYearPop * float(subelement.attrib['percentage']) / 100)"
   ]
  },
  {
   "cell_type": "code",
   "execution_count": 14,
   "metadata": {
    "collapsed": false
   },
   "outputs": [
    {
     "data": {
      "text/plain": [
       "Han Chinese    1.245059e+09\n",
       "Indo-Aryan     8.718156e+08\n",
       "European       4.948722e+08\n",
       "African        3.183251e+08\n",
       "Dravidian      3.027137e+08\n",
       "Mestizo        1.577344e+08\n",
       "Bengali        1.467769e+08\n",
       "Russian        1.318570e+08\n",
       "Japanese       1.265342e+08\n",
       "Malay          1.219936e+08\n",
       "dtype: float64"
      ]
     },
     "execution_count": 14,
     "metadata": {},
     "output_type": "execute_result"
    }
   ],
   "source": [
    "seriesEthnicPops = pd.Series(tempDict4)\n",
    "seriesEthnicPops.sort_values(ascending=False).head(10)"
   ]
  },
  {
   "cell_type": "markdown",
   "metadata": {},
   "source": [
    "###### Question 4 - Highest Airport, Longest River, and Largest Lake"
   ]
  },
  {
   "cell_type": "code",
   "execution_count": 15,
   "metadata": {
    "collapsed": true
   },
   "outputs": [],
   "source": [
    "#first, let's get all of the country abbreviations\n",
    "countryDict = {}\n",
    "for element in root.iter('country'):\n",
    "    tempElement = element.find('name')\n",
    "    countryDict[element.attrib['car_code']] = tempElement.text"
   ]
  },
  {
   "cell_type": "code",
   "execution_count": 16,
   "metadata": {
    "collapsed": false
   },
   "outputs": [
    {
     "name": "stdout",
     "output_type": "stream",
     "text": [
      "The highest airport is 4063.0 meters high.\n",
      "The highest airport is named El Alto Intl.\n",
      "The highest airport is located in Bolivia\n"
     ]
    }
   ],
   "source": [
    "# Highest Airport\n",
    "root = document.getroot()\n",
    "tempDict5 = {}\n",
    "\n",
    "maxAirportElevation = 0\n",
    "maxAirportElevationName = \"\"\n",
    "maxAirportElevationCountry = \"\"\n",
    "for element in root.iter('airport'):\n",
    "    tempElement = element.find('elevation')\n",
    "    if tempElement is not None and tempElement.text is not None:\n",
    "        airportElevation = float(tempElement.text)\n",
    "        if airportElevation > maxAirportElevation:\n",
    "            maxAirportElevation = airportElevation\n",
    "            maxAirportElevationName = element.find('name').text\n",
    "            maxAirportElevationCountry = element.attrib['country']\n",
    "print \"The highest airport is \" + str(maxAirportElevation) + \" meters high.\"\n",
    "print \"The highest airport is named \" + maxAirportElevationName + \".\"\n",
    "countries = maxAirportElevationCountry.split()\n",
    "print \"The highest airport is located in\",\n",
    "for i in countries:\n",
    "    print countryDict[i],"
   ]
  },
  {
   "cell_type": "code",
   "execution_count": 17,
   "metadata": {
    "collapsed": false
   },
   "outputs": [
    {
     "name": "stdout",
     "output_type": "stream",
     "text": [
      "The longest river is 6448.0 kilometers long.\n",
      "The name of the longest river is named Amazonas.\n",
      "The longest river is located in the following countries: Colombia Brazil Peru\n"
     ]
    }
   ],
   "source": [
    "# Longest River\n",
    "root = document.getroot()\n",
    "tempDict6 = {}\n",
    "\n",
    "maxRiverLength = 0\n",
    "maxRiverLengthName = \"\"\n",
    "maxRiverLengthCountry = \"\"\n",
    "for element in root.iter('river'):\n",
    "    tempElement = element.find('length')\n",
    "    if tempElement is not None:\n",
    "        riverLength = float(tempElement.text)\n",
    "        if riverLength > maxRiverLength:\n",
    "            maxRiverLength = riverLength\n",
    "            maxRiverLengthName = element.find('name').text\n",
    "            maxRiverLengthCountry = element.attrib['country']\n",
    "print \"The longest river is \" + str(maxRiverLength) + \" kilometers long.\"\n",
    "print \"The name of the longest river is named \" + maxRiverLengthName + \".\"\n",
    "countries = maxRiverLengthCountry.split()\n",
    "print \"The longest river is located in the following countries:\",\n",
    "for i in countries:\n",
    "    print countryDict[i],"
   ]
  },
  {
   "cell_type": "code",
   "execution_count": 18,
   "metadata": {
    "collapsed": false
   },
   "outputs": [
    {
     "name": "stdout",
     "output_type": "stream",
     "text": [
      "The largest lake size is 386400.0 square kilometers.\n",
      "The largest lake name is Caspian Sea.\n",
      "The largest lake is located in the following countries: Russia Azerbaijan Kazakhstan Iran Turkmenistan\n"
     ]
    }
   ],
   "source": [
    "# Largest Lake\n",
    "root = document.getroot()\n",
    "tempDict7 = {}\n",
    "\n",
    "maxLakeSize = 0\n",
    "maxLakeSizeName = \"\"\n",
    "maxLakeSizeCountry = \"\"\n",
    "for element in root.iter('lake'):\n",
    "    tempElement = element.find('area')\n",
    "    if tempElement is not None:\n",
    "        lakeSize = float(tempElement.text)\n",
    "        if lakeSize > maxLakeSize:\n",
    "            maxLakeSize = lakeSize\n",
    "            maxLakeSizeName = element.find('name').text\n",
    "            maxLakeSizeCountry = element.attrib['country']\n",
    "print \"The largest lake size is \" + str(maxLakeSize) + \" square kilometers.\"\n",
    "print \"The largest lake name is \" + maxLakeSizeName + \".\"\n",
    "countries = maxLakeSizeCountry.split()\n",
    "print \"The largest lake is located in the following countries:\",\n",
    "for i in countries:\n",
    "    print countryDict[i],"
   ]
  },
  {
   "cell_type": "code",
   "execution_count": null,
   "metadata": {
    "collapsed": true
   },
   "outputs": [],
   "source": []
  }
 ],
 "metadata": {
  "kernelspec": {
   "display_name": "Python [conda env:py27]",
   "language": "python",
   "name": "conda-env-py27-py"
  },
  "language_info": {
   "codemirror_mode": {
    "name": "ipython",
    "version": 2
   },
   "file_extension": ".py",
   "mimetype": "text/x-python",
   "name": "python",
   "nbconvert_exporter": "python",
   "pygments_lexer": "ipython2",
   "version": "2.7.13"
  }
 },
 "nbformat": 4,
 "nbformat_minor": 0
}
