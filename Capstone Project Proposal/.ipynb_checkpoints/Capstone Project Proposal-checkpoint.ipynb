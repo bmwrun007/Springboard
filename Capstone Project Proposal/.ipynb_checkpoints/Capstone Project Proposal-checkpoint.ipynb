{
 "cells": [
  {
   "cell_type": "markdown",
   "metadata": {
    "deletable": true,
    "editable": true
   },
   "source": [
    "## Springboard Data Science Intensive Course\n",
    "## Capstone Project Proposal\n",
    "---\n",
    "#### Bryan Achtyl, February 2017\n",
    "\n",
    "\n",
    "##### Introduction\n",
    "As the digital age marches on and technology continues to find ways to permeate more and more facets of our lives, companies driving the digital revolution are looking for better and more efficient ways to keep their users engaged with their products. Key performance indicators for these companies include not only growth in their user base, but engagement of their current user base, with metrics including percentage of the user base engaged within the past N days, the percentage of the user base using the product via mobile, etc. These metrics specifically apply to content providers, as gaining stronger and stronger user bases can lead to increased revenue growth potential, whether that be through a subscription based model or an advertising based model. Part of retaining users and keeping them engaged to a content providing platform is providing relevant recommendations to content they will enjoy. This proposal will specifically discuss the creation of a music recommendation engine and the methods that will be used to create that engine.<br />\n",
    "\n",
    "##### Statement of Problem\n",
    "The goal of the project is to explore the avenues of creating an efficient music recommendation engine, ideally with the result being an engine that utilizes the most appropriate features and the best performing machine learning algorithm and/or algorithms to create the best performing recommendation engine possible. Streaming music providers such as Pandora, Spotify, and Groove Music would particularly have interest in the results of this project, but such a recommendation might also be of interest to companies who are simply trying to sell music and not necessarily stream it, such as Apple Music and Google Play Music. If this recommendation engine exceeded the performance of solutions that these companies already had, which can be objectively measurable by a precision metric when the final model is tested against a set of test data, a client would simply need to reimplement the algorithm with their existing architecture. The client would need to do little else but measure if the improved recommendation lead to increased engagement and larger revenues.<br />\n",
    "\n",
    "##### Summary of Work\n",
    "To complete this project, the dataset known as the [Million Song Dataset](https://labrosa.ee.columbia.edu/millionsong/) will be utilized. This dataset contains a significant number of descriptive features to one million different songs, including song title, album name, artist name, music genres, loudness of the song, tempo, and time signature, to name a few. There are also several supplementary datasets which can be joined to the MSD to gain access to even more features, such as audio snippets and lyrics among others, as well as the Taste Profile subset, which gives user listening data info. This latter dataset will be particularly interesting as it will hopefully be useful for the purposes of training and testing the music recommendation model.<br />\n",
    "\n",
    "The first step will be to reproduce the machine learning algorithms that were implemented to solve this problem by a group of Cornell students [(link to paper here)](http://www-personal.umich.edu/~yjli/content/projectreport.pdf). These algorithms included use of K-Nearest Neighbors (KNN), Singular Value Decomposition (SVD), K-means clustering, User-based recommendations, and others. The standard paradigm of using a training data set with cross validation and then finally a test dataset will be employed. From there, additional improvements will be sought out, whether it be the integration of additional features or the implementation of algorithms that the original authors did not use. Exploring other datasets that can be linked to this dataset will be part of the process, as well as reading other papers that have been published/blogs that have been written on the topic to discover other machine learning algorithms that might be utilized to solve this problem.<br />\n",
    "\n",
    "Since the dataset is so large, the project will likely not be completed on a local desktop computer.  Development will start on such a computer with a small sample of data to create working code, and then on demand AWS servers will likely be used to assist with the efficient processing of the data and training of the model.  Apache Spark may potentially be utilized to process the data if necessary.<br /> \n",
    "\n",
    "The deliverables will include the code utilized to create the recommendation engine, as well as a paper describing what methods were used and the performance of precision based metrics.<br />\n",
    "\n",
    "##### Conclusion\n",
    "An efficient recommendation engine is a worthwhile proposition for a wide range of clients. Developing technologies aimed at helping the end user consume more appealing content quicker can only lead to better experiences of the user base, better retention, greater engagement, growing user bases, and higher revenues in the long run.<br />\n",
    "\n",
    "For me personally, I see working on this specific project as an excellent way to gain exposure to many different facets of data science, specifically utilizing machine learning algorithms to gain insight to a problem and in general seeing an entire data science project which utilizes machine learning put together from end to end. While not strictly in the realm of data science, I am also excited to be able work with the implementation of the project in tools aimed toward Big Data, such as AWS and Spark, as these will be practical skills in the future.<br />\n"
   ]
  },
  {
   "cell_type": "markdown",
   "metadata": {
    "deletable": true,
    "editable": true
   },
   "source": []
  }
 ],
 "metadata": {
  "kernelspec": {
   "display_name": "Python [conda env:py27]",
   "language": "python",
   "name": "conda-env-py27-py"
  },
  "language_info": {
   "codemirror_mode": {
    "name": "ipython",
    "version": 2
   },
   "file_extension": ".py",
   "mimetype": "text/x-python",
   "name": "python",
   "nbconvert_exporter": "python",
   "pygments_lexer": "ipython2",
   "version": "2.7.13"
  }
 },
 "nbformat": 4,
 "nbformat_minor": 2
}
